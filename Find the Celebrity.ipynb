{
 "cells": [
  {
   "cell_type": "code",
   "execution_count": 6,
   "id": "6d726221-cf64-42ee-8336-7520e3fc6293",
   "metadata": {},
   "outputs": [],
   "source": [
    "graph = [[1,1,0],[0,1,0],[1,1,1]]\n",
    "n = len(graph)"
   ]
  },
  {
   "cell_type": "code",
   "execution_count": 3,
   "id": "df63171c-ce54-4689-a1a8-55f571435be0",
   "metadata": {},
   "outputs": [],
   "source": [
    "def knows(a, b):\n",
    "    return graph[a][b]"
   ]
  },
  {
   "cell_type": "code",
   "execution_count": 9,
   "id": "f6ecf9ed-3310-404f-8b64-5d56db514190",
   "metadata": {},
   "outputs": [],
   "source": [
    "def findCelebrity(n):\n",
    "    # find the candidate of celebrity (n calls) (assuming there is one among [0,i] for i in 1,2,...,n)\n",
    "    ce = 0\n",
    "    for i in range(1,n):\n",
    "        if not knows(i,ce):\n",
    "            ce = i\n",
    "    # check if it doesn't know anybody (n calls)\n",
    "    for i in range(n):\n",
    "        if i!=ce and knows(ce,i):\n",
    "            return -1\n",
    "    # check if everybody knows him (n calls)\n",
    "    for i in range(n):\n",
    "        if i!=ce and not knows(i,ce):\n",
    "            return -1\n",
    "    return ce"
   ]
  },
  {
   "cell_type": "code",
   "execution_count": 7,
   "id": "d4175d66-ff39-409c-8a82-3cb4ac15ec60",
   "metadata": {},
   "outputs": [],
   "source": [
    "# find the candidate of celebrity (n calls) (assuming there is one among [0,i] for i in 1,2,...,n)\n",
    "ce = 0\n",
    "for i in range(1,n):\n",
    "    if not knows(i,ce):\n",
    "        ce = i\n",
    "# check if it doesn't know anybody (n calls)\n",
    "for i in range(n):\n",
    "    if i!=ce and knows(ce,i):\n",
    "        print(None)\n",
    "        break\n",
    "# check if everybody knows him (n calls)\n",
    "for i in range(n):\n",
    "    if i!=ce and not knows(i,ce):\n",
    "        print(None)\n",
    "        break"
   ]
  },
  {
   "cell_type": "code",
   "execution_count": null,
   "id": "64472bdf-413d-4301-86e3-160e9a36b51b",
   "metadata": {},
   "outputs": [],
   "source": []
  }
 ],
 "metadata": {
  "kernelspec": {
   "display_name": "Python 3 (ipykernel)",
   "language": "python",
   "name": "python3"
  },
  "language_info": {
   "codemirror_mode": {
    "name": "ipython",
    "version": 3
   },
   "file_extension": ".py",
   "mimetype": "text/x-python",
   "name": "python",
   "nbconvert_exporter": "python",
   "pygments_lexer": "ipython3",
   "version": "3.7.7"
  }
 },
 "nbformat": 4,
 "nbformat_minor": 5
}
