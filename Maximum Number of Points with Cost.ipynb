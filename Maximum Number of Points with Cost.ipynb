{
 "cells": [
  {
   "cell_type": "code",
   "execution_count": 20,
   "metadata": {},
   "outputs": [
    {
     "data": {
      "text/plain": [
       "9"
      ]
     },
     "execution_count": 20,
     "metadata": {},
     "output_type": "execute_result"
    }
   ],
   "source": [
    "points = [[1,2,3],\n",
    "          [1,5,1],\n",
    "          [3,1,1]]\n",
    "maxPoints(points)"
   ]
  },
  {
   "cell_type": "code",
   "execution_count": 14,
   "metadata": {},
   "outputs": [],
   "source": [
    "points = [[1,5],[2,3],[4,2]]"
   ]
  },
  {
   "cell_type": "code",
   "execution_count": null,
   "metadata": {},
   "outputs": [],
   "source": [
    "\"Fast Solution here: no dps for this one\"\n",
    "\"last row element on the left/ on the right\"\n",
    "\"backward propagate rightwards cases\"\n",
    "\"then forward propagate leftwards cases\"\n",
    "\n",
    "def maxPoints(self, points: List[List[int]]) -> int:\n",
    "    m, n = len(points), len(points[0])\n",
    "    for i in range(1, m): \n",
    "        for j in range(n-2, -1, -1): \n",
    "            points[i-1][j] = max(points[i-1][j], points[i-1][j+1]-1)\n",
    "        prefix = 0 \n",
    "        for j in range(n): \n",
    "            points[i][j] += max(prefix, points[i-1][j])\n",
    "            prefix = max(prefix, points[i-1][j]) - 1\n",
    "    return max(points[-1])"
   ]
  },
  {
   "cell_type": "code",
   "execution_count": 23,
   "metadata": {},
   "outputs": [],
   "source": [
    "from functools import lru_cache\n",
    "\"Time Limite Exceeded\"\n",
    "def maxPoints(points):\n",
    "    m = len(points)\n",
    "    n = len(points[0])\n",
    "    # return max value starting from current position (going down)\n",
    "    @lru_cache\n",
    "    def dp(i,j):\n",
    "        if i==m-1:\n",
    "            return points[i][j]\n",
    "        currmax = 0\n",
    "        for nj in range(n):\n",
    "            currmax = max(dp(i+1,nj)-abs(nj-j) + points[i][j], currmax)\n",
    "        return currmax\n",
    "    return max([dp(0,j) for j in range(n)])"
   ]
  },
  {
   "cell_type": "code",
   "execution_count": 15,
   "metadata": {},
   "outputs": [],
   "source": [
    "m = len(points)\n",
    "n = len(points[0])\n",
    "\n",
    "# return max value starting from current position (going down)\n",
    "def dp(i,j):\n",
    "    if i==m-1:\n",
    "        return points[i][j]\n",
    "    currmax = 0\n",
    "    for nj in range(n):\n",
    "        currmax = max(dp(i+1,nj)-abs(nj-j) + points[i][j], currmax)\n",
    "    return currmax"
   ]
  },
  {
   "cell_type": "code",
   "execution_count": null,
   "metadata": {},
   "outputs": [],
   "source": []
  }
 ],
 "metadata": {
  "kernelspec": {
   "display_name": "Python 3",
   "language": "python",
   "name": "python3"
  },
  "language_info": {
   "codemirror_mode": {
    "name": "ipython",
    "version": 3
   },
   "file_extension": ".py",
   "mimetype": "text/x-python",
   "name": "python",
   "nbconvert_exporter": "python",
   "pygments_lexer": "ipython3",
   "version": "3.7.7"
  }
 },
 "nbformat": 4,
 "nbformat_minor": 4
}
