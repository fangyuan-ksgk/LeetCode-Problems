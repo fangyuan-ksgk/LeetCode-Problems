{
 "cells": [
  {
   "cell_type": "code",
   "execution_count": 1,
   "metadata": {},
   "outputs": [],
   "source": [
    "n=10"
   ]
  },
  {
   "cell_type": "code",
   "execution_count": null,
   "metadata": {},
   "outputs": [],
   "source": [
    "\"this offers explaination but is longer\"\n",
    "from functools import lru_cache as cache\n",
    "class Solution:\n",
    "    def getMoneyAmount(self, n: int) -> int:\n",
    "        \n",
    "        # This is a minimax problem. Find the minimum worst case for guessing in between 1 and n.\n",
    "        \n",
    "        # Time:\n",
    "        # O(n^3) because there are O(n^2) possible inputs for pay_to_guess, and for each one we make O(n) guesses.\n",
    "        \n",
    "        # Space:\n",
    "        # O(n^2) because we cache O(n^2) possible inputs for pay_to_guess. \n",
    "        \n",
    "        # Cache answers to save time.\n",
    "        @cache(None)\n",
    "        def pay_to_guess(lo, hi):\n",
    "            \n",
    "            # In this case, optimal strategy is to guess the lower number.\n",
    "            # You are either correct and pay nothing, or wrong and pay the minimum of the two (then you guess correctly).\n",
    "            # The latter is our worst case, so return that.\n",
    "            if hi - lo == 1:\n",
    "                return lo\n",
    "            \n",
    "            # If your guessing range is of length 1, you are at the correct number, so pay nothing.\n",
    "            if lo == hi:\n",
    "                return 0\n",
    "            \n",
    "            # Let's look at every possible guess, and see what our minimum worst case is.\n",
    "            min_ = float('inf')\n",
    "            for i in range(lo+1, hi):\n",
    "                \n",
    "                # i is our current guess.\n",
    "                \n",
    "                # The number is lower than i, so pay i and guess in the lower range.\n",
    "                lower = i + pay_to_guess(lo, i-1)\n",
    "                \n",
    "                # The number is higher than i, so pay i and guess in the higher range.\n",
    "                higher = i + pay_to_guess(i+1, hi)\n",
    "                \n",
    "                # We ignore the correct case (where we pay 0) since that cannot be our worst case.\n",
    "                \n",
    "                # Our worst case cost is the max of higher and lower. Update minimum worst case.\n",
    "                min_ = min(min_, max(lower, higher))\n",
    "            \n",
    "            return min_\n",
    "        \n",
    "        return pay_to_guess(1, n)"
   ]
  },
  {
   "cell_type": "code",
   "execution_count": 11,
   "metadata": {},
   "outputs": [],
   "source": [
    "#fathom out that it is a minimax stucture seems to be the key here\n",
    "import functools\n",
    "@functools.lru_cache(None)\n",
    "# the unknown number is in [l,h]\n",
    "def cost(l,h):\n",
    "    if l>=h:\n",
    "        return 0\n",
    "    return min(max(cost(l,guess-1), cost(guess+1,h))+guess for guess in range(l,h+1))"
   ]
  },
  {
   "cell_type": "code",
   "execution_count": null,
   "metadata": {},
   "outputs": [],
   "source": [
    "def getMoneyAmount(self, n):\n",
    "\t@functools.cache\n",
    "\tdef cost(i, j):\n",
    "\t\tif i >= j:\n",
    "\t\t\treturn 0\n",
    "\t\treturn min(max(cost(i, p - 1), cost(p + 1, j)) + p\n",
    "\t\t\t\t   for p in range(i, j + 1))\n",
    "\treturn cost(1, n)"
   ]
  },
  {
   "cell_type": "code",
   "execution_count": null,
   "metadata": {},
   "outputs": [],
   "source": [
    "def dp(subgrid):\n",
    "    l = len(subgrid)\n",
    "    if l==1:\n",
    "        return 0\n",
    "    if l==2 or l==3:\n",
    "        return subgrid[l//2]\n",
    "    \n",
    "    t = l//2\n",
    "    m1 = dp(subgrid[:t])\n",
    "    m2 = dp(subgrid[t+1:])\n",
    "    return max(m1,m2)"
   ]
  }
 ],
 "metadata": {
  "kernelspec": {
   "display_name": "Python 3",
   "language": "python",
   "name": "python3"
  },
  "language_info": {
   "codemirror_mode": {
    "name": "ipython",
    "version": 3
   },
   "file_extension": ".py",
   "mimetype": "text/x-python",
   "name": "python",
   "nbconvert_exporter": "python",
   "pygments_lexer": "ipython3",
   "version": "3.7.7"
  }
 },
 "nbformat": 4,
 "nbformat_minor": 4
}
