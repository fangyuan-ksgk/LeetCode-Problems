{
 "cells": [
  {
   "cell_type": "code",
   "execution_count": 33,
   "metadata": {},
   "outputs": [],
   "source": [
    "nums1 = [1,7,11]\n",
    "nums2 = [2,4,6]\n",
    "k = 3"
   ]
  },
  {
   "cell_type": "code",
   "execution_count": 3,
   "metadata": {},
   "outputs": [],
   "source": [
    "nums1 = [1,2]\n",
    "nums2 = [3]\n",
    "k = 3"
   ]
  },
  {
   "cell_type": "code",
   "execution_count": 30,
   "metadata": {},
   "outputs": [],
   "source": [
    "nums1 = [1,1,2]\n",
    "nums2 = [1,2,3]\n",
    "k = 2"
   ]
  },
  {
   "cell_type": "code",
   "execution_count": 36,
   "metadata": {},
   "outputs": [],
   "source": [
    "nums1 = [1,7,11]\n",
    "nums2 = [2,4,6]\n",
    "k = 3"
   ]
  },
  {
   "cell_type": "code",
   "execution_count": 50,
   "metadata": {},
   "outputs": [
    {
     "name": "stdout",
     "output_type": "stream",
     "text": [
      "[[1, 1], [1, 1], [1, 2], [1, 2], [2, 1], [1, 3], [1, 3], [2, 2], [2, 3]]\n"
     ]
    }
   ],
   "source": [
    "import heapq\n",
    "n = len(nums1)\n",
    "m = len(nums2)\n",
    "pq = [(nums1[0]+nums2[0],0,0)]\n",
    "v = []\n",
    "s = set()\n",
    "s.add((0,0))\n",
    "kn=1\n",
    "while pq and kn<=k:\n",
    "    val,i,j = heapq.heappop(pq)\n",
    "    v.append([nums1[i],nums2[j]])\n",
    "    for (l,f) in (i+1,j),(i,j+1):\n",
    "        if 0<=l<n and 0<=f<m and (l,f) not in s:\n",
    "            heapq.heappush(pq,(nums1[l]+nums2[f],l,f))\n",
    "            s.add((l,f))\n",
    "    kn+=1\n",
    "print(v)"
   ]
  },
  {
   "cell_type": "code",
   "execution_count": 41,
   "metadata": {},
   "outputs": [],
   "source": [
    "nums1 = [1,1,2]\n",
    "2 = [1,2,3]\n",
    "10"
   ]
  },
  {
   "cell_type": "code",
   "execution_count": null,
   "metadata": {},
   "outputs": [],
   "source": []
  },
  {
   "cell_type": "code",
   "execution_count": 51,
   "metadata": {},
   "outputs": [],
   "source": [
    "def kSmallestPairs(nums1, nums2, k):\n",
    "    n = len(nums1)\n",
    "    m = len(nums2)\n",
    "    pq = [(nums1[0]+nums2[0],0,0)]\n",
    "    v = []\n",
    "    s = set()\n",
    "    s.add((0,0))\n",
    "    kn=1\n",
    "    while pq and kn<=k:\n",
    "        val,i,j = heapq.heappop(pq)\n",
    "        v.append([nums1[i],nums2[j]])\n",
    "        for (l,f) in (i+1,j),(i,j+1):\n",
    "            if 0<=l<n and 0<=f<m and (l,f) not in s:\n",
    "                heapq.heappush(pq,(nums1[l]+nums2[f],l,f))\n",
    "                s.add((l,f))\n",
    "        kn+=1\n",
    "    return v"
   ]
  },
  {
   "cell_type": "code",
   "execution_count": null,
   "metadata": {},
   "outputs": [],
   "source": []
  }
 ],
 "metadata": {
  "kernelspec": {
   "display_name": "Python 3",
   "language": "python",
   "name": "python3"
  },
  "language_info": {
   "codemirror_mode": {
    "name": "ipython",
    "version": 3
   },
   "file_extension": ".py",
   "mimetype": "text/x-python",
   "name": "python",
   "nbconvert_exporter": "python",
   "pygments_lexer": "ipython3",
   "version": "3.7.7"
  }
 },
 "nbformat": 4,
 "nbformat_minor": 4
}
