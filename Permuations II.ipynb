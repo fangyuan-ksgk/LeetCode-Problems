{
 "cells": [
  {
   "cell_type": "code",
   "execution_count": 37,
   "metadata": {},
   "outputs": [],
   "source": [
    "\"contain duplicates, return unique permuations\"\n",
    "\"unique means replicate aligned in ascending index order!\"\n",
    "def permuteUnique(nums):\n",
    "    n = len(nums)\n",
    "    if n==1:\n",
    "        return [nums]\n",
    "    elif n>1:\n",
    "        lastper = permuteUnique(nums[1:])\n",
    "        per = []\n",
    "        for p in lastper:\n",
    "            if nums[0] in p:\n",
    "                pn = p.index(nums[0])+1\n",
    "            else:\n",
    "                pn = n\n",
    "            for i in range(pn):\n",
    "                per.append(p[:i] + [nums[0]] + p[i:])\n",
    "        return per"
   ]
  },
  {
   "cell_type": "code",
   "execution_count": 38,
   "metadata": {},
   "outputs": [],
   "source": [
    "nums = [1,1,2]"
   ]
  },
  {
   "cell_type": "code",
   "execution_count": 39,
   "metadata": {},
   "outputs": [
    {
     "data": {
      "text/plain": [
       "[[1, 1, 2], [1, 2, 1], [2, 1, 1]]"
      ]
     },
     "execution_count": 39,
     "metadata": {},
     "output_type": "execute_result"
    }
   ],
   "source": [
    "permuteUnique(nums)"
   ]
  }
 ],
 "metadata": {
  "kernelspec": {
   "display_name": "Python 3",
   "language": "python",
   "name": "python3"
  },
  "language_info": {
   "codemirror_mode": {
    "name": "ipython",
    "version": 3
   },
   "file_extension": ".py",
   "mimetype": "text/x-python",
   "name": "python",
   "nbconvert_exporter": "python",
   "pygments_lexer": "ipython3",
   "version": "3.7.7"
  }
 },
 "nbformat": 4,
 "nbformat_minor": 4
}
