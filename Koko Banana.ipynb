{
 "cells": [
  {
   "cell_type": "code",
   "execution_count": 1,
   "metadata": {},
   "outputs": [],
   "source": [
    "piles = [3,6,7,11]\n",
    "h = 8"
   ]
  },
  {
   "cell_type": "code",
   "execution_count": 35,
   "metadata": {},
   "outputs": [],
   "source": [
    "piles = [30,11,23,4,20]\n",
    "h = 5"
   ]
  },
  {
   "cell_type": "code",
   "execution_count": 44,
   "metadata": {},
   "outputs": [],
   "source": [
    "piles = [30,11,23,4,20]\n",
    "h = 6"
   ]
  },
  {
   "cell_type": "code",
   "execution_count": 55,
   "metadata": {},
   "outputs": [],
   "source": [
    "piles = [1000000000,1000000000]\n",
    "h = 3"
   ]
  },
  {
   "cell_type": "code",
   "execution_count": 56,
   "metadata": {},
   "outputs": [],
   "source": [
    "\"surprise, surprise, it is done\"\n",
    "\n",
    "def minEatingSpeed(piles,h):\n",
    "    def get_hour(piles,k):\n",
    "        out = 0\n",
    "        for p in piles:\n",
    "            out+=p//k+int(p%k>0)\n",
    "        return out\n",
    "    piles.sort()\n",
    "    n = len(piles)\n",
    "    min_k = int(piles[0]/int(h/n))\n",
    "    max_k = int(piles[-1]/int(h/n))+1\n",
    "\n",
    "    l=min_k\n",
    "    r=max_k\n",
    "\n",
    "    while l<r:\n",
    "        t = (l+r)//2\n",
    "        if get_hour(piles,t)>h:\n",
    "            l=t+1\n",
    "        else:\n",
    "            r=t\n",
    "    return l"
   ]
  },
  {
   "cell_type": "code",
   "execution_count": null,
   "metadata": {},
   "outputs": [],
   "source": []
  }
 ],
 "metadata": {
  "kernelspec": {
   "display_name": "Python 3",
   "language": "python",
   "name": "python3"
  },
  "language_info": {
   "codemirror_mode": {
    "name": "ipython",
    "version": 3
   },
   "file_extension": ".py",
   "mimetype": "text/x-python",
   "name": "python",
   "nbconvert_exporter": "python",
   "pygments_lexer": "ipython3",
   "version": "3.7.7"
  }
 },
 "nbformat": 4,
 "nbformat_minor": 4
}
