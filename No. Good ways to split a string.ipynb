{
 "cells": [
  {
   "cell_type": "code",
   "execution_count": 1,
   "metadata": {},
   "outputs": [],
   "source": [
    "s = \"aacaba\""
   ]
  },
  {
   "cell_type": "code",
   "execution_count": 4,
   "metadata": {},
   "outputs": [],
   "source": [
    "s = \"aaaaa\""
   ]
  },
  {
   "cell_type": "code",
   "execution_count": 6,
   "metadata": {},
   "outputs": [],
   "source": [
    "s = \"acbadbaada\""
   ]
  },
  {
   "cell_type": "code",
   "execution_count": 31,
   "metadata": {},
   "outputs": [
    {
     "name": "stdout",
     "output_type": "stream",
     "text": [
      "a 1 cbadbaada 4\n",
      "ac 2 badbaada 3\n",
      "acb 3 adbaada 3\n",
      "acba 3 dbaada 3\n",
      "acbad 4 baada 3\n"
     ]
    },
    {
     "data": {
      "text/plain": [
       "2"
      ]
     },
     "execution_count": 31,
     "metadata": {},
     "output_type": "execute_result"
    }
   ],
   "source": [
    "numSplits(s)"
   ]
  },
  {
   "cell_type": "code",
   "execution_count": 36,
   "metadata": {},
   "outputs": [
    {
     "data": {
      "text/plain": [
       "'acbadbaada'"
      ]
     },
     "execution_count": 36,
     "metadata": {},
     "output_type": "execute_result"
    }
   ],
   "source": [
    "s"
   ]
  },
  {
   "cell_type": "code",
   "execution_count": 43,
   "metadata": {},
   "outputs": [
    {
     "data": {
      "text/plain": [
       "[]"
      ]
     },
     "execution_count": 43,
     "metadata": {},
     "output_type": "execute_result"
    }
   ],
   "source": [
    "l = [1]\n",
    "l.remove(1)\n",
    "l"
   ]
  },
  {
   "cell_type": "code",
   "execution_count": 54,
   "metadata": {},
   "outputs": [],
   "source": [
    "\"dict is much slower than the set operations, use set when possible\"\n",
    "from collections import defaultdict\n",
    "\n",
    "\n",
    "def numSplits(s):\n",
    "    left = set()\n",
    "    right = defaultdict(list)\n",
    "    for i,c in enumerate(s):\n",
    "        right[c].append(i)\n",
    "\n",
    "    ans=0\n",
    "    for i in range(len(s)-1):\n",
    "        left.add(s[i])\n",
    "        right[s[i]].remove(i)\n",
    "        if right[s[i]]==[]:\n",
    "            del right[s[i]]\n",
    "        if len(left)==len(right):\n",
    "            ans+=1\n",
    "    return ans"
   ]
  },
  {
   "cell_type": "code",
   "execution_count": 55,
   "metadata": {},
   "outputs": [],
   "source": [
    "\"best version\"\n",
    "def numSplits(s):\n",
    "    left = set()\n",
    "    right = set(s)\n",
    "    firstappear = {}\n",
    "    for i in range(len(s)-1,-1,-1):\n",
    "        if s[i] not in firstappear:\n",
    "            firstappear[s[i]] = i\n",
    "\n",
    "    i=0\n",
    "    ans=0\n",
    "    while i<len(s)-1:\n",
    "        left.add(s[i])\n",
    "        if i>=firstappear[s[i]]:\n",
    "            right.remove(s[i])\n",
    "        if len(left)==len(right):\n",
    "            ans+=1\n",
    "        i+=1\n",
    "    return ans"
   ]
  },
  {
   "cell_type": "code",
   "execution_count": 33,
   "metadata": {},
   "outputs": [
    {
     "data": {
      "text/plain": [
       "{'a': 9, 'd': 8, 'b': 5, 'c': 1}"
      ]
     },
     "execution_count": 33,
     "metadata": {},
     "output_type": "execute_result"
    }
   ],
   "source": [
    "firstappear"
   ]
  },
  {
   "cell_type": "code",
   "execution_count": null,
   "metadata": {},
   "outputs": [],
   "source": [
    "\n",
    "class Solution:\n",
    "    # Idea: Keep 2 sets of unique characters in left and right partitions\n",
    "    # Run a pointer from left to right and update 2 sets along the way.\n",
    "    # Then increase answer if at some point the length of 2 sets are the same.\n",
    "    \n",
    "    # There is one catch: It's easy to keep adding new chars to left set, but\n",
    "    # how to know when it's time to remove a char from the right set ? There might be\n",
    "    # cases where current character still appears further to the right side of right partition.\n",
    "\n",
    "    # Therefore, we can only remove character from right partition if it's the last occurrence\n",
    "    # (there is no same character further to the right). An easy way to know is to construct\n",
    "    # a hashmap by going from right to left and record the first apearance of each unique character.\n",
    "\n",
    "    def numSplits(self, s: str) -> int:\n",
    "        leftSet = set()\n",
    "        rightSet = set(s)\n",
    "        ans = 0\n",
    "        i = 0\n",
    "        firstAppear = {}\n",
    "\n",
    "        for i in range(len(s)-1,-1,-1):\n",
    "            if s[i] not in firstAppear:\n",
    "                firstAppear[s[i]] = i\n",
    "\n",
    "        while i<len(s):\n",
    "            leftSet.add(s[i])\n",
    "            if i >= firstAppear[s[i]]:\n",
    "                rightSet.remove(s[i])\n",
    "            if len(leftSet) == len(rightSet):\n",
    "                ans += 1\n",
    "            i += 1\n",
    "\n",
    "        return ans"
   ]
  },
  {
   "cell_type": "code",
   "execution_count": 30,
   "metadata": {},
   "outputs": [
    {
     "data": {
      "text/plain": [
       "2"
      ]
     },
     "execution_count": 30,
     "metadata": {},
     "output_type": "execute_result"
    }
   ],
   "source": [
    "from collections import defaultdict\n",
    "\n",
    "def numSplits(s):\n",
    "    out = 0\n",
    "    ltable = defaultdict(int)\n",
    "    rtable = defaultdict(int)\n",
    "    for i in range(len(s)-1):\n",
    "        ltable[s[i]] += 1\n",
    "        rtable[s[-i-1]]+= 1\n",
    "        if len(ltable)==len(rtable):\n",
    "            out+=1\n",
    "        elif len(ltable)>len(rtable):\n",
    "            break\n",
    "    return out"
   ]
  },
  {
   "cell_type": "code",
   "execution_count": 27,
   "metadata": {},
   "outputs": [
    {
     "data": {
      "text/plain": [
       "defaultdict(int, {'a': 4, 'c': 1, 'b': 2, 'd': 2})"
      ]
     },
     "execution_count": 27,
     "metadata": {},
     "output_type": "execute_result"
    }
   ],
   "source": [
    "ltable"
   ]
  },
  {
   "cell_type": "code",
   "execution_count": 28,
   "metadata": {},
   "outputs": [
    {
     "data": {
      "text/plain": [
       "defaultdict(int, {'a': 4, 'd': 2, 'b': 2, 'c': 1})"
      ]
     },
     "execution_count": 28,
     "metadata": {},
     "output_type": "execute_result"
    }
   ],
   "source": [
    "rtable"
   ]
  },
  {
   "cell_type": "code",
   "execution_count": 14,
   "metadata": {},
   "outputs": [],
   "source": [
    "\"Time Limite Exceeded\"\n",
    "def numSplits(s):\n",
    "    out = 0\n",
    "    for i in range(1,len(s)):\n",
    "        l,r = s[:i], s[i:]\n",
    "        ln,rn = len(set(l)),len(set(r))\n",
    "        print(l,ln,r,rn)\n",
    "        if ln == rn:\n",
    "            out+=1\n",
    "        elif ln>rn:\n",
    "            return out\n",
    "    return out"
   ]
  },
  {
   "cell_type": "code",
   "execution_count": null,
   "metadata": {},
   "outputs": [],
   "source": []
  }
 ],
 "metadata": {
  "kernelspec": {
   "display_name": "Python 3",
   "language": "python",
   "name": "python3"
  },
  "language_info": {
   "codemirror_mode": {
    "name": "ipython",
    "version": 3
   },
   "file_extension": ".py",
   "mimetype": "text/x-python",
   "name": "python",
   "nbconvert_exporter": "python",
   "pygments_lexer": "ipython3",
   "version": "3.7.7"
  }
 },
 "nbformat": 4,
 "nbformat_minor": 4
}
