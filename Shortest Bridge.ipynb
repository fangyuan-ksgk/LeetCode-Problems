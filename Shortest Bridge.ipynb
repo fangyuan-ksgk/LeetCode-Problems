{
 "cells": [
  {
   "cell_type": "code",
   "execution_count": 110,
   "id": "7eba96cc-cb04-4e60-8ddf-0032e6584bb1",
   "metadata": {},
   "outputs": [],
   "source": [
    "grid = [[0,1,0],[0,0,0],[0,0,1]]"
   ]
  },
  {
   "cell_type": "code",
   "execution_count": 108,
   "id": "846c8d98-063c-407e-aff4-bd3858e937b3",
   "metadata": {},
   "outputs": [],
   "source": [
    "grid = [[1,1,1,1,1],[1,0,0,0,1],[1,0,1,0,1],[1,0,0,0,1],[1,1,1,1,1]]"
   ]
  },
  {
   "cell_type": "code",
   "execution_count": 101,
   "id": "00f79367-9ea2-40a0-99d4-1d9b74b5b386",
   "metadata": {},
   "outputs": [],
   "source": [
    "grid = [[0,1],[1,0]]"
   ]
  },
  {
   "cell_type": "code",
   "execution_count": 112,
   "id": "cff5be2f-677a-4f66-8704-aa6e7372e23e",
   "metadata": {},
   "outputs": [],
   "source": [
    "def shortestBridge(grid):\n",
    "    # find a tile of the first island \n",
    "    m = len(grid)\n",
    "    n = len(grid[0])\n",
    "    for i in range(m):\n",
    "        for j in range(n):\n",
    "            if grid[i][j]==1:\n",
    "                stack = [(0,i,j)]\n",
    "                break\n",
    "    # find shortest path from current island to next ones\n",
    "    v = set()\n",
    "    min_len = [[m*n+1 for j in range(n)] for i in range(m)]\n",
    "    while stack:\n",
    "        lenth,i,j = heapq.heappop(stack)\n",
    "        v.add((i,j))\n",
    "        if grid[i][j]==1 and lenth>0:\n",
    "            return lenth\n",
    "        for (k,l) in (i+1,j), (i-1,j), (i,j+1), (i,j-1):\n",
    "            if 0<=k<m and 0<=l<n and (k,l) not in v:\n",
    "                nlen = lenth + (1-grid[k][l])\n",
    "                if nlen<min_len[k][l]:\n",
    "                    min_len[k][l] = nlen\n",
    "                    heapq.heappush(stack,(nlen,k,l))"
   ]
  },
  {
   "cell_type": "code",
   "execution_count": 105,
   "id": "e8c80f20-621e-437a-86d5-f75850299065",
   "metadata": {},
   "outputs": [],
   "source": [
    "import heapq\n",
    "\n",
    "def shortestBridge(grid):\n",
    "    # find a tile of the first island \n",
    "    m = len(grid)\n",
    "    n = len(grid[0])\n",
    "    for i in range(m):\n",
    "        for j in range(n):\n",
    "            if grid[i][j]==1:\n",
    "                break\n",
    "    # find all the tiles of the first island\n",
    "    # store them all in stack\n",
    "    island1 = set()\n",
    "    stack1 = [(i,j)]\n",
    "    stack = [(0,i,j)]\n",
    "    while stack1:\n",
    "        i,j = stack1.pop()\n",
    "        island1.add((i,j))\n",
    "        stack.append((0,i,j))\n",
    "        for (k,l) in (i+1,j), (i-1,j), (i,j+1), (i,j-1):\n",
    "            if 0<=k<m and 0<=l<n and (k,l) not in island1 and grid[k][l]==1:\n",
    "                stack1.append((k,l))\n",
    "    # pos is tile of first island, from which we build the bridge\n",
    "    v = set()\n",
    "    min_len = [[m*n+1 for j in range(n)] for i in range(m)]\n",
    "    while stack:\n",
    "        lenth,i,j = heapq.heappop(stack)\n",
    "        v.add((i,j))\n",
    "        min_len[i][j] = lenth\n",
    "        if grid[i][j]==1 and (i,j) not in island1:\n",
    "            return lenth\n",
    "\n",
    "        for (k,l) in (i+1,j), (i-1,j), (i,j+1), (i,j-1):\n",
    "            if 0<=k<m and 0<=l<n and (k,l) not in v:\n",
    "                nlen = lenth + (1-grid[k][l])\n",
    "                if nlen < min_len[k][l]:\n",
    "                    min_len[k][l] = nlen\n",
    "                    heapq.heappush(stack, (nlen,k,l))"
   ]
  },
  {
   "cell_type": "code",
   "execution_count": 102,
   "id": "92b94449-4f2e-4d01-83fe-29de4b0c8b8a",
   "metadata": {},
   "outputs": [],
   "source": [
    "# find a tile of the first island \n",
    "m = len(grid)\n",
    "n = len(grid[0])\n",
    "for i in range(m):\n",
    "    for j in range(n):\n",
    "        if grid[i][j]==1:\n",
    "            break"
   ]
  },
  {
   "cell_type": "code",
   "execution_count": 103,
   "id": "93a86e60-8b3f-4688-beca-21ce7960af92",
   "metadata": {},
   "outputs": [],
   "source": [
    "# find all the tiles of the first island\n",
    "# store them all in stack\n",
    "island1 = set()\n",
    "stack1 = [(i,j)]\n",
    "stack = [(0,i,j)]\n",
    "while stack1:\n",
    "    i,j = stack1.pop()\n",
    "    island1.add((i,j))\n",
    "    stack.append((0,i,j))\n",
    "    for (k,l) in (i+1,j), (i-1,j), (i,j+1), (i,j-1):\n",
    "        if 0<=k<m and 0<=l<n and (k,l) not in island1 and grid[k][l]==1:\n",
    "            stack1.append((k,l))"
   ]
  },
  {
   "cell_type": "code",
   "execution_count": 104,
   "id": "7617cd57-d7bd-4f9d-9829-00b54d47083e",
   "metadata": {},
   "outputs": [
    {
     "name": "stdout",
     "output_type": "stream",
     "text": [
      "1\n"
     ]
    }
   ],
   "source": [
    "# pos is tile of first island, from which we build the bridge\n",
    "import heapq\n",
    "v = set()\n",
    "min_len = [[m*n+1 for j in range(n)] for i in range(m)]\n",
    "while stack:\n",
    "    lenth,i,j = heapq.heappop(stack)\n",
    "    v.add((i,j))\n",
    "    min_len[i][j] = lenth\n",
    "    if grid[i][j]==1 and (i,j) not in island1:\n",
    "        print(lenth)\n",
    "        break\n",
    "    \n",
    "    for (k,l) in (i+1,j), (i-1,j), (i,j+1), (i,j-1):\n",
    "        if 0<=k<m and 0<=l<n and (k,l) not in v:\n",
    "            nlen = lenth + (1-grid[k][l])\n",
    "            if nlen < min_len[k][l]:\n",
    "                min_len[k][l] = nlen\n",
    "                heapq.heappush(stack, (nlen,k,l))"
   ]
  },
  {
   "cell_type": "code",
   "execution_count": null,
   "id": "e882a653-8254-478b-9a26-b8c817074df6",
   "metadata": {},
   "outputs": [],
   "source": []
  }
 ],
 "metadata": {
  "kernelspec": {
   "display_name": "Python 3 (ipykernel)",
   "language": "python",
   "name": "python3"
  },
  "language_info": {
   "codemirror_mode": {
    "name": "ipython",
    "version": 3
   },
   "file_extension": ".py",
   "mimetype": "text/x-python",
   "name": "python",
   "nbconvert_exporter": "python",
   "pygments_lexer": "ipython3",
   "version": "3.7.7"
  }
 },
 "nbformat": 4,
 "nbformat_minor": 5
}
