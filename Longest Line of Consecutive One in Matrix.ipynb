{
 "cells": [
  {
   "cell_type": "code",
   "execution_count": 140,
   "metadata": {},
   "outputs": [],
   "source": [
    "mat = [[0,1,1,0],\n",
    "       [0,1,1,0],\n",
    "       [0,0,0,1]]"
   ]
  },
  {
   "cell_type": "code",
   "execution_count": 193,
   "metadata": {},
   "outputs": [],
   "source": [
    "mat = [[0,0],[1,1]]"
   ]
  },
  {
   "cell_type": "code",
   "execution_count": 191,
   "metadata": {},
   "outputs": [],
   "source": [
    "\"Dynamic Programming Sufficiently reduce the complexity of the problem\"\n",
    "def long(mat):\n",
    "    m = len(mat)\n",
    "    n = len(mat[0])\n",
    "    if n==1 and m==1: return mat[0][0]\n",
    "    if n==1 and m!=1: \n",
    "        mat = [[mat[i][0] for i in range(m)]]\n",
    "        n=m\n",
    "        m=1\n",
    "    dpl = [[[0 for i in mat[0]] for j in mat] for _ in range(4)]\n",
    "    df(m-1,dpl)\n",
    "    return max([i for its in dpl for it in its for i in it])\n",
    "\n",
    "def df(r,dpl):\n",
    "    if r==0:\n",
    "        if mat[r][0]==1: \n",
    "            dpl[0][r][0]=1\n",
    "            dpl[1][r][0]=1\n",
    "            dpl[2][r][0]=1\n",
    "            dpl[3][r][0]=1\n",
    "        for j,val in enumerate(mat[r][1:]):\n",
    "            if val==1: \n",
    "                dpl[0][r][j+1]=dpl[0][r][j]+1\n",
    "                dpl[1][r][j+1]=1\n",
    "                dpl[2][r][j+1]=1\n",
    "                dpl[3][r][j+1]=1\n",
    "    else:\n",
    "        df(r-1,dpl)\n",
    "        if mat[r][0]==1:\n",
    "            dpl[0][r][0]=1\n",
    "            dpl[1][r][0]=dpl[1][r-1][0]+1\n",
    "            dpl[2][r][0]=1\n",
    "            dpl[3][r][0]=dpl[3][r-1][1]+1\n",
    "        for j,val in enumerate(mat[r][1:-1]):\n",
    "            if val==1:\n",
    "                dpl[0][r][j+1]=dpl[0][r][j]+1\n",
    "                dpl[1][r][j+1]=dpl[1][r-1][j+1]+1\n",
    "                dpl[2][r][j+1]=dpl[2][r-1][j]+1\n",
    "                dpl[3][r][j+1]=dpl[3][r-1][j+2]+1\n",
    "        if mat[r][-1]==1:\n",
    "            dpl[0][r][-1]=dpl[0][r][-2]+1\n",
    "            dpl[1][r][-1]=dpl[1][r-1][-1]+1\n",
    "            dpl[2][r][-1]=dpl[2][r-1][-2]+1\n",
    "            dpl[3][r][-1]=1    "
   ]
  },
  {
   "cell_type": "code",
   "execution_count": null,
   "metadata": {},
   "outputs": [],
   "source": []
  }
 ],
 "metadata": {
  "kernelspec": {
   "display_name": "Python 3",
   "language": "python",
   "name": "python3"
  },
  "language_info": {
   "codemirror_mode": {
    "name": "ipython",
    "version": 3
   },
   "file_extension": ".py",
   "mimetype": "text/x-python",
   "name": "python",
   "nbconvert_exporter": "python",
   "pygments_lexer": "ipython3",
   "version": "3.7.7"
  }
 },
 "nbformat": 4,
 "nbformat_minor": 4
}
