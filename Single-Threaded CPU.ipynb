{
 "cells": [
  {
   "cell_type": "code",
   "execution_count": 13,
   "metadata": {},
   "outputs": [],
   "source": [
    "tasks = [[1,2],[2,4],[3,2],[4,1],[4,3],[4,2],[4,1]]"
   ]
  },
  {
   "cell_type": "code",
   "execution_count": 27,
   "metadata": {},
   "outputs": [
    {
     "data": {
      "text/plain": [
       "[4, 3, 2, 0, 1]"
      ]
     },
     "execution_count": 27,
     "metadata": {},
     "output_type": "execute_result"
    }
   ],
   "source": [
    "tasks = [[7,10],[7,12],[7,5],[7,4],[7,2]]\n",
    "getOrder(tasks)"
   ]
  },
  {
   "cell_type": "code",
   "execution_count": 34,
   "metadata": {},
   "outputs": [
    {
     "data": {
      "text/plain": [
       "[0, 1, 2, 3]"
      ]
     },
     "execution_count": 34,
     "metadata": {},
     "output_type": "execute_result"
    }
   ],
   "source": [
    "\"wrong answer beause at time 3, [2,4] should be treated as [3,4] instead....\"\n",
    "tasks = [[1,2],[2,4],[3,2],[4,1]]\n",
    "getOrder(tasks)"
   ]
  },
  {
   "cell_type": "code",
   "execution_count": 42,
   "metadata": {},
   "outputs": [],
   "source": [
    "\"worth to study in more detail for this one\"\n",
    "def getOrder(tasks):\n",
    "    # For better readability\n",
    "    Task = namedtuple('Task', ['etime', 'ptime', 'index'])\n",
    "\n",
    "    # Sort the tasks by enqueue time, shortest processing time and index\n",
    "    stasks = sorted([Task(task[0], task[1], i) for i, task in enumerate(tasks)])\n",
    "    # t: current CPU clock; i: current task index\n",
    "    t = i = 0\n",
    "    heap, result = [], []\n",
    "\n",
    "    while len(result) < len(stasks):\n",
    "        # Push all the tasks available at current CPU clock\n",
    "        while i < len(stasks) and stasks[i].etime <= t:\n",
    "            heappush(heap, (stasks[i].ptime, stasks[i].index))\n",
    "            i += 1\n",
    "        if heap:\n",
    "            ptime, index = heappop(heap)\n",
    "            result.append(index)\n",
    "            t += ptime\n",
    "        else:\n",
    "            # Jump to the next available task\n",
    "            t = stasks[i].etime\n",
    "    return result"
   ]
  },
  {
   "cell_type": "code",
   "execution_count": 26,
   "metadata": {},
   "outputs": [],
   "source": [
    "def getOrder(tasks):\n",
    "    # indices of ordered tasks: first queue / shortest time / first indices\n",
    "    n = len(tasks)\n",
    "    order = sorted(range(n), key=lambda i: (tasks[i][0], tasks[i][1]))\n",
    "    return order"
   ]
  },
  {
   "cell_type": "code",
   "execution_count": null,
   "metadata": {},
   "outputs": [],
   "source": []
  }
 ],
 "metadata": {
  "kernelspec": {
   "display_name": "Python 3",
   "language": "python",
   "name": "python3"
  },
  "language_info": {
   "codemirror_mode": {
    "name": "ipython",
    "version": 3
   },
   "file_extension": ".py",
   "mimetype": "text/x-python",
   "name": "python",
   "nbconvert_exporter": "python",
   "pygments_lexer": "ipython3",
   "version": "3.7.7"
  }
 },
 "nbformat": 4,
 "nbformat_minor": 4
}
