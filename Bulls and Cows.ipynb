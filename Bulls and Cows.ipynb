{
 "cells": [
  {
   "cell_type": "code",
   "execution_count": 48,
   "metadata": {},
   "outputs": [],
   "source": [
    "\"dict is faster for if-in\"\n",
    "\n",
    "def getHint(secret, guess):\n",
    "    secret = list(secret)\n",
    "    guess = list(guess)\n",
    "    n = len(secret)\n",
    "    \n",
    "    b = 0\n",
    "    for i in reversed(range(n)):\n",
    "        if secret[i] == guess[i]:\n",
    "            b += 1\n",
    "            secret.pop(i)\n",
    "            guess.pop(i)\n",
    "\n",
    "    dicts = {}\n",
    "    for i,s in enumerate(secret):\n",
    "        if s in dicts:\n",
    "            dicts[s] += [i]\n",
    "        else:\n",
    "            dicts[s] = [i]\n",
    "\n",
    "    dictg = {}\n",
    "    for i,g in enumerate(guess):\n",
    "        if g in dictg:\n",
    "            dictg[g] += [i]\n",
    "        else:\n",
    "            dictg[g] = [i]\n",
    "\n",
    "    c = 0\n",
    "    for e in dicts:\n",
    "        if e in dictg:\n",
    "            c += min(len(dicts[e]), len(dictg[e]))\n",
    "    \n",
    "    return str(b) + \"A\" + str(c) + \"B\""
   ]
  },
  {
   "cell_type": "code",
   "execution_count": 53,
   "metadata": {},
   "outputs": [
    {
     "data": {
      "text/plain": [
       "'2A3B'"
      ]
     },
     "execution_count": 53,
     "metadata": {},
     "output_type": "execute_result"
    }
   ],
   "source": [
    "secret = \"18007\"\n",
    "guess = \"78100\"\n",
    "getHint(secret, guess)"
   ]
  },
  {
   "cell_type": "code",
   "execution_count": 52,
   "metadata": {},
   "outputs": [
    {
     "data": {
      "text/plain": [
       "'1A1B'"
      ]
     },
     "execution_count": 52,
     "metadata": {},
     "output_type": "execute_result"
    }
   ],
   "source": [
    "secret = \"1123\"\n",
    "guess = \"0111\"\n",
    "getHint(secret, guess)"
   ]
  },
  {
   "cell_type": "code",
   "execution_count": 54,
   "metadata": {},
   "outputs": [
    {
     "data": {
      "text/plain": [
       "'0A0B'"
      ]
     },
     "execution_count": 54,
     "metadata": {},
     "output_type": "execute_result"
    }
   ],
   "source": [
    "secret = \"1\"\n",
    "guess = \"0\"\n",
    "getHint(secret, guess)"
   ]
  },
  {
   "cell_type": "code",
   "execution_count": null,
   "metadata": {},
   "outputs": [],
   "source": []
  }
 ],
 "metadata": {
  "kernelspec": {
   "display_name": "Python 3",
   "language": "python",
   "name": "python3"
  },
  "language_info": {
   "codemirror_mode": {
    "name": "ipython",
    "version": 3
   },
   "file_extension": ".py",
   "mimetype": "text/x-python",
   "name": "python",
   "nbconvert_exporter": "python",
   "pygments_lexer": "ipython3",
   "version": "3.7.7"
  }
 },
 "nbformat": 4,
 "nbformat_minor": 4
}
