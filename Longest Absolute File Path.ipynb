{
 "cells": [
  {
   "cell_type": "code",
   "execution_count": 78,
   "id": "a4cbb9a3-52cd-4bda-909f-86111a1a2ab9",
   "metadata": {},
   "outputs": [
    {
     "data": {
      "text/plain": [
       "20"
      ]
     },
     "execution_count": 78,
     "metadata": {},
     "output_type": "execute_result"
    }
   ],
   "source": [
    "input = \"dir\\n\\tsubdir1\\n\\tsubdir2\\n\\t\\tfile.ext\"\n",
    "lengthLongestPath(input)"
   ]
  },
  {
   "cell_type": "code",
   "execution_count": 79,
   "id": "08c33fc4-4a76-45fd-a46b-4ec1f5d3903a",
   "metadata": {},
   "outputs": [
    {
     "data": {
      "text/plain": [
       "32"
      ]
     },
     "execution_count": 79,
     "metadata": {},
     "output_type": "execute_result"
    }
   ],
   "source": [
    "input = \"dir\\n\\tsubdir1\\n\\t\\tfile1.ext\\n\\t\\tsubsubdir1\\n\\tsubdir2\\n\\t\\tsubsubdir2\\n\\t\\t\\tfile2.ext\"\n",
    "lengthLongestPath(input)"
   ]
  },
  {
   "cell_type": "code",
   "execution_count": 80,
   "id": "46708400-f29b-4f6d-be37-ac6b38febb50",
   "metadata": {},
   "outputs": [
    {
     "data": {
      "text/plain": [
       "12"
      ]
     },
     "execution_count": 80,
     "metadata": {},
     "output_type": "execute_result"
    }
   ],
   "source": [
    "input = \"file1.txt\\nfile2.txt\\nlongfile.txt\"\n",
    "lengthLongestPath(input)"
   ]
  },
  {
   "cell_type": "code",
   "execution_count": 81,
   "id": "801c41a4-d872-4d4d-ba67-699b78611d70",
   "metadata": {},
   "outputs": [
    {
     "data": {
      "text/plain": [
       "0"
      ]
     },
     "execution_count": 81,
     "metadata": {},
     "output_type": "execute_result"
    }
   ],
   "source": [
    "input = \"a\"\n",
    "lengthLongestPath(input)"
   ]
  },
  {
   "cell_type": "code",
   "execution_count": 82,
   "id": "c7704882-bb12-43cc-9051-87f5ac443bc0",
   "metadata": {},
   "outputs": [],
   "source": [
    "from collections import defaultdict\n",
    "\n",
    "def lengthLongestPath(input):\n",
    "    if input.count(\".\")==0:\n",
    "        return 0\n",
    "    # keep a list of files on different layers\n",
    "    ld = defaultdict(list)\n",
    "    files = input.split(\"\\n\")\n",
    "    maxlen = 0\n",
    "    \n",
    "    for e in files:\n",
    "        tabf = e.split(\"\\t\")\n",
    "        nt = len(tabf)-1\n",
    "        file = tabf[-1]\n",
    "        if nt:\n",
    "            ld[str(nt)] += [len(file)+1+ld[str(nt-1)][-1]]\n",
    "        else:\n",
    "            ld[str(nt)] += [len(file)]\n",
    "        # we count the length only when it is a file not directory\n",
    "        if file.count(\".\")!=0:\n",
    "            maxlen = max(maxlen,ld[str(nt)][-1])\n",
    "    return maxlen"
   ]
  },
  {
   "cell_type": "code",
   "execution_count": null,
   "id": "62b7c8cc-40bb-49c5-8b68-4019d718b845",
   "metadata": {},
   "outputs": [],
   "source": []
  }
 ],
 "metadata": {
  "kernelspec": {
   "display_name": "Python 3 (ipykernel)",
   "language": "python",
   "name": "python3"
  },
  "language_info": {
   "codemirror_mode": {
    "name": "ipython",
    "version": 3
   },
   "file_extension": ".py",
   "mimetype": "text/x-python",
   "name": "python",
   "nbconvert_exporter": "python",
   "pygments_lexer": "ipython3",
   "version": "3.7.7"
  }
 },
 "nbformat": 4,
 "nbformat_minor": 5
}
