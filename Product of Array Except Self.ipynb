{
 "cells": [
  {
   "cell_type": "code",
   "execution_count": 1,
   "metadata": {},
   "outputs": [],
   "source": [
    "nums = [1,2,3,4]"
   ]
  },
  {
   "cell_type": "code",
   "execution_count": 2,
   "metadata": {},
   "outputs": [
    {
     "data": {
      "text/plain": [
       "[24, 12, 8, 6]"
      ]
     },
     "execution_count": 2,
     "metadata": {},
     "output_type": "execute_result"
    }
   ],
   "source": [
    "\"brute force, waste some time here re-calculate the prefix/suffix\"\n",
    "n = len(nums)\n",
    "output = []\n",
    "for i in range(n):\n",
    "    prefix = nums[:i]\n",
    "    suffix = nums[i+1:]\n",
    "    prod = 1\n",
    "    if prefix:\n",
    "        for val in prefix:\n",
    "            prod *= val\n",
    "    if suffix:\n",
    "        for val in suffix:\n",
    "            prod *= val\n",
    "    output.append(prod)\n",
    "output"
   ]
  },
  {
   "cell_type": "code",
   "execution_count": 18,
   "metadata": {},
   "outputs": [
    {
     "data": {
      "text/plain": [
       "[24, 12, 8, 6]"
      ]
     },
     "execution_count": 18,
     "metadata": {},
     "output_type": "execute_result"
    }
   ],
   "source": [
    "def productExceptSelf(nums):\n",
    "    n = len(nums)\n",
    "    prefixes = [1]*n\n",
    "    suffixes = [1]*n\n",
    "    for i in range(1,n):\n",
    "        prefixes[i] = prefixes[i-1] * nums[i-1]\n",
    "    for i in reversed(range(n-1)):\n",
    "        suffixes[i] = suffixes[i+1] * nums[i+1]\n",
    "\n",
    "    output = [1]*n\n",
    "    for i in range(n):\n",
    "        output[i] = prefixes[i]*suffixes[i]\n",
    "    return output"
   ]
  },
  {
   "cell_type": "code",
   "execution_count": null,
   "metadata": {},
   "outputs": [],
   "source": []
  }
 ],
 "metadata": {
  "kernelspec": {
   "display_name": "Python 3",
   "language": "python",
   "name": "python3"
  },
  "language_info": {
   "codemirror_mode": {
    "name": "ipython",
    "version": 3
   },
   "file_extension": ".py",
   "mimetype": "text/x-python",
   "name": "python",
   "nbconvert_exporter": "python",
   "pygments_lexer": "ipython3",
   "version": "3.7.7"
  }
 },
 "nbformat": 4,
 "nbformat_minor": 4
}
