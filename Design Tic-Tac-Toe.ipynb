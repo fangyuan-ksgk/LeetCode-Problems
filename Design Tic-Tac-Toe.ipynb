{
 "cells": [
  {
   "cell_type": "code",
   "execution_count": 7,
   "id": "bfd13516-dcf6-49d9-aee7-00dc390a4655",
   "metadata": {},
   "outputs": [],
   "source": [
    "class TicTacToe:\n",
    "\n",
    "    def __init__(self, n: int):\n",
    "        \"\"\"\n",
    "        Initialize your data structure here.\n",
    "        \"\"\"\n",
    "        # count for each player the no.fitted tiles on n rows, n cols and 2 (off)diagonals\n",
    "        self.n = n\n",
    "        self.count = {}\n",
    "        self.count['1'] = [[0]*n, [0]*n, 0, 0]\n",
    "        self.count['2'] = [[0]*n, [0]*n, 0, 0]\n",
    "\n",
    "    def move(self, row: int, col: int, player: int) -> int:\n",
    "        \"\"\"\n",
    "        Player {player} makes a move at ({row}, {col}).\n",
    "        @param row The row of the board.\n",
    "        @param col The column of the board.\n",
    "        @param player The player, can be either 1 or 2.\n",
    "        @return The current winning condition, can be either:\n",
    "                0: No one wins.\n",
    "                1: Player 1 wins.\n",
    "                2: Player 2 wins.\n",
    "        \"\"\"\n",
    "        p = str(player)\n",
    "        self.count[p][0][row]+=1\n",
    "        self.count[p][1][col]+=1\n",
    "        if row==col:\n",
    "            self.count[p][2]+=1\n",
    "        if row+col==self.n-1:\n",
    "            self.count[p][3]+=1\n",
    "        nc = max(self.count[p][0][row], self.count[p][1][col], self.count[p][2], self.count[p][3])\n",
    "        if nc == self.n:\n",
    "            return p\n",
    "        return 0"
   ]
  },
  {
   "cell_type": "code",
   "execution_count": null,
   "id": "06a4f9bc-774c-43ba-829e-f8320cf55648",
   "metadata": {},
   "outputs": [],
   "source": []
  }
 ],
 "metadata": {
  "kernelspec": {
   "display_name": "Python 3 (ipykernel)",
   "language": "python",
   "name": "python3"
  },
  "language_info": {
   "codemirror_mode": {
    "name": "ipython",
    "version": 3
   },
   "file_extension": ".py",
   "mimetype": "text/x-python",
   "name": "python",
   "nbconvert_exporter": "python",
   "pygments_lexer": "ipython3",
   "version": "3.7.7"
  }
 },
 "nbformat": 4,
 "nbformat_minor": 5
}
