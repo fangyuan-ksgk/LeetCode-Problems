{
 "cells": [
  {
   "cell_type": "code",
   "execution_count": 46,
   "id": "48d1cd25-25d9-49a1-9d27-7a488fdb2305",
   "metadata": {},
   "outputs": [],
   "source": [
    "num = 2736"
   ]
  },
  {
   "cell_type": "code",
   "execution_count": 36,
   "id": "dd55289e-efb7-435b-82c2-fe4aa0d638ea",
   "metadata": {},
   "outputs": [],
   "source": [
    "num = 8726"
   ]
  },
  {
   "cell_type": "code",
   "execution_count": 48,
   "id": "3b1ac609-3b05-4ab9-a429-8b6973798f41",
   "metadata": {},
   "outputs": [],
   "source": [
    "num = 9973"
   ]
  },
  {
   "cell_type": "code",
   "execution_count": 88,
   "id": "47471796-24a2-4b0f-b03f-c2eb5d2a3bed",
   "metadata": {},
   "outputs": [],
   "source": [
    "def maximumSwap(num):\n",
    "    nlist = []\n",
    "    for c in str(num):\n",
    "        nlist.append(c)\n",
    "\n",
    "    n = len(nlist)\n",
    "    order = sorted(range(n), key=lambda i: int(nlist[i]), reverse=True)\n",
    "\n",
    "    for i in range(n):\n",
    "        if order[:i+1]==list(range(0,i+1)):\n",
    "            continue\n",
    "        else:\n",
    "            last_occur = i\n",
    "            while last_occur<n-1 and nlist[order[last_occur+1]]==nlist[order[i]]:\n",
    "                last_occur+=1\n",
    "\n",
    "            nlist[i], nlist[order[last_occur]] = nlist[order[last_occur]], nlist[i]\n",
    "            break\n",
    "\n",
    "    return int(('').join(nlist))"
   ]
  },
  {
   "cell_type": "code",
   "execution_count": 89,
   "id": "0380f57d-445e-4139-8b46-a6e9e226bb4a",
   "metadata": {},
   "outputs": [],
   "source": [
    "num = 98368"
   ]
  },
  {
   "cell_type": "code",
   "execution_count": 90,
   "id": "f40c898c-b148-44e4-98e4-8a2696906ee2",
   "metadata": {},
   "outputs": [
    {
     "data": {
      "text/plain": [
       "9913"
      ]
     },
     "execution_count": 90,
     "metadata": {},
     "output_type": "execute_result"
    }
   ],
   "source": [
    "num = 1993\n",
    "\n",
    "maximumSwap(num)"
   ]
  },
  {
   "cell_type": "code",
   "execution_count": 97,
   "id": "ad0c749d-8542-4b35-b732-45716b0b3fc7",
   "metadata": {},
   "outputs": [],
   "source": [
    "num = 10909091"
   ]
  },
  {
   "cell_type": "code",
   "execution_count": 99,
   "id": "e7b4b3d7-e550-4e57-9684-8ac17097714c",
   "metadata": {},
   "outputs": [
    {
     "data": {
      "text/plain": [
       "[2, 4, 6, 0, 7, 1, 3, 5]"
      ]
     },
     "execution_count": 99,
     "metadata": {},
     "output_type": "execute_result"
    }
   ],
   "source": [
    "order"
   ]
  },
  {
   "cell_type": "code",
   "execution_count": null,
   "id": "a9f51715-fdfa-423d-87c9-518d3ae405e8",
   "metadata": {},
   "outputs": [],
   "source": []
  }
 ],
 "metadata": {
  "kernelspec": {
   "display_name": "Python 3 (ipykernel)",
   "language": "python",
   "name": "python3"
  },
  "language_info": {
   "codemirror_mode": {
    "name": "ipython",
    "version": 3
   },
   "file_extension": ".py",
   "mimetype": "text/x-python",
   "name": "python",
   "nbconvert_exporter": "python",
   "pygments_lexer": "ipython3",
   "version": "3.7.7"
  }
 },
 "nbformat": 4,
 "nbformat_minor": 5
}
