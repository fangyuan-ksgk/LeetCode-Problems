{
 "cells": [
  {
   "cell_type": "code",
   "execution_count": 8,
   "metadata": {},
   "outputs": [],
   "source": [
    "s = \"abcd\"\n",
    "indices = [0, 1, 2]\n",
    "sources = [\"a\", \"bc\", \"cd\"]\n",
    "targets = [\"eee\", \"wtf\", \"ffff\"]"
   ]
  },
  {
   "cell_type": "code",
   "execution_count": 38,
   "metadata": {},
   "outputs": [],
   "source": [
    "s = \"abcdefg\"\n",
    "indices = [0, 2]\n",
    "sources = [\"a\",  \"cd\"]\n",
    "targets = [\"eee\",  \"ffff\"]"
   ]
  },
  {
   "cell_type": "code",
   "execution_count": 41,
   "metadata": {},
   "outputs": [],
   "source": [
    "s = \"abcd\"\n",
    "indices = [0, 2]\n",
    "sources = [\"ab\",\"ec\"]\n",
    "targets = [\"eee\",\"ffff\"]"
   ]
  },
  {
   "cell_type": "code",
   "execution_count": 51,
   "metadata": {},
   "outputs": [],
   "source": [
    "def findReplaceString(s, indices, sources, targets):\n",
    "    # get the ends of each sources\n",
    "    ends = [indices[i]+len(sources[i]) for i in range(len(indices))]\n",
    "    # order the indices for ease of maneuver\n",
    "    order = sorted(range(len(indices)), key=lambda ind: indices[ind])\n",
    "\n",
    "    loc=0\n",
    "    s_new = \"\"\n",
    "    for i,o in enumerate(order):\n",
    "        print(i,sources[o])\n",
    "        if sources[o]==s[indices[o]:ends[o]]: # found the source\n",
    "            s_new += s[loc:indices[o]] # fit in the gap from last replace to current\n",
    "            if i==0 or indices[o]>=ends[order[i-1]]: # no overlap \n",
    "                s_new += targets[o] # replace\n",
    "                loc = ends[o] # update location of last replace location\n",
    "            else:   # overlap happens then return s\n",
    "                return s\n",
    "        else: continue # if source unfound, continue\n",
    "    s_new += s[loc:]\n",
    "    return s_new"
   ]
  },
  {
   "cell_type": "code",
   "execution_count": 50,
   "metadata": {},
   "outputs": [
    {
     "name": "stdout",
     "output_type": "stream",
     "text": [
      "0 ab\n",
      "1 ec\n"
     ]
    }
   ],
   "source": [
    "# get the ends of each sources\n",
    "ends = [indices[i]+len(sources[i]) for i in range(len(indices))]\n",
    "# order the indices for ease of maneuver\n",
    "order = sorted(range(len(indices)), key=lambda ind: indices[ind])\n",
    "\n",
    "loc=0\n",
    "s_new = \"\"\n",
    "for i,o in enumerate(order):\n",
    "    print(i,sources[o])\n",
    "    if sources[o]==s[indices[o]:ends[o]]: # found the source\n",
    "        s_new += s[loc:indices[o]] # fit in the gap from last replace to current\n",
    "        if i==0 or indices[o]>=ends[order[i-1]]: # no overlap \n",
    "            s_new += targets[o] # replace\n",
    "            loc = ends[o] # update location of last replace location\n",
    "        else:   # overlap happens then return s\n",
    "            print(s)\n",
    "            break\n",
    "    else: continue # if source unfound, continue\n",
    "s_new += s[loc:]"
   ]
  },
  {
   "cell_type": "code",
   "execution_count": 49,
   "metadata": {},
   "outputs": [
    {
     "data": {
      "text/plain": [
       "'eeecd'"
      ]
     },
     "execution_count": 49,
     "metadata": {},
     "output_type": "execute_result"
    }
   ],
   "source": [
    "s_new"
   ]
  },
  {
   "cell_type": "code",
   "execution_count": null,
   "metadata": {},
   "outputs": [],
   "source": []
  }
 ],
 "metadata": {
  "kernelspec": {
   "display_name": "Python 3",
   "language": "python",
   "name": "python3"
  },
  "language_info": {
   "codemirror_mode": {
    "name": "ipython",
    "version": 3
   },
   "file_extension": ".py",
   "mimetype": "text/x-python",
   "name": "python",
   "nbconvert_exporter": "python",
   "pygments_lexer": "ipython3",
   "version": "3.7.7"
  }
 },
 "nbformat": 4,
 "nbformat_minor": 4
}
