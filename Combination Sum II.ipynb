{
 "cells": [
  {
   "cell_type": "markdown",
   "metadata": {},
   "source": [
    "### One should always figure out the algorithm on paper, then code it to conclude and not the other way around!"
   ]
  },
  {
   "cell_type": "code",
   "execution_count": 78,
   "metadata": {},
   "outputs": [],
   "source": [
    "def combinationSum2(candidates, target):\n",
    "    sort_can = sorted(candidates)\n",
    "    candict = {i: sort_can.count(i) for i in sort_can}\n",
    "    canset = list(candict.keys())\n",
    "    cancount = list(candict.values())\n",
    "    n = len(candict.keys())\n",
    "    ans = []\n",
    "    def backtrack(s,combo,i):\n",
    "        for j in range(i,n):\n",
    "            for k in range(cancount[j]):\n",
    "                total = s + (canset[j] * (k+1))\n",
    "                if total == target:\n",
    "                    new_combo = combo + ([canset[j]] * (k+1))\n",
    "                    ans.append(new_combo)\n",
    "                elif total < target:\n",
    "                    new_combo = combo + ([canset[j]] * (k+1))\n",
    "                    backtrack(total, new_combo, j+1)\n",
    "\n",
    "    backtrack(0,[],0)\n",
    "    return ans"
   ]
  },
  {
   "cell_type": "code",
   "execution_count": 147,
   "metadata": {},
   "outputs": [],
   "source": [
    "sort_can = sorted(candidates)\n",
    "candict = {i: sort_can.count(i) for i in sort_can}\n",
    "canset = list(candict.keys())\n",
    "cancount = list(candict.values())\n",
    "n = len(candict.keys())\n",
    "ans = []\n",
    "def backtrack(s,combo,i):\n",
    "    for j in range(i,n):\n",
    "        for k in range(cancount[j]):\n",
    "            total = s + (canset[j] * (k+1))\n",
    "            #print('s',s,'canset[j]',canset[j],'k+1',k+1,'total',total)\n",
    "            #print('j',j)\n",
    "            if total == target:\n",
    "                new_combo = combo + ([canset[j]] * (k+1))\n",
    "                ans.append(new_combo)\n",
    "            elif total < target:\n",
    "                new_combo = combo + ([canset[j]] * (k+1))\n",
    "                #print(total)\n",
    "                #print(new_combo)\n",
    "                backtrack(total, new_combo, j+1)\n",
    "\n",
    "backtrack(0,[],0)"
   ]
  },
  {
   "cell_type": "code",
   "execution_count": null,
   "metadata": {},
   "outputs": [],
   "source": []
  },
  {
   "cell_type": "code",
   "execution_count": 154,
   "metadata": {},
   "outputs": [],
   "source": [
    "\"need to figure out the coninue stuff\"\n",
    "\"this one is still only 50% among the crowd\"\n",
    "def combinationSum21(candidates, target):\n",
    "    \n",
    "    def findCombinations(candidates, target, curr, res):\n",
    "        if target == 0:\n",
    "            res.append(curr); return  # Base Condition 1 (Feasible Solution Found)\n",
    "        for i, candidate in enumerate(candidates):\n",
    "            if target-candidate < 0: break  # Base Condition 2 (No Feasible Solutions)\n",
    "            if i !=0 and candidates[i]==candidates[i-1]: continue  # Ignore multiple copies\n",
    "            findCombinations(candidates[i+1:], target-candidate, curr+[candidate], res)  # Recurse       \n",
    "    \n",
    "    res = []  # initialise solution set to be empty...\n",
    "    candidates.sort()  # Sort first as easier to find distinct solutions later...\n",
    "    findCombinations(candidates, target, [], res)\n",
    "    return res"
   ]
  },
  {
   "cell_type": "code",
   "execution_count": null,
   "metadata": {},
   "outputs": [],
   "source": [
    "res=[]\n",
    "candidates.sort()\n",
    "\n",
    "def dfs(addition,scope,path):\n",
    "    if addition==target:\n",
    "        res.append(path.copy())\n",
    "        return\n",
    "\n",
    "    for i in range(len(scope)):\n",
    "        if addition+scope[i]<=target:\n",
    "            if i>0 and scope[i]==scope[i-1]:\n",
    "                continue\n",
    "            dfs(scope[i]+addition,scope[i+1:],path+[scope[i]])\n",
    "        else:\n",
    "            return"
   ]
  },
  {
   "cell_type": "code",
   "execution_count": null,
   "metadata": {},
   "outputs": [],
   "source": []
  }
 ],
 "metadata": {
  "kernelspec": {
   "display_name": "Python 3",
   "language": "python",
   "name": "python3"
  },
  "language_info": {
   "codemirror_mode": {
    "name": "ipython",
    "version": 3
   },
   "file_extension": ".py",
   "mimetype": "text/x-python",
   "name": "python",
   "nbconvert_exporter": "python",
   "pygments_lexer": "ipython3",
   "version": "3.7.7"
  }
 },
 "nbformat": 4,
 "nbformat_minor": 4
}
