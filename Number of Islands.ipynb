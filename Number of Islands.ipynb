{
 "cells": [
  {
   "cell_type": "code",
   "execution_count": 75,
   "metadata": {},
   "outputs": [],
   "source": [
    "\"My version, dps with memory of visited ones\"\n",
    "\"it also returns the island indexes\"\n",
    "import itertools\n",
    "\n",
    "def numIslands(grid):\n",
    "    m = len(grid)\n",
    "    n = len(grid[0])\n",
    "    def backtrack(i,j):\n",
    "        v.add((i,j))\n",
    "        if grid[i][j]==\"0\":\n",
    "            return \n",
    "        if grid[i][j]==\"1\":\n",
    "            island.add((i,j))\n",
    "            for (k,l) in (i-1,j),(i+1,j),(i,j-1),(i,j+1):\n",
    "                if 0<=k<m and 0<=l<n and (k,l) not in v:\n",
    "                    backtrack(k,l) \n",
    "\n",
    "    v = set()\n",
    "    num = 0\n",
    "    for i,j in itertools.product(range(m),range(n)):\n",
    "        if (i,j) not in v:\n",
    "            island = set()\n",
    "            backtrack(i,j)\n",
    "            if len(island)!=0:\n",
    "                num += 1\n",
    "    return num"
   ]
  },
  {
   "cell_type": "code",
   "execution_count": null,
   "metadata": {},
   "outputs": [],
   "source": [
    "\"Faster Solution\"\n",
    "\"Not much fundamental difference to me\"\n",
    "class Solution:\n",
    "    def numIslands(self, grid: List[List[str]]) -> int:\n",
    "        c=0\n",
    "        for i in range(len(grid)):\n",
    "            for j in range(len(grid[0])):\n",
    "                if(grid[i][j]=='1'):\n",
    "                    c=c+1\n",
    "                    grid=Solution.cut(grid,i,j)\n",
    "        return c\n",
    "    def cut(grid,i,j):\n",
    "        grid[i][j]='0'\n",
    "        if(i+1<len(grid) and grid[i+1][j]=='1'):grid=Solution.cut(grid,i+1,j)    \n",
    "        if(j+1<len(grid[0]) and grid[i][j+1]=='1'):grid=Solution.cut(grid,i,j+1)\n",
    "        if(i-1>-1 and grid[i-1][j]=='1'):grid=Solution.cut(grid,i-1,j)\n",
    "        if(j-1>-1 and grid[i][j-1]=='1'):grid=Solution.cut(grid,i,j-1)\n",
    "        return grid"
   ]
  },
  {
   "cell_type": "code",
   "execution_count": 76,
   "metadata": {},
   "outputs": [
    {
     "data": {
      "text/plain": [
       "1"
      ]
     },
     "execution_count": 76,
     "metadata": {},
     "output_type": "execute_result"
    }
   ],
   "source": [
    "grid = [\n",
    "  [\"1\",\"1\",\"1\",\"1\",\"0\"],\n",
    "  [\"1\",\"1\",\"0\",\"1\",\"0\"],\n",
    "  [\"1\",\"1\",\"0\",\"0\",\"0\"],\n",
    "  [\"0\",\"0\",\"0\",\"0\",\"0\"]\n",
    "]\n",
    "\n",
    "numIslands(grid)"
   ]
  },
  {
   "cell_type": "code",
   "execution_count": 77,
   "metadata": {},
   "outputs": [
    {
     "data": {
      "text/plain": [
       "3"
      ]
     },
     "execution_count": 77,
     "metadata": {},
     "output_type": "execute_result"
    }
   ],
   "source": [
    "grid = [\n",
    "  [\"1\",\"1\",\"0\",\"0\",\"0\"],\n",
    "  [\"1\",\"1\",\"0\",\"0\",\"0\"],\n",
    "  [\"0\",\"0\",\"1\",\"0\",\"0\"],\n",
    "  [\"0\",\"0\",\"0\",\"1\",\"1\"]\n",
    "]\n",
    "numIslands(grid)"
   ]
  },
  {
   "cell_type": "code",
   "execution_count": null,
   "metadata": {},
   "outputs": [],
   "source": []
  }
 ],
 "metadata": {
  "kernelspec": {
   "display_name": "Python 3",
   "language": "python",
   "name": "python3"
  },
  "language_info": {
   "codemirror_mode": {
    "name": "ipython",
    "version": 3
   },
   "file_extension": ".py",
   "mimetype": "text/x-python",
   "name": "python",
   "nbconvert_exporter": "python",
   "pygments_lexer": "ipython3",
   "version": "3.7.7"
  }
 },
 "nbformat": 4,
 "nbformat_minor": 4
}
