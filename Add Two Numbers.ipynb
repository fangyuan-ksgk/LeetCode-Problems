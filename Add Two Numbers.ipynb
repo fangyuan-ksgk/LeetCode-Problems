{
 "cells": [
  {
   "cell_type": "markdown",
   "metadata": {},
   "source": [
    "The internet version has issues, the solutions provided is firstly on Java, and those\n",
    "python solution is therefore ill-posted."
   ]
  },
  {
   "cell_type": "code",
   "execution_count": 121,
   "metadata": {},
   "outputs": [],
   "source": [
    "class ListNode:\n",
    "     def __init__(self, val):\n",
    "        self.val = val\n",
    "        next_list = val[1:]\n",
    "        next_list.append(None)\n",
    "        self.next = next_list"
   ]
  },
  {
   "cell_type": "code",
   "execution_count": 122,
   "metadata": {},
   "outputs": [],
   "source": [
    "def addTwoNumbers(l1, l2):\n",
    "    l1_val = 0\n",
    "    for i, num in enumerate(l1.val):\n",
    "        l1_val += num * 10**i\n",
    "\n",
    "    l2_val = 0\n",
    "    for i, num in enumerate(l2.val):\n",
    "        l2_val += num * 10**i\n",
    "\n",
    "    sum_val = l1_val + l2_val\n",
    "    sum_list = []\n",
    "    for i in reversed(str(sum_val)):\n",
    "        sum_list.append(int(i))\n",
    "        \n",
    "    return ListNode(sum_list)"
   ]
  },
  {
   "cell_type": "code",
   "execution_count": 126,
   "metadata": {},
   "outputs": [
    {
     "data": {
      "text/plain": [
       "[7, 0, 8]"
      ]
     },
     "execution_count": 126,
     "metadata": {},
     "output_type": "execute_result"
    }
   ],
   "source": [
    "l1 = [2,4,3]\n",
    "l2 = [5,6,4]\n",
    "\n",
    "ln1 = ListNode(val=l1)\n",
    "ln2 = ListNode(val=l2)\n",
    "addTwoNumbers(ln1,ln2).val"
   ]
  },
  {
   "cell_type": "code",
   "execution_count": 127,
   "metadata": {},
   "outputs": [
    {
     "data": {
      "text/plain": [
       "[8, 9, 9, 9, 0, 0, 0, 1]"
      ]
     },
     "execution_count": 127,
     "metadata": {},
     "output_type": "execute_result"
    }
   ],
   "source": [
    "l1 = [9,9,9,9,9,9,9] \n",
    "l2 = [9,9,9,9]\n",
    "\n",
    "ln1 = ListNode(val=l1)\n",
    "ln2 = ListNode(val=l2)\n",
    "addTwoNumbers(ln1,ln2).val"
   ]
  },
  {
   "cell_type": "code",
   "execution_count": null,
   "metadata": {},
   "outputs": [],
   "source": []
  }
 ],
 "metadata": {
  "kernelspec": {
   "display_name": "Python 3",
   "language": "python",
   "name": "python3"
  },
  "language_info": {
   "codemirror_mode": {
    "name": "ipython",
    "version": 3
   },
   "file_extension": ".py",
   "mimetype": "text/x-python",
   "name": "python",
   "nbconvert_exporter": "python",
   "pygments_lexer": "ipython3",
   "version": "3.7.7"
  }
 },
 "nbformat": 4,
 "nbformat_minor": 4
}
