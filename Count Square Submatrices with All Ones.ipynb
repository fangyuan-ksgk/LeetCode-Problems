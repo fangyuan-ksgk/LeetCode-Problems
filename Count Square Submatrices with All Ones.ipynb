{
 "cells": [
  {
   "cell_type": "code",
   "execution_count": 39,
   "metadata": {},
   "outputs": [
    {
     "data": {
      "text/plain": [
       "15"
      ]
     },
     "execution_count": 39,
     "metadata": {},
     "output_type": "execute_result"
    }
   ],
   "source": [
    "matrix = [\n",
    "  [0,1,1,1],\n",
    "  [1,1,1,1],\n",
    "  [0,1,1,1]\n",
    "]\n",
    "countSquares(matrix)"
   ]
  },
  {
   "cell_type": "code",
   "execution_count": 38,
   "metadata": {},
   "outputs": [
    {
     "data": {
      "text/plain": [
       "7"
      ]
     },
     "execution_count": 38,
     "metadata": {},
     "output_type": "execute_result"
    }
   ],
   "source": [
    "matrix = [\n",
    "  [1,0,1],\n",
    "  [1,1,0],\n",
    "  [1,1,0]\n",
    "]\n",
    "countSquares(matrix)"
   ]
  },
  {
   "cell_type": "code",
   "execution_count": 40,
   "metadata": {},
   "outputs": [],
   "source": [
    "\"Reduce the redundant submatrix creation, accepted\"\n",
    "def countSquares(matrix):\n",
    "    def count(i,j):\n",
    "        num = 1\n",
    "        for d in range(1,min(m-i,n-j)):\n",
    "            if matrix[i+d][j:j+d+1]==[1]*(d+1) and all(matrix[k][j+d] for k in range(i,i+d)):\n",
    "                num+=1\n",
    "            else: break\n",
    "        return num\n",
    "    \n",
    "    m=len(matrix)\n",
    "    n=len(matrix[0])\n",
    "    num=0\n",
    "    for i,j in itertools.product(range(m),range(n)):\n",
    "        if matrix[i][j]==1:\n",
    "            # count how many squares has superior corner at (i,j)\n",
    "            num += count(i,j)\n",
    "        else:\n",
    "            continue\n",
    "    return num"
   ]
  },
  {
   "cell_type": "code",
   "execution_count": 24,
   "metadata": {},
   "outputs": [],
   "source": [
    "\"Correct but Time limite exceeded\"\n",
    "def countSquares(matrix):\n",
    "    def count(submat):\n",
    "        num = 1\n",
    "        m = len(submat)\n",
    "        n = len(submat[0])\n",
    "        for i in range(1,min(m,n)):\n",
    "            if submat[i][:i+1] == [1]*(i+1) and all(submat[j][i]==1 for j in range(i)):\n",
    "                 num += 1\n",
    "            else: break\n",
    "        return num\n",
    "    \n",
    "    m=len(matrix)\n",
    "    n=len(matrix[0])\n",
    "    num=0\n",
    "    for i,j in itertools.product(range(m),range(n)):\n",
    "        if matrix[i][j]==1:\n",
    "            submat = [[matrix[k][l] for l in range(j,n)] for k in range(i,m)]\n",
    "            # count how many squares has superior corner at (i,j)\n",
    "            num += count(submat)\n",
    "        else:\n",
    "            continue\n",
    "    return num"
   ]
  },
  {
   "cell_type": "code",
   "execution_count": 18,
   "metadata": {},
   "outputs": [],
   "source": [
    "def count(submat):\n",
    "    num = 1\n",
    "    m = len(submat)\n",
    "    n = len(submat[0])\n",
    "    for i in range(1,min(m,n)):\n",
    "        if submat[i][:i+1] == [1]*(i+1) and all(submat[j][i]==1 for j in range(i)):\n",
    "             num += 1\n",
    "        else: break\n",
    "    return num"
   ]
  },
  {
   "cell_type": "code",
   "execution_count": null,
   "metadata": {},
   "outputs": [],
   "source": [
    "m-i\n",
    "n-j"
   ]
  },
  {
   "cell_type": "code",
   "execution_count": 30,
   "metadata": {},
   "outputs": [
    {
     "data": {
      "text/plain": [
       "1"
      ]
     },
     "execution_count": 30,
     "metadata": {},
     "output_type": "execute_result"
    }
   ],
   "source": [
    "count(0,1)"
   ]
  },
  {
   "cell_type": "code",
   "execution_count": 19,
   "metadata": {},
   "outputs": [],
   "source": [
    "import itertools\n",
    "\n",
    "m=len(matrix)\n",
    "n=len(matrix[0])\n",
    "num=0\n",
    "for i,j in itertools.product(range(m),range(n)):\n",
    "    if matrix[i][j]==1:\n",
    "        # count how many squares has superior corner at (i,j)\n",
    "        num += count(i,j)\n",
    "    else:\n",
    "        continue"
   ]
  },
  {
   "cell_type": "code",
   "execution_count": null,
   "metadata": {},
   "outputs": [],
   "source": []
  }
 ],
 "metadata": {
  "kernelspec": {
   "display_name": "Python 3",
   "language": "python",
   "name": "python3"
  },
  "language_info": {
   "codemirror_mode": {
    "name": "ipython",
    "version": 3
   },
   "file_extension": ".py",
   "mimetype": "text/x-python",
   "name": "python",
   "nbconvert_exporter": "python",
   "pygments_lexer": "ipython3",
   "version": "3.7.7"
  }
 },
 "nbformat": 4,
 "nbformat_minor": 4
}
