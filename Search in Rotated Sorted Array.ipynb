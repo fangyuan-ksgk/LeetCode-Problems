{
 "cells": [
  {
   "cell_type": "code",
   "execution_count": 135,
   "metadata": {},
   "outputs": [],
   "source": [
    "\"Mine version, runtime exceeded\"\n",
    "def search(nums,target):\n",
    "    # nums[m]<nums[m-1]\n",
    "    n = len(nums)\n",
    "    if n<2:\n",
    "        if target in nums:\n",
    "            return 0\n",
    "        else:\n",
    "            return -1\n",
    "    \n",
    "    L = 0\n",
    "    R = n-1\n",
    "    m = 0\n",
    "    while L<R:\n",
    "        T = (L+R)//2\n",
    "        if nums[T+1]<nums[T]:\n",
    "            m=T+1\n",
    "            break\n",
    "        elif nums[T]<nums[R]:\n",
    "            R = T\n",
    "        elif nums[T]>nums[R]:\n",
    "            L = T+1\n",
    "    # sorted list    \n",
    "    nums = nums[m:] + nums[:m]\n",
    "\n",
    "    # search for target\n",
    "    L=0\n",
    "    R=n-1\n",
    "    \n",
    "    while L<=R:\n",
    "        T = (L+R)//2\n",
    "        if nums[T]<target:\n",
    "            L = T+1\n",
    "        if nums[T]==target:\n",
    "            pos = T\n",
    "            break\n",
    "        if nums[T]>target:\n",
    "            R = T\n",
    "    else:\n",
    "        return -1\n",
    "\n",
    "    if pos<(n-m):\n",
    "        return pos + m\n",
    "    else:\n",
    "        return pos - (n-m)"
   ]
  },
  {
   "cell_type": "code",
   "execution_count": 136,
   "metadata": {},
   "outputs": [
    {
     "data": {
      "text/plain": [
       "4"
      ]
     },
     "execution_count": 136,
     "metadata": {},
     "output_type": "execute_result"
    }
   ],
   "source": [
    "nums = [4,5,6,7,0,1,2]\n",
    "target = 0\n",
    "search(nums, target)"
   ]
  },
  {
   "cell_type": "code",
   "execution_count": 137,
   "metadata": {},
   "outputs": [
    {
     "data": {
      "text/plain": [
       "2"
      ]
     },
     "execution_count": 137,
     "metadata": {},
     "output_type": "execute_result"
    }
   ],
   "source": [
    "nums = [4,5,6,7,0,1,2]\n",
    "target = 6\n",
    "search(nums, target)"
   ]
  },
  {
   "cell_type": "code",
   "execution_count": 126,
   "metadata": {},
   "outputs": [
    {
     "data": {
      "text/plain": [
       "1"
      ]
     },
     "execution_count": 126,
     "metadata": {},
     "output_type": "execute_result"
    }
   ],
   "source": [
    "nums = [4,5,6,7,0,1,2]\n",
    "target = 5\n",
    "search(nums, target)"
   ]
  },
  {
   "cell_type": "code",
   "execution_count": 127,
   "metadata": {},
   "outputs": [
    {
     "data": {
      "text/plain": [
       "6"
      ]
     },
     "execution_count": 127,
     "metadata": {},
     "output_type": "execute_result"
    }
   ],
   "source": [
    "nums = [4,5,6,7,0,1,2]\n",
    "target = 2\n",
    "search(nums, target)"
   ]
  },
  {
   "cell_type": "code",
   "execution_count": 128,
   "metadata": {},
   "outputs": [
    {
     "data": {
      "text/plain": [
       "0"
      ]
     },
     "execution_count": 128,
     "metadata": {},
     "output_type": "execute_result"
    }
   ],
   "source": [
    "nums = [1]\n",
    "target = 1\n",
    "search(nums, target)"
   ]
  },
  {
   "cell_type": "code",
   "execution_count": 129,
   "metadata": {},
   "outputs": [
    {
     "data": {
      "text/plain": [
       "1"
      ]
     },
     "execution_count": 129,
     "metadata": {},
     "output_type": "execute_result"
    }
   ],
   "source": [
    "nums = [1,2]\n",
    "target = 2\n",
    "search(nums, target)"
   ]
  },
  {
   "cell_type": "code",
   "execution_count": 130,
   "metadata": {},
   "outputs": [
    {
     "data": {
      "text/plain": [
       "2"
      ]
     },
     "execution_count": 130,
     "metadata": {},
     "output_type": "execute_result"
    }
   ],
   "source": [
    "nums = [1,2,3]\n",
    "target = 3\n",
    "funcc(nums, target)"
   ]
  },
  {
   "cell_type": "code",
   "execution_count": 131,
   "metadata": {},
   "outputs": [
    {
     "data": {
      "text/plain": [
       "3"
      ]
     },
     "execution_count": 131,
     "metadata": {},
     "output_type": "execute_result"
    }
   ],
   "source": [
    "nums = [1,2,3,4]\n",
    "target = 4\n",
    "search(nums, target)"
   ]
  },
  {
   "cell_type": "code",
   "execution_count": 132,
   "metadata": {},
   "outputs": [],
   "source": [
    "\"better version, need to understand this\"\n",
    "def search(nums, target):\n",
    "    left, right = 0, len(nums)-1\n",
    "    while left<=right:\n",
    "        mid = left+(right-left)//2\n",
    "        if nums[mid] == target:\n",
    "            return mid\n",
    "        if nums[mid]<nums[right]:\n",
    "            if nums[mid]<target<=nums[right]:\n",
    "                left=mid+1\n",
    "            else:\n",
    "                right=mid-1\n",
    "        else:\n",
    "            if nums[left]<=target<nums[mid]:\n",
    "                right=mid-1\n",
    "            else:\n",
    "                left = mid+1\n",
    "    return -1"
   ]
  },
  {
   "cell_type": "code",
   "execution_count": 138,
   "metadata": {},
   "outputs": [],
   "source": [
    "def search(nums, target):\n",
    "    R = len(nums)-1\n",
    "    L = 0\n",
    "    while L<=R:\n",
    "        if nums[T] == target:\n",
    "            return T\n",
    "        if nums[T] < nums[R]:\n",
    "            if nums[T] < target <= nums[R]:\n",
    "                L = T+1\n",
    "            else:\n",
    "                R=T-1\n",
    "        else:\n",
    "            if nums[L]<=target<nums[T]:\n",
    "                R = T-1\n",
    "            else:\n",
    "                L = T+1\n",
    "    return -1"
   ]
  },
  {
   "cell_type": "code",
   "execution_count": null,
   "metadata": {},
   "outputs": [],
   "source": []
  }
 ],
 "metadata": {
  "kernelspec": {
   "display_name": "Python 3",
   "language": "python",
   "name": "python3"
  },
  "language_info": {
   "codemirror_mode": {
    "name": "ipython",
    "version": 3
   },
   "file_extension": ".py",
   "mimetype": "text/x-python",
   "name": "python",
   "nbconvert_exporter": "python",
   "pygments_lexer": "ipython3",
   "version": "3.7.7"
  }
 },
 "nbformat": 4,
 "nbformat_minor": 4
}
