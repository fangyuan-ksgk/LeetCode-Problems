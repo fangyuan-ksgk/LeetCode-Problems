{
 "cells": [
  {
   "cell_type": "code",
   "execution_count": 1,
   "metadata": {},
   "outputs": [],
   "source": [
    "n = 4\n",
    "dislikes = [[1,2],[1,3],[2,4]]"
   ]
  },
  {
   "cell_type": "code",
   "execution_count": 48,
   "metadata": {},
   "outputs": [],
   "source": [
    "n = 5\n",
    "dislikes = [[1,2],[2,3],[3,4],[4,5],[1,5]]"
   ]
  },
  {
   "cell_type": "code",
   "execution_count": 64,
   "metadata": {},
   "outputs": [],
   "source": [
    "hate = {}\n",
    "for n1,n2 in dislikes:\n",
    "    if n1 not in hate: hate[n1] = []\n",
    "    if n2 not in hate: hate[n2] = []\n",
    "    hate[n1].append(n2)\n",
    "    hate[n2].append(n1)\n",
    "part = {}\n",
    "v = set()"
   ]
  },
  {
   "cell_type": "code",
   "execution_count": 65,
   "metadata": {},
   "outputs": [],
   "source": [
    "def dfs(i):\n",
    "    if i==n:\n",
    "        return True\n",
    "    if i not in part:\n",
    "        part[i] = 1\n",
    "    for to in hate[i]:\n",
    "        if (to,i) in v:\n",
    "            continue\n",
    "        v.add((i,to))\n",
    "        if to not in part:\n",
    "            part[to] = -part[i]\n",
    "        if part[to] == part[i]:\n",
    "            return False\n",
    "        dfs(to)"
   ]
  },
  {
   "cell_type": "code",
   "execution_count": 31,
   "metadata": {},
   "outputs": [
    {
     "data": {
      "text/plain": [
       "{1: 1, 2: -1, 3: 1, 4: -1, 5: 1}"
      ]
     },
     "execution_count": 31,
     "metadata": {},
     "output_type": "execute_result"
    }
   ],
   "source": [
    "part"
   ]
  },
  {
   "cell_type": "code",
   "execution_count": 38,
   "metadata": {},
   "outputs": [
    {
     "data": {
      "text/plain": [
       "{(1, 2), (2, 3), (3, 4), (4, 5), (5, 1)}"
      ]
     },
     "execution_count": 38,
     "metadata": {},
     "output_type": "execute_result"
    }
   ],
   "source": [
    "v"
   ]
  },
  {
   "cell_type": "code",
   "execution_count": 66,
   "metadata": {},
   "outputs": [
    {
     "data": {
      "text/plain": [
       "False"
      ]
     },
     "execution_count": 66,
     "metadata": {},
     "output_type": "execute_result"
    }
   ],
   "source": [
    "dfs(1)"
   ]
  },
  {
   "cell_type": "code",
   "execution_count": 34,
   "metadata": {},
   "outputs": [
    {
     "data": {
      "text/plain": [
       "{1: [2, 5], 2: [1, 3], 3: [2, 4], 4: [3, 5], 5: [4, 1]}"
      ]
     },
     "execution_count": 34,
     "metadata": {},
     "output_type": "execute_result"
    }
   ],
   "source": [
    "hate"
   ]
  },
  {
   "cell_type": "code",
   "execution_count": null,
   "metadata": {},
   "outputs": [],
   "source": []
  },
  {
   "cell_type": "code",
   "execution_count": null,
   "metadata": {},
   "outputs": [],
   "source": []
  },
  {
   "cell_type": "code",
   "execution_count": null,
   "metadata": {},
   "outputs": [],
   "source": [
    "def possibleBipartition(n, dislikes):\n",
    "    if N < 1 or not dislikes:\n",
    "        return True\n",
    "\n",
    "    # Transfer LC886 node pair list to LC785 graph list\n",
    "    graph = {}\n",
    "    for node1, node2 in dislikes:\n",
    "        if node1 not in graph: graph[node1] = []\n",
    "        if node2 not in graph: graph[node2] = []\n",
    "\n",
    "        graph[node1].append(node2)\n",
    "        graph[node2].append(node1)\n",
    "\n",
    "    # Use LC785's graph coloring method to solve this quetion\n",
    "    dic = {}\n",
    "    for graph_node in graph.keys():\n",
    "        if graph_node not in dic:\n",
    "            queue = [(graph_node, 0)]\n",
    "            dic[graph_node] = 0\n",
    "\n",
    "            while queue:\n",
    "                queue_node, flag = queue.pop(0)\n",
    "                tmp_flag = (flag + 1) % 2\n",
    "                for edge in graph[queue_node]:\n",
    "                    if edge in dic:\n",
    "                        if dic[edge] != tmp_flag:\n",
    "                            return False\n",
    "                    else:\n",
    "                        queue.append((edge, tmp_flag))\n",
    "                        dic[edge] = tmp_flag\n",
    "\n",
    "    return True"
   ]
  }
 ],
 "metadata": {
  "kernelspec": {
   "display_name": "Python 3",
   "language": "python",
   "name": "python3"
  },
  "language_info": {
   "codemirror_mode": {
    "name": "ipython",
    "version": 3
   },
   "file_extension": ".py",
   "mimetype": "text/x-python",
   "name": "python",
   "nbconvert_exporter": "python",
   "pygments_lexer": "ipython3",
   "version": "3.7.7"
  }
 },
 "nbformat": 4,
 "nbformat_minor": 4
}
