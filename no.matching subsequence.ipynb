{
 "cells": [
  {
   "cell_type": "code",
   "execution_count": 29,
   "metadata": {},
   "outputs": [],
   "source": [
    "s = \"abcde\"\n",
    "words = [\"a\",\"bb\",\"acd\",\"ace\"]"
   ]
  },
  {
   "cell_type": "code",
   "execution_count": 15,
   "metadata": {},
   "outputs": [],
   "source": [
    "s = \"dsahjpjauf\"\n",
    "words = [\"ahjpjau\",\"ja\",\"ahbwzgqnuk\",\"tnmlanowax\"]"
   ]
  },
  {
   "cell_type": "code",
   "execution_count": 27,
   "metadata": {},
   "outputs": [],
   "source": [
    "def numMatchingSubseq(s,words):\n",
    "    num = 0\n",
    "    for w in words:\n",
    "        loc = -1\n",
    "        for ch in w:\n",
    "            loc = s.find(ch,loc+1)\n",
    "            if loc<0:\n",
    "                break\n",
    "        else:\n",
    "            num+=1\n",
    "    return num"
   ]
  },
  {
   "cell_type": "code",
   "execution_count": 30,
   "metadata": {},
   "outputs": [
    {
     "data": {
      "text/plain": [
       "3"
      ]
     },
     "execution_count": 30,
     "metadata": {},
     "output_type": "execute_result"
    }
   ],
   "source": [
    "numMatchingSubseq(s,words)"
   ]
  },
  {
   "cell_type": "code",
   "execution_count": null,
   "metadata": {},
   "outputs": [],
   "source": []
  },
  {
   "cell_type": "code",
   "execution_count": null,
   "metadata": {},
   "outputs": [],
   "source": []
  },
  {
   "cell_type": "code",
   "execution_count": null,
   "metadata": {},
   "outputs": [],
   "source": []
  },
  {
   "cell_type": "code",
   "execution_count": null,
   "metadata": {},
   "outputs": [],
   "source": []
  },
  {
   "cell_type": "code",
   "execution_count": null,
   "metadata": {},
   "outputs": [],
   "source": []
  },
  {
   "cell_type": "code",
   "execution_count": null,
   "metadata": {},
   "outputs": [],
   "source": []
  },
  {
   "cell_type": "code",
   "execution_count": null,
   "metadata": {},
   "outputs": [],
   "source": [
    "\"This uses string.find, idea is very similar to mine\"\n",
    "def numMatchingSubseq(self, s: str, words: List[str]) -> int:\n",
    "    # speed: O(W * N), where W = len(words), N = len(s)\n",
    "    # space: O(1)\n",
    "\n",
    "    result = 0\n",
    "\n",
    "    for word in words:\n",
    "        pos = -1\n",
    "        # below is the standard for/else structure in python\n",
    "        for ch in word:  # the worst number of iterations is len(s), it includes internal operations in s.find()\n",
    "            pos = s.find(ch, pos+1)\n",
    "            if pos < 0:\n",
    "                # word failed matching as a subsequence\n",
    "                break\n",
    "        else:\n",
    "            # word matched as a subsequence\n",
    "            result += 1\n",
    "\n",
    "    return result"
   ]
  },
  {
   "cell_type": "code",
   "execution_count": null,
   "metadata": {},
   "outputs": [],
   "source": []
  },
  {
   "cell_type": "code",
   "execution_count": null,
   "metadata": {},
   "outputs": [],
   "source": []
  },
  {
   "cell_type": "code",
   "execution_count": 24,
   "metadata": {},
   "outputs": [],
   "source": [
    "\"changing to a set doesn't make too much difference\"\n",
    "\"Time Limite Exceeded\"\n",
    "def numMatchingSubseq(s,words):\n",
    "    num=0\n",
    "    for w in words:\n",
    "        loc = 0\n",
    "        for c in w:\n",
    "            if c in set(s[loc:]):\n",
    "                loc += (s[loc:].index(c)+1)\n",
    "            else:\n",
    "                num-=1\n",
    "                break\n",
    "        num+=1\n",
    "    return num"
   ]
  },
  {
   "cell_type": "code",
   "execution_count": 19,
   "metadata": {},
   "outputs": [],
   "source": [
    "\"Time Limite Exceeded\"\n",
    "@functools.lru_cache()\n",
    "def numMatchingSubseq(s,words):\n",
    "    num=0\n",
    "    for w in words:\n",
    "        print(w)\n",
    "        loc = 0\n",
    "        for c in w:\n",
    "            if c in s[loc:]:\n",
    "                loc += (s[loc:].index(c)+1)\n",
    "            else:\n",
    "                num-=1\n",
    "                break\n",
    "        num+=1\n",
    "    return num"
   ]
  },
  {
   "cell_type": "code",
   "execution_count": null,
   "metadata": {},
   "outputs": [],
   "source": []
  }
 ],
 "metadata": {
  "kernelspec": {
   "display_name": "Python 3",
   "language": "python",
   "name": "python3"
  },
  "language_info": {
   "codemirror_mode": {
    "name": "ipython",
    "version": 3
   },
   "file_extension": ".py",
   "mimetype": "text/x-python",
   "name": "python",
   "nbconvert_exporter": "python",
   "pygments_lexer": "ipython3",
   "version": "3.7.7"
  }
 },
 "nbformat": 4,
 "nbformat_minor": 4
}
