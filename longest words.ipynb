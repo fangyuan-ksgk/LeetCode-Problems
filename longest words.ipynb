{
 "cells": [
  {
   "cell_type": "code",
   "execution_count": 11,
   "metadata": {},
   "outputs": [
    {
     "data": {
      "text/plain": [
       "['a', 'ap', 'app', 'appl', 'apple', 'apply', 'banana']"
      ]
     },
     "execution_count": 11,
     "metadata": {},
     "output_type": "execute_result"
    }
   ],
   "source": [
    "words = [\"a\",\"banana\",\"app\",\"appl\",\"ap\",\"apply\",\"apple\"]\n",
    "sorted(words)"
   ]
  },
  {
   "cell_type": "code",
   "execution_count": 22,
   "metadata": {},
   "outputs": [
    {
     "data": {
      "text/plain": [
       "'apple'"
      ]
     },
     "execution_count": 22,
     "metadata": {},
     "output_type": "execute_result"
    }
   ],
   "source": [
    "import sys\n",
    "def longestWord(words):\n",
    "    ans = []\n",
    "    sword = sorted(words)\n",
    "    maxl = 0\n",
    "    for w in sword[::-1]:\n",
    "        if w[:-1] in sword:\n",
    "            if len(w)>=maxl:\n",
    "                ans.append(w)\n",
    "                maxl = len(w)\n",
    "            else:\n",
    "                break\n",
    "        else:\n",
    "            continue\n",
    "\n",
    "    return sorted(ans)[0]"
   ]
  },
  {
   "cell_type": "code",
   "execution_count": 23,
   "metadata": {},
   "outputs": [],
   "source": [
    "words = [\"b\",\"br\",\"bre\",\"brea\",\"break\",\"breakf\",\"breakfa\",\"breakfas\",\"breakfast\",\"l\",\"lu\",\"lun\",\"lunc\",\"lunch\",\"d\",\"di\",\"din\",\"dinn\",\"dinne\",\"dinner\"]"
   ]
  },
  {
   "cell_type": "code",
   "execution_count": 49,
   "metadata": {},
   "outputs": [
    {
     "data": {
      "text/plain": [
       "'breakfast'"
      ]
     },
     "execution_count": 49,
     "metadata": {},
     "output_type": "execute_result"
    }
   ],
   "source": [
    "longestWord(words)"
   ]
  },
  {
   "cell_type": "code",
   "execution_count": 48,
   "metadata": {},
   "outputs": [],
   "source": [
    "def longestWord(words):\n",
    "    dict = {}\n",
    "    for w in words:\n",
    "        if w in dict:\n",
    "            continue\n",
    "        else:\n",
    "            dict[w] = len(w)\n",
    "\n",
    "    ans = []        \n",
    "    sword = sorted(dict.items(), key=lambda x: x[1])\n",
    "    maxl = 0\n",
    "    for (w,lw) in sword[::-1]:\n",
    "        if (w[:-1],lw-1) in sword:\n",
    "            if lw>=maxl:\n",
    "                ans.append(w)\n",
    "                maxl = lw\n",
    "            else:\n",
    "                break\n",
    "        else:\n",
    "            continue\n",
    "    return sorted(ans)[0]"
   ]
  },
  {
   "cell_type": "code",
   "execution_count": 47,
   "metadata": {},
   "outputs": [
    {
     "data": {
      "text/plain": [
       "['breakfast']"
      ]
     },
     "execution_count": 47,
     "metadata": {},
     "output_type": "execute_result"
    }
   ],
   "source": [
    "ans"
   ]
  },
  {
   "cell_type": "code",
   "execution_count": null,
   "metadata": {},
   "outputs": [],
   "source": []
  }
 ],
 "metadata": {
  "kernelspec": {
   "display_name": "Python 3",
   "language": "python",
   "name": "python3"
  },
  "language_info": {
   "codemirror_mode": {
    "name": "ipython",
    "version": 3
   },
   "file_extension": ".py",
   "mimetype": "text/x-python",
   "name": "python",
   "nbconvert_exporter": "python",
   "pygments_lexer": "ipython3",
   "version": "3.7.7"
  }
 },
 "nbformat": 4,
 "nbformat_minor": 4
}
