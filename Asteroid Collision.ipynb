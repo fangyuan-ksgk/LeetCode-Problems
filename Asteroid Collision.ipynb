{
 "cells": [
  {
   "cell_type": "markdown",
   "metadata": {},
   "source": [
    "Find out the state of the asteroids after all collisions. If two asteroids meet, the smaller one will explode. If both are the same size, both will explode. Two asteroids moving in the same direction will never meet."
   ]
  },
  {
   "cell_type": "code",
   "execution_count": 148,
   "metadata": {},
   "outputs": [],
   "source": [
    "def asteroidCollision(asteroid):\n",
    "    n = len(asteroids)\n",
    "    for i in range(n-1):\n",
    "        l = None\n",
    "        if asteroids[i]>0 and asteroids[i+1]<0:\n",
    "            l = i\n",
    "            break\n",
    "\n",
    "    while l is not None and l<(n-1):\n",
    "        if abs(asteroids[l+1])>abs(asteroids[l]):\n",
    "            asteroids.pop(l)\n",
    "        elif abs(asteroids[l+1])<abs(asteroids[l]):\n",
    "            asteroids.pop(l+1)\n",
    "        else:\n",
    "            asteroids.pop(l)\n",
    "            asteroids.pop(l)\n",
    "        n = len(asteroids)\n",
    "        for i in range(n-1):\n",
    "            l = None\n",
    "            if asteroids[i]>0 and asteroids[i+1]<0:\n",
    "                l = i\n",
    "                break\n",
    "    \n",
    "    return asteroids"
   ]
  },
  {
   "cell_type": "code",
   "execution_count": 150,
   "metadata": {},
   "outputs": [],
   "source": [
    "\"\"\"\n",
    "Stack solution 6 times faster, WHY?\n",
    "\"\"\"\n",
    "\n",
    "def asteroidCollision(asteroid):\n",
    "    # > 0 ----> leftAsteroid\n",
    "    # < 0 <---- rightAsteroid\n",
    "    stack = []\n",
    "    for asteroid in asteroids:\n",
    "\n",
    "        while stack and stack[-1] > 0 and asteroid < 0:\n",
    "            leftAsteroid, rightAsteroid = stack.pop(), abs(asteroid)\n",
    "            if leftAsteroid == rightAsteroid:\n",
    "                asteroid = 0\n",
    "            elif leftAsteroid > rightAsteroid:\n",
    "                asteroid = leftAsteroid\n",
    "\n",
    "        if asteroid != 0:\n",
    "            stack.append(asteroid)\n",
    "\n",
    "    return stack"
   ]
  },
  {
   "cell_type": "code",
   "execution_count": 168,
   "metadata": {},
   "outputs": [],
   "source": [
    "\"\"\"\n",
    "Stack solution 6 times faster, BEST VERSION\n",
    "\"\"\"\n",
    "\n",
    "def asteroidCollision(asteroid):\n",
    "    \n",
    "    stack = collections.deque()\n",
    "    for a in asteroids:\n",
    "        #not empty stack & last element positive & a negative & collision happens\"\n",
    "        while stack and stack[-1] > 0 and a < 0:\n",
    "            f, s = abs(stack[-1]), abs(a)\n",
    "            if f < s:\n",
    "                stack.pop()\n",
    "                #return to condition judgement of while loop with new stack\"\n",
    "                continue\n",
    "            elif f == s:\n",
    "                stack.pop()\n",
    "            #enter next for loop with a+1\"\n",
    "            break\n",
    "        #The else clause is executed if you exit a block normally, not when break happens\"\n",
    "        #when while condition is not met, enter else statement\"\n",
    "        else:\n",
    "            stack.append(a)\n",
    "    return stack"
   ]
  },
  {
   "cell_type": "code",
   "execution_count": 144,
   "metadata": {},
   "outputs": [
    {
     "data": {
      "text/plain": [
       "[10]"
      ]
     },
     "execution_count": 144,
     "metadata": {},
     "output_type": "execute_result"
    }
   ],
   "source": [
    "asteroids = [10,-5]\n",
    "asteroidCollision(asteroids)"
   ]
  },
  {
   "cell_type": "code",
   "execution_count": 145,
   "metadata": {},
   "outputs": [
    {
     "data": {
      "text/plain": [
       "[5, 10]"
      ]
     },
     "execution_count": 145,
     "metadata": {},
     "output_type": "execute_result"
    }
   ],
   "source": [
    "asteroids = [5,10,-5]\n",
    "asteroidCollision(asteroids)"
   ]
  },
  {
   "cell_type": "code",
   "execution_count": 146,
   "metadata": {},
   "outputs": [
    {
     "data": {
      "text/plain": [
       "[5, 10]"
      ]
     },
     "execution_count": 146,
     "metadata": {},
     "output_type": "execute_result"
    }
   ],
   "source": [
    "asteroids = [5,10,-5,4,-4]\n",
    "asteroidCollision(asteroids)"
   ]
  },
  {
   "cell_type": "code",
   "execution_count": 147,
   "metadata": {},
   "outputs": [
    {
     "data": {
      "text/plain": [
       "[]"
      ]
     },
     "execution_count": 147,
     "metadata": {},
     "output_type": "execute_result"
    }
   ],
   "source": [
    "asteroids = [8,-8]\n",
    "asteroidCollision(asteroids)"
   ]
  },
  {
   "cell_type": "code",
   "execution_count": 130,
   "metadata": {},
   "outputs": [
    {
     "data": {
      "text/plain": [
       "[-2, -1, 1, 2]"
      ]
     },
     "execution_count": 130,
     "metadata": {},
     "output_type": "execute_result"
    }
   ],
   "source": [
    "asteroids = [-2,-1,1,2]\n",
    "asteroidCollision(asteroids)"
   ]
  },
  {
   "cell_type": "code",
   "execution_count": null,
   "metadata": {},
   "outputs": [],
   "source": []
  }
 ],
 "metadata": {
  "kernelspec": {
   "display_name": "Python 3",
   "language": "python",
   "name": "python3"
  },
  "language_info": {
   "codemirror_mode": {
    "name": "ipython",
    "version": 3
   },
   "file_extension": ".py",
   "mimetype": "text/x-python",
   "name": "python",
   "nbconvert_exporter": "python",
   "pygments_lexer": "ipython3",
   "version": "3.7.7"
  }
 },
 "nbformat": 4,
 "nbformat_minor": 4
}
