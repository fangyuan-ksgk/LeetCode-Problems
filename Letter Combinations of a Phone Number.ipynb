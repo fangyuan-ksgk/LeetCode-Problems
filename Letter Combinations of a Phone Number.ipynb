{
 "cells": [
  {
   "cell_type": "code",
   "execution_count": 171,
   "metadata": {},
   "outputs": [],
   "source": [
    "\"Brute Force\"\n",
    "\n",
    "def letterCombinations(digits):\n",
    "    num_dict = {\"2\":\"abc\",\"3\":\"def\",\"4\":\"ghi\",\"5\":\"jkl\",\"6\":\"mno\",\"7\":\"pqrs\",\n",
    "           \"8\":\"tuv\", \"9\":\"wxyz\"}\n",
    "    if digits == \"\":\n",
    "        return []\n",
    "    output = [\"\"]\n",
    "    for i, dig in enumerate(digits):\n",
    "        # number of divergence for current digit\n",
    "        num_poss = len(num_dict[dig])\n",
    "        # new output list\n",
    "        update_output = []\n",
    "        # for each element in original output, duplicate and add new letter\n",
    "        for single in output:\n",
    "            # duplicate list \n",
    "            inter = [single] * num_poss\n",
    "            for k, letter in enumerate(num_dict[dig]):\n",
    "                inter[k] += letter\n",
    "            update_output += inter\n",
    "        # update\n",
    "        output = update_output\n",
    "\n",
    "    return output"
   ]
  },
  {
   "cell_type": "code",
   "execution_count": 169,
   "metadata": {},
   "outputs": [],
   "source": [
    "\"Backtracking\"\n",
    "\n",
    "def letterCombinations1(digits):\n",
    "    num_dict = {\"2\":\"abc\",\"3\":\"def\",\"4\":\"ghi\",\"5\":\"jkl\",\"6\":\"mno\",\"7\":\"pqrs\",\n",
    "               \"8\":\"tuv\", \"9\":\"wxyz\"}\n",
    "    if digits == \"\":\n",
    "        return []\n",
    "    \n",
    "    def backtracking(index, path, combinations):\n",
    "        if len(path) == len(digits):\n",
    "            combinations.append(\"\".join(path))\n",
    "            return\n",
    "        for letter in num_dict[digits[index]]:\n",
    "            path.append(letter)\n",
    "            backtracking(index+1, path, combinations)\n",
    "            path.pop()\n",
    "        return combinations\n",
    "    \n",
    "    return backtracking(0,[],[])"
   ]
  },
  {
   "cell_type": "code",
   "execution_count": 170,
   "metadata": {},
   "outputs": [
    {
     "data": {
      "text/plain": [
       "['ad', 'ae', 'af', 'bd', 'be', 'bf', 'cd', 'ce', 'cf']"
      ]
     },
     "execution_count": 170,
     "metadata": {},
     "output_type": "execute_result"
    }
   ],
   "source": [
    "letterCombinations1(digits)"
   ]
  },
  {
   "cell_type": "code",
   "execution_count": 165,
   "metadata": {},
   "outputs": [],
   "source": [
    "\"这次是反向数学归纳\"\n",
    "def backtracking(index, path, combinations):\n",
    "    \"最后一步\"\n",
    "    if len(path) == len(digits):\n",
    "        combinations.append(\"\".join(path))\n",
    "        \"It is crucial to add this return command here\"\n",
    "        \"Also called: BackTrack\"\n",
    "        return\n",
    "    \"由前向后\"\n",
    "    for letter in num_dict[digits[index]]:\n",
    "        path.append(letter)\n",
    "        backtracking(index+1, path, combinations)\n",
    "        path.pop()\n",
    "    \n",
    "    return combinations"
   ]
  },
  {
   "cell_type": "code",
   "execution_count": null,
   "metadata": {},
   "outputs": [],
   "source": []
  }
 ],
 "metadata": {
  "kernelspec": {
   "display_name": "Python 3",
   "language": "python",
   "name": "python3"
  },
  "language_info": {
   "codemirror_mode": {
    "name": "ipython",
    "version": 3
   },
   "file_extension": ".py",
   "mimetype": "text/x-python",
   "name": "python",
   "nbconvert_exporter": "python",
   "pygments_lexer": "ipython3",
   "version": "3.7.7"
  }
 },
 "nbformat": 4,
 "nbformat_minor": 4
}
