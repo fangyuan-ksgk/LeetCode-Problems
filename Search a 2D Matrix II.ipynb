{
 "cells": [
  {
   "cell_type": "code",
   "execution_count": 29,
   "metadata": {},
   "outputs": [],
   "source": [
    "matrix = [[1, 4, 7, 11,15],\n",
    "          [2, 5, 8, 12,19],\n",
    "          [3, 6, 9, 16,22],\n",
    "          [10,13,14,17,24],\n",
    "          [18,21,23,26,30]]\n",
    "\n",
    "target = 21"
   ]
  },
  {
   "cell_type": "code",
   "execution_count": 38,
   "metadata": {},
   "outputs": [],
   "source": [
    "\"Just in case we wish to do it fast\"\n",
    "\"Turns out to be the best solution here\"\n",
    "import itertools\n",
    "def searchMatrix(matrix, target):\n",
    "    m = len(matrix)\n",
    "    n = len(matrix[0])\n",
    "    return target in set([matrix[i][j] for i,j in itertools.product(range(m),range(n))])"
   ]
  },
  {
   "cell_type": "code",
   "execution_count": 39,
   "metadata": {},
   "outputs": [],
   "source": [
    "import heapq"
   ]
  },
  {
   "cell_type": "code",
   "execution_count": 53,
   "metadata": {},
   "outputs": [
    {
     "data": {
      "text/plain": [
       "True"
      ]
     },
     "execution_count": 53,
     "metadata": {},
     "output_type": "execute_result"
    }
   ],
   "source": [
    "\"Dijacker extract out sorted list\"\n",
    "m = len(matrix)\n",
    "n = len(matrix[0])\n",
    "s = set()\n",
    "v = set()\n",
    "i,j = 0,0\n",
    "pq = [(0,0,0)]\n",
    "while pq:\n",
    "    min_d,i,j = heapq.heappop(pq)\n",
    "    s.add(matrix[i][j])\n",
    "    for (k,l) in (i+1,j),(i,j+1):\n",
    "        if k<m and l<n and (k,l) not in v:\n",
    "            heapq.heappush(pq,(matrix[k][l],k,l))\n",
    "            v.add((k,l))\n",
    "            \n",
    "\"whether target in s\"\n",
    "target in s"
   ]
  },
  {
   "cell_type": "code",
   "execution_count": null,
   "metadata": {},
   "outputs": [],
   "source": [
    "\"proper solution\"\n",
    "def searchMatrix(matrix, target):\n",
    "    \"Dijacker extract out sorted list\"\n",
    "    m = len(matrix)\n",
    "    n = len(matrix[0])\n",
    "    s = []\n",
    "    v = set()\n",
    "    i,j = 0,0\n",
    "    pq = [(0,0,0)]\n",
    "    while pq:\n",
    "        min_d,i,j = heapq.heappop(pq)\n",
    "        s += [matrix[i][j]]\n",
    "        for (k,l) in (i+1,j),(i,j+1):\n",
    "            if k<m and l<n and (k,l) not in v:\n",
    "                heapq.heappush(pq,(matrix[k][l],k,l))\n",
    "                v.add((k,l))\n",
    "    \"whether target in s\"\n",
    "    return target in s"
   ]
  }
 ],
 "metadata": {
  "kernelspec": {
   "display_name": "Python 3",
   "language": "python",
   "name": "python3"
  },
  "language_info": {
   "codemirror_mode": {
    "name": "ipython",
    "version": 3
   },
   "file_extension": ".py",
   "mimetype": "text/x-python",
   "name": "python",
   "nbconvert_exporter": "python",
   "pygments_lexer": "ipython3",
   "version": "3.7.7"
  }
 },
 "nbformat": 4,
 "nbformat_minor": 4
}
