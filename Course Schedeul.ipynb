{
 "cells": [
  {
   "cell_type": "code",
   "execution_count": 14,
   "metadata": {},
   "outputs": [],
   "source": [
    "def canFinish(n,pre):\n",
    "    pre = [[1,0],[0,1],[2,3]]\n",
    "    \"Build Graph\"\n",
    "    prenum = [0]*n\n",
    "    node = [[] for _ in range(n)]\n",
    "    for (i,j) in pre:\n",
    "        node[j] += [i]\n",
    "        prenum[i] += 1\n",
    "\n",
    "    stack = {i for i in range(n) if not prenum[i]}\n",
    "    \"考虑能上的课\"\n",
    "    while stack:\n",
    "        n -= 1\n",
    "        for i in node[stack.pop()]:\n",
    "            prenum[i] -= 1\n",
    "            if not prenum[i]:\n",
    "                stack.add(i)\n",
    "    return not n"
   ]
  },
  {
   "cell_type": "code",
   "execution_count": null,
   "metadata": {},
   "outputs": [],
   "source": [
    "#Build a Graph - O(E)/O(V + E)\n",
    "prereqs = [0]*n\n",
    "nodes = [[] for i in range(n)]\n",
    "for i in range(len(prerequisites)):\n",
    "    #Get the Prerequisites\n",
    "    i, j = prerequisites.pop()\n",
    "\n",
    "    #Build the Graph\n",
    "    nodes[j].append(i)\n",
    "    prereqs[i] += 1\n",
    "\n",
    "#Take as Many Classes as Possible - O(V + E)/O(V)\n",
    "stack = {i for i in range(n) if not prereqs[i]}\n",
    "\"实际上重要的insight就是如果没有for free的课，就没可能能上任何一节\"\n",
    "while stack:\n",
    "    #Count the Class\n",
    "    n -= 1\n",
    "\n",
    "    #Update the Classes the Last Class was a Prereq For\n",
    "    for i in nodes[stack.pop()]:\n",
    "        #Mark that Class i Has 1 Fewer Untaken Prerequisite\n",
    "        prereqs[i] -= 1\n",
    "\n",
    "        #Add the Class to the Stack\n",
    "        if not prereqs[i]:\n",
    "            stack.add(i)\n",
    "\n",
    "#Check if All Classes Were Taken\n",
    "return not n"
   ]
  },
  {
   "cell_type": "code",
   "execution_count": null,
   "metadata": {},
   "outputs": [],
   "source": []
  }
 ],
 "metadata": {
  "kernelspec": {
   "display_name": "Python 3",
   "language": "python",
   "name": "python3"
  },
  "language_info": {
   "codemirror_mode": {
    "name": "ipython",
    "version": 3
   },
   "file_extension": ".py",
   "mimetype": "text/x-python",
   "name": "python",
   "nbconvert_exporter": "python",
   "pygments_lexer": "ipython3",
   "version": "3.7.7"
  }
 },
 "nbformat": 4,
 "nbformat_minor": 4
}
