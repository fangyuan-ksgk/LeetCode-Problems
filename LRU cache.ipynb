{
 "cells": [
  {
   "cell_type": "code",
   "execution_count": 106,
   "id": "319a46e5-8fa0-49c4-b71b-75962298df45",
   "metadata": {},
   "outputs": [],
   "source": [
    "\"\"\"\n",
    "Definition of 'Use before'\n",
    "1. We change its value\n",
    "2. We get its value\n",
    "\"\"\"\n",
    "# Difnition of Use: we change its value / we get its value (keys)\n",
    "class LRUCache:\n",
    "\n",
    "    def __init__(self, capacity):\n",
    "        self.cap = capacity\n",
    "        self.cdict = {}\n",
    "        self.l = 0\n",
    "        \n",
    "    # we need to record the get key: used key here also\n",
    "    def get(self, key):\n",
    "        if key in self.cdict:\n",
    "            print(len(self.cdict))\n",
    "            self.cdict[key] = self.cdict.pop(key)\n",
    "            print(len(self.cdict))\n",
    "            return self.cdict[key]\n",
    "        else:\n",
    "            return -1\n",
    "\n",
    "    def put(self, key, value):\n",
    "        if key in self.cdict:\n",
    "            self.cdict.pop(key)\n",
    "            self.cdict[key] = value\n",
    "        if self.l==self.cap:\n",
    "            self.cdict.pop(next(iter(self.cdict)))\n",
    "            self.l -= 1\n",
    "        self.cdict[key] = value\n",
    "        self.l += 1"
   ]
  },
  {
   "cell_type": "code",
   "execution_count": null,
   "id": "0cbcf0f3-ff7e-466d-bfaf-a540ec31f168",
   "metadata": {},
   "outputs": [],
   "source": []
  }
 ],
 "metadata": {
  "kernelspec": {
   "display_name": "Python 3 (ipykernel)",
   "language": "python",
   "name": "python3"
  },
  "language_info": {
   "codemirror_mode": {
    "name": "ipython",
    "version": 3
   },
   "file_extension": ".py",
   "mimetype": "text/x-python",
   "name": "python",
   "nbconvert_exporter": "python",
   "pygments_lexer": "ipython3",
   "version": "3.7.7"
  }
 },
 "nbformat": 4,
 "nbformat_minor": 5
}
