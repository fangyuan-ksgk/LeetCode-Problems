{
 "cells": [
  {
   "cell_type": "code",
   "execution_count": 115,
   "metadata": {},
   "outputs": [],
   "source": [
    "\"My solution: takes a while to reach here: 55% + 72%\"\n",
    "\n",
    "def jump(nums):\n",
    "    nums = nums[:-1]\n",
    "    while nums != len(nums)*[1]:\n",
    "        nums = update_nums(nums)\n",
    "    else:\n",
    "        return len(nums)\n",
    "    \n",
    "def update_nums(nums):\n",
    "    t = len(nums)\n",
    "    goodpoint=[]\n",
    "    i=0\n",
    "    p=1\n",
    "    while i<t:\n",
    "        if nums[i]<=(p-1):\n",
    "            p-=1\n",
    "        else:\n",
    "            p=nums[i]\n",
    "            goodpoint += [i]\n",
    "        i+=1\n",
    "    \n",
    "    lg = len(goodpoint)\n",
    "    new_nums = []\n",
    "    k=0\n",
    "    j=0\n",
    "    for k in range(lg):\n",
    "        for i in range(j+1,lg):\n",
    "            if goodpoint[i]<=(nums[goodpoint[k]] + goodpoint[k]):\n",
    "                j+=1\n",
    "            else:\n",
    "                break  \n",
    "        if t <=(nums[goodpoint[k]] + goodpoint[k]):\n",
    "            j=lg\n",
    "        new_nums += [j-k]\n",
    "    return new_nums"
   ]
  },
  {
   "cell_type": "code",
   "execution_count": null,
   "metadata": {},
   "outputs": [],
   "source": [
    "\"Similar performance answer with much shorter code\"\n",
    "def jump(nums):\n",
    "    \"nxt: maximal reachable position including current jump\"\n",
    "    \"curr: maximal reachable position before current jump\"\n",
    "    \"I am suprised this logic came through will no issue...\"\n",
    "    Nlen, curr, nxt, ans, i = len(nums) - 1, -1, 0, 0, 0\n",
    "    while nxt < Nlen:\n",
    "        if i > curr:\n",
    "            ans += 1\n",
    "            curr = nxt\n",
    "        nxt = max(nxt, nums[i] + i)\n",
    "        \"interpretation point\"\n",
    "        i += 1\n",
    "    return ans"
   ]
  },
  {
   "cell_type": "code",
   "execution_count": 124,
   "metadata": {},
   "outputs": [
    {
     "data": {
      "text/plain": [
       "2"
      ]
     },
     "execution_count": 124,
     "metadata": {},
     "output_type": "execute_result"
    }
   ],
   "source": [
    "nums = [2,3,0,1,4]\n",
    "jump(nums)"
   ]
  },
  {
   "cell_type": "code",
   "execution_count": 125,
   "metadata": {},
   "outputs": [
    {
     "data": {
      "text/plain": [
       "2"
      ]
     },
     "execution_count": 125,
     "metadata": {},
     "output_type": "execute_result"
    }
   ],
   "source": [
    "nums = [7,0,9,6,9,6,1,7,9,0,1,2,9,0,3]\n",
    "jump(nums)"
   ]
  },
  {
   "cell_type": "code",
   "execution_count": 126,
   "metadata": {},
   "outputs": [
    {
     "data": {
      "text/plain": [
       "2"
      ]
     },
     "execution_count": 126,
     "metadata": {},
     "output_type": "execute_result"
    }
   ],
   "source": [
    "nums = [3,3,3,3,2,1]\n",
    "jump(nums)"
   ]
  },
  {
   "cell_type": "code",
   "execution_count": 121,
   "metadata": {},
   "outputs": [],
   "source": []
  },
  {
   "cell_type": "code",
   "execution_count": 108,
   "metadata": {},
   "outputs": [],
   "source": [
    "t = len(nums)\n",
    "goodpoint=[]\n",
    "i=0\n",
    "p=1\n",
    "while i<t:\n",
    "    if nums[i]<=(p-1):\n",
    "        p-=1\n",
    "    else:\n",
    "        p=nums[i]\n",
    "        goodpoint += [i]\n",
    "    i+=1\n"
   ]
  },
  {
   "cell_type": "code",
   "execution_count": 112,
   "metadata": {},
   "outputs": [],
   "source": [
    "lg = len(goodpoint)\n",
    "new_nums = []\n",
    "k=0\n",
    "j=0\n",
    "for k in range(lg):\n",
    "    for i in range(j+1,lg):\n",
    "        if goodpoint[i]<=(nums[goodpoint[k]] + goodpoint[k]):\n",
    "            j+=1\n",
    "        else:\n",
    "            break  \n",
    "    if t <=(nums[goodpoint[k]] + goodpoint[k]):\n",
    "        j=lg\n",
    "    new_nums += [j-k]"
   ]
  },
  {
   "cell_type": "code",
   "execution_count": 113,
   "metadata": {},
   "outputs": [
    {
     "data": {
      "text/plain": [
       "2"
      ]
     },
     "execution_count": 113,
     "metadata": {},
     "output_type": "execute_result"
    }
   ],
   "source": [
    "lg"
   ]
  },
  {
   "cell_type": "code",
   "execution_count": 114,
   "metadata": {},
   "outputs": [
    {
     "data": {
      "text/plain": [
       "[1, 1]"
      ]
     },
     "execution_count": 114,
     "metadata": {},
     "output_type": "execute_result"
    }
   ],
   "source": [
    "new_nums"
   ]
  },
  {
   "cell_type": "code",
   "execution_count": null,
   "metadata": {},
   "outputs": [],
   "source": []
  }
 ],
 "metadata": {
  "kernelspec": {
   "display_name": "Python 3",
   "language": "python",
   "name": "python3"
  },
  "language_info": {
   "codemirror_mode": {
    "name": "ipython",
    "version": 3
   },
   "file_extension": ".py",
   "mimetype": "text/x-python",
   "name": "python",
   "nbconvert_exporter": "python",
   "pygments_lexer": "ipython3",
   "version": "3.7.7"
  }
 },
 "nbformat": 4,
 "nbformat_minor": 4
}
