{
 "cells": [
  {
   "cell_type": "code",
   "execution_count": 155,
   "metadata": {},
   "outputs": [
    {
     "name": "stdout",
     "output_type": "stream",
     "text": [
      "1.0 0.5937424600999996\n"
     ]
    }
   ],
   "source": [
    "N=21\n",
    "K=17\n",
    "W=10\n",
    "\n",
    "\"\"\"\n",
    "这题够巧的\n",
    "\"\"\"\n",
    "dp = [1.0] + [0.0] * N   #when i=0, sum =1\n",
    "Wsum = 0\n",
    "for i in range(1, N + 1):\n",
    "    dp[i] = (Wsum +1) / W     #when i <=W\n",
    "    if i < K: \n",
    "        Wsum += dp[i]\n",
    "    if i - W >= 0: \n",
    "        Wsum -= dp[i - W]     #when i>w, we reuse the computations and just substract 1 from previous calculation\n",
    "    if i-W==0:\n",
    "        print(dp[i-W],Wsum)"
   ]
  },
  {
   "cell_type": "code",
   "execution_count": 124,
   "metadata": {},
   "outputs": [
    {
     "data": {
      "text/plain": [
       "1.0"
      ]
     },
     "execution_count": 124,
     "metadata": {},
     "output_type": "execute_result"
    }
   ],
   "source": [
    "n = 10\n",
    "k = 1\n",
    "maxPts = 10\n",
    "\n",
    "new21Game(n,k,maxPts)"
   ]
  },
  {
   "cell_type": "code",
   "execution_count": 121,
   "metadata": {},
   "outputs": [
    {
     "data": {
      "text/plain": [
       "0.6"
      ]
     },
     "execution_count": 121,
     "metadata": {},
     "output_type": "execute_result"
    }
   ],
   "source": [
    "n = 6\n",
    "k = 1\n",
    "maxPts = 10\n",
    "\n",
    "new21Game(n,k,maxPts)"
   ]
  },
  {
   "cell_type": "code",
   "execution_count": 145,
   "metadata": {},
   "outputs": [],
   "source": [
    "n = 21\n",
    "k = 17\n",
    "maxPts = 10"
   ]
  },
  {
   "cell_type": "code",
   "execution_count": 150,
   "metadata": {},
   "outputs": [
    {
     "data": {
      "text/plain": [
       "0.7327777870686079"
      ]
     },
     "execution_count": 150,
     "metadata": {},
     "output_type": "execute_result"
    }
   ],
   "source": [
    "new21Game(n,k,maxPts)"
   ]
  },
  {
   "cell_type": "code",
   "execution_count": null,
   "metadata": {},
   "outputs": [],
   "source": [
    "dp = [1.0] + [0.0]*n\n",
    "wsum = 0\n",
    "for i in range(1,n+1):\n",
    "    dp[i] = (wsum + 1)/maxPts\n",
    "    if i<k:\n",
    "        wsum += dp[i]\n",
    "    if (i-maxPts)>=0:\n",
    "        wsum -= dp[i-maxPts]"
   ]
  },
  {
   "cell_type": "code",
   "execution_count": null,
   "metadata": {},
   "outputs": [],
   "source": [
    "class Solution:\n",
    "    \"\"\"\n",
    "    @param N: int\n",
    "    @param K: int\n",
    "    @param W: int\n",
    "    @return: the probability\n",
    "    \"\"\"\n",
    "    def new21Game(self, N, K, W):\n",
    "        # Write your code here.\n",
    "        if N >= K + W - 1: \n",
    "            return 1.0\n",
    "        dp = [1.0] + [0.0] * N   #when i=0, sum =1\n",
    "        Wsum = 0\n",
    "        for i in range(1, N + 1):\n",
    "            dp[i] = (Wsum +1) / W     #when i <=W\n",
    "            if i < K: \n",
    "                Wsum += dp[i]\n",
    "            if i - W >= 0: \n",
    "                Wsum -= dp[i - W]     #when i>w, we reuse the computations and just substract 1 from previous calculation\n",
    "        return sum(dp[K:])"
   ]
  },
  {
   "cell_type": "code",
   "execution_count": 152,
   "metadata": {},
   "outputs": [
    {
     "data": {
      "text/plain": [
       "0.48896353166986567"
      ]
     },
     "execution_count": 152,
     "metadata": {},
     "output_type": "execute_result"
    }
   ],
   "source": [
    "\"\"\"\n",
    "Why doesn't this work:\n",
    "\n",
    "This algorithms only count number of COMBINATION, however we want to also count\n",
    "all the ordered permuations! So that is why the count and thus the possibility \n",
    "result is not correct.\n",
    "\n",
    "Which is why for a question such as the Coin Change, this works fine, but not for\n",
    "a possibility computing question like the 21 Game!\n",
    "\"\"\"\n",
    "maxsum = k-1+maxPts\n",
    "count = [0 for _ in range(maxsum+1)]\n",
    "count[0]=1\n",
    "for pts in range(1,maxPts+1):\n",
    "    for curr in range(pts, maxsum+1):\n",
    "        if (curr-pts)>=k: break\n",
    "        else: count[curr]+=count[curr-pts]\n",
    "pos = sum(count[k:n+1])/sum(count[k:])\n",
    "pos"
   ]
  },
  {
   "cell_type": "code",
   "execution_count": 149,
   "metadata": {},
   "outputs": [],
   "source": [
    "\"Time Limite Exceeded but correct version\"\n",
    "\"dynamic programming I\"\n",
    "def new21Game(n, k, maxPts):\n",
    "    def dp(pts):\n",
    "        if k<=pts: \n",
    "            return int(pts<=n)\n",
    "        pos = 0\n",
    "        for i in range(1,maxPts+1):\n",
    "            pos += dp(pts+i)/maxPts\n",
    "        return pos\n",
    "    return dp(0)"
   ]
  },
  {
   "cell_type": "code",
   "execution_count": 41,
   "metadata": {},
   "outputs": [],
   "source": [
    "\"Time Limite Exceeded but correct version\"\n",
    "\"dynamic programming II\"\n",
    "def new21Game(n, k, maxPts):\n",
    "    def dp(pts):\n",
    "        if k<=pts: \n",
    "            return 1\n",
    "        pos = 0\n",
    "        for i in range(1,maxPts+1):\n",
    "            if (pts+i)<=n:\n",
    "                pos += dp(pts+i)/maxPts\n",
    "        return pos\n",
    "    return dp(0)"
   ]
  },
  {
   "cell_type": "code",
   "execution_count": null,
   "metadata": {},
   "outputs": [],
   "source": []
  }
 ],
 "metadata": {
  "kernelspec": {
   "display_name": "Python 3",
   "language": "python",
   "name": "python3"
  },
  "language_info": {
   "codemirror_mode": {
    "name": "ipython",
    "version": 3
   },
   "file_extension": ".py",
   "mimetype": "text/x-python",
   "name": "python",
   "nbconvert_exporter": "python",
   "pygments_lexer": "ipython3",
   "version": "3.7.7"
  }
 },
 "nbformat": 4,
 "nbformat_minor": 4
}
