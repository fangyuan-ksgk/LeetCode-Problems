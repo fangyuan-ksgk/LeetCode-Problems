{
 "cells": [
  {
   "cell_type": "code",
   "execution_count": 23,
   "metadata": {},
   "outputs": [],
   "source": [
    "grid = [[0,0,1,0,0,0,0,1,0,0,0,0,0],[0,0,0,0,0,0,0,1,1,1,0,0,0],[0,1,1,0,1,0,0,0,0,0,0,0,0],[0,1,0,0,1,1,0,0,1,0,1,0,0],[0,1,0,0,1,1,0,0,1,1,1,0,0],[0,0,0,0,0,0,0,0,0,0,1,0,0],[0,0,0,0,0,0,0,1,1,1,0,0,0],[0,0,0,0,0,0,0,1,1,0,0,0,0]]"
   ]
  },
  {
   "cell_type": "code",
   "execution_count": 56,
   "metadata": {},
   "outputs": [
    {
     "data": {
      "text/plain": [
       "[[0, 1, 1, 0, 0, 0, 0, 1, 0, 0, 0, 0, 0],\n",
       " [0, 0, 0, 0, 0, 0, 0, 1, 1, 1, 0, 0, 0],\n",
       " [0, 1, 1, 0, 1, 0, 0, 0, 0, 0, 0, 0, 0],\n",
       " [0, 1, 0, 0, 1, 1, 0, 0, 1, 0, 1, 0, 0],\n",
       " [0, 1, 0, 0, 1, 1, 0, 0, 1, 1, 1, 0, 0],\n",
       " [0, 0, 0, 0, 0, 0, 0, 0, 0, 0, 1, 0, 0],\n",
       " [0, 0, 0, 0, 0, 0, 0, 1, 1, 1, 0, 0, 0],\n",
       " [0, 0, 0, 0, 0, 0, 0, 1, 1, 0, 0, 0, 0]]"
      ]
     },
     "execution_count": 56,
     "metadata": {},
     "output_type": "execute_result"
    }
   ],
   "source": [
    "grid"
   ]
  },
  {
   "cell_type": "code",
   "execution_count": 61,
   "metadata": {},
   "outputs": [
    {
     "data": {
      "text/plain": [
       "5"
      ]
     },
     "execution_count": 61,
     "metadata": {},
     "output_type": "execute_result"
    }
   ],
   "source": [
    "m = len(grid)\n",
    "n = len(grid[0])\n",
    "v = set()\n",
    "dfs(2,4,0)"
   ]
  },
  {
   "cell_type": "code",
   "execution_count": 64,
   "metadata": {},
   "outputs": [],
   "source": [
    "\"this avoids need to use v altogether, pretty impressive\"\n",
    "\"dfs terminates automatically when no steps can be taken\"\n",
    "def dfs(i:int, j:int):\n",
    "    #Mark the Square as Visited\n",
    "    grid[i][j] = 0\n",
    "\n",
    "    #Visit the Neighboring Squares\n",
    "    area = 1\n",
    "    if i > 0 and grid[i - 1][j]:\n",
    "        #Move Up\n",
    "        area += dfs(i - 1, j)\n",
    "    if j < n and grid[i][j + 1]:\n",
    "        #Move Right\n",
    "        area += dfs(i, j + 1)\n",
    "    if i < m and grid[i + 1][j]:\n",
    "        #Move Down\n",
    "        area += dfs(i + 1, j)\n",
    "    if j > 0 and grid[i][j - 1]:\n",
    "        #Move Left\n",
    "        area += dfs(i, j - 1)\n",
    "\n",
    "    #Return the Area\n",
    "    return area"
   ]
  },
  {
   "cell_type": "code",
   "execution_count": null,
   "metadata": {},
   "outputs": [],
   "source": [
    "\"my version\"\n",
    "class Solution:\n",
    "    def maxAreaOfIsland(self, grid: List[List[int]]) -> int:\n",
    "        def dfs(i,j,currarea):\n",
    "            v.add((i,j))\n",
    "            \"this is the stopping criterior\"\n",
    "            if grid[i][j]==0:\n",
    "                return currarea\n",
    "            else:\n",
    "                currarea+=1\n",
    "                for (k,l) in (i-1,j),(i+1,j),(i,j+1),(i,j-1):\n",
    "                    if 0<=k<m and 0<=l<n and (k,l) not in v:\n",
    "                        currarea = dfs(k,l,currarea)\n",
    "            return currarea\n",
    "        m = len(grid)\n",
    "        n = len(grid[0])\n",
    "        v = set()\n",
    "        max_area = 0\n",
    "        for i,j in itertools.product(range(m),range(n)):\n",
    "            if grid[i][j]==0: continue\n",
    "            else:\n",
    "                max_area = max(max_area, dfs(i,j,0))\n",
    "        return max_area"
   ]
  },
  {
   "cell_type": "code",
   "execution_count": 60,
   "metadata": {},
   "outputs": [],
   "source": [
    "def dfs(i,j,currarea):\n",
    "    v.add((i,j))\n",
    "    \"this is the stopping criterior\"\n",
    "    if grid[i][j]==0:\n",
    "        return currarea\n",
    "    else:\n",
    "        currarea+=1\n",
    "        for (k,l) in (i-1,j),(i+1,j),(i,j+1),(i,j-1):\n",
    "            if 0<=k<m and 0<=l<n and (k,l) not in v:\n",
    "                currarea = dfs(k,l,currarea)\n",
    "    return currarea"
   ]
  },
  {
   "cell_type": "code",
   "execution_count": 63,
   "metadata": {},
   "outputs": [
    {
     "name": "stdout",
     "output_type": "stream",
     "text": [
      "6\n"
     ]
    }
   ],
   "source": [
    "m = len(grid)\n",
    "n = len(grid[0])\n",
    "v = set()\n",
    "\n",
    "import itertools\n",
    "\n",
    "max_area = 0\n",
    "for i,j in itertools.product(range(m),range(n)):\n",
    "    if grid[i][j]==0: continue\n",
    "    else:\n",
    "        max_area = max(max_area, dfs(i,j,0))\n",
    "print(max_area)"
   ]
  },
  {
   "cell_type": "code",
   "execution_count": 30,
   "metadata": {},
   "outputs": [
    {
     "data": {
      "text/plain": [
       "[0]"
      ]
     },
     "execution_count": 30,
     "metadata": {},
     "output_type": "execute_result"
    }
   ],
   "source": [
    "maxlen"
   ]
  },
  {
   "cell_type": "code",
   "execution_count": null,
   "metadata": {},
   "outputs": [],
   "source": []
  },
  {
   "cell_type": "code",
   "execution_count": null,
   "metadata": {},
   "outputs": [],
   "source": []
  },
  {
   "cell_type": "code",
   "execution_count": null,
   "metadata": {},
   "outputs": [],
   "source": []
  },
  {
   "cell_type": "code",
   "execution_count": 34,
   "metadata": {},
   "outputs": [],
   "source": [
    "\"return maxlen if start at 1 tiles, otherwise return False\"\n",
    "def dfs(i,j,maxa,curra):\n",
    "    print(i,j,curra,maxa)\n",
    "    v.add((i,j))\n",
    "    if grid[i][j]==0:\n",
    "        maxa = max(maxa, curra)\n",
    "        curra = 0\n",
    "        return maxa, curra\n",
    "    else:\n",
    "        curra+=1\n",
    "        maxa= max(maxa, curra)\n",
    "        return maxa, curra\n",
    "    \n",
    "    for (k,l) in (i-1,j),(i+1,j),(i,j+1),(i,j-1):\n",
    "        if 0<=k<m and 0<=l<n and (k,l) not in v:\n",
    "            curra, maxa = dfs(k,l,maxa,curra)\n",
    "    \n",
    "    return maxa, curra"
   ]
  },
  {
   "cell_type": "code",
   "execution_count": null,
   "metadata": {},
   "outputs": [],
   "source": []
  },
  {
   "cell_type": "code",
   "execution_count": null,
   "metadata": {},
   "outputs": [],
   "source": []
  },
  {
   "cell_type": "code",
   "execution_count": null,
   "metadata": {},
   "outputs": [],
   "source": []
  },
  {
   "cell_type": "code",
   "execution_count": null,
   "metadata": {},
   "outputs": [],
   "source": []
  },
  {
   "cell_type": "code",
   "execution_count": null,
   "metadata": {},
   "outputs": [],
   "source": []
  },
  {
   "cell_type": "code",
   "execution_count": null,
   "metadata": {},
   "outputs": [],
   "source": []
  },
  {
   "cell_type": "code",
   "execution_count": 25,
   "metadata": {},
   "outputs": [
    {
     "name": "stdout",
     "output_type": "stream",
     "text": [
      "True\n"
     ]
    }
   ],
   "source": [
    "m = len(grid)\n",
    "n = len(grid[0])\n",
    "total = m*n\n",
    "v = set()\n",
    "\n",
    "import itertools\n",
    "\n",
    "max_area = 0\n",
    "for i,j in itertools.product(range(m),range(n)):\n",
    "    if grid[i][j]==0: continue\n",
    "    else:\n",
    "        max_area = max(max_area, dfs(i,j))\n",
    "print(max_area)"
   ]
  },
  {
   "cell_type": "code",
   "execution_count": 21,
   "metadata": {},
   "outputs": [],
   "source": [
    "\"for each 1 connected region, we record its area\"\n",
    "m = len(grid)\n",
    "n = len(grid[0])\n",
    "total = m*n\n",
    "v = set()\n",
    "\n",
    "import itertools\n",
    "\n",
    "max_area = 0\n",
    "for i,j in itertools.product(range(m),range(n)):\n",
    "    if grid[i][j]==0: continue\n",
    "    else:\n",
    "        max_area = max(max_area, dfs(i,j))\n",
    "print(max_area)\n",
    "        \n",
    "\n",
    "\n",
    "\"return maxlen if start at 1 tiles, otherwise return False\"\n",
    "def dfs(i,j):\n",
    "    print(i,j,grid[i][j])\n",
    "    v.add((i,j))\n",
    "    if grid[i][j]==0:\n",
    "        return False\n",
    "    else:\n",
    "        return True\n",
    "    for (k,l) in (i-1,j),(i+1,j),(i,j+1),(i,j-1):\n",
    "        if 0<=k<m and 0<=l<n and (k,l) not in v:\n",
    "            if dfs(k,l):\n",
    "                maxlen[0]+=1\n",
    "    return maxlen"
   ]
  },
  {
   "cell_type": "code",
   "execution_count": 22,
   "metadata": {},
   "outputs": [
    {
     "name": "stdout",
     "output_type": "stream",
     "text": [
      "0 0 0\n"
     ]
    },
    {
     "data": {
      "text/plain": [
       "False"
      ]
     },
     "execution_count": 22,
     "metadata": {},
     "output_type": "execute_result"
    }
   ],
   "source": [
    "dfs(0,0)"
   ]
  },
  {
   "cell_type": "code",
   "execution_count": 15,
   "metadata": {},
   "outputs": [],
   "source": [
    "\"it is the detail structure of the dfs that troubles me EVERY TIME...\"\n",
    "m = len(grid)\n",
    "n = len(grid[0])\n",
    "total = m*n\n",
    "v = set()\n",
    "v.add((0,0))\n",
    "def dfs(i,j,curmax,vcount):\n",
    "    v.add((i,j))\n",
    "    vcount+=1\n",
    "    if vcount==total: \n",
    "        return curmax\n",
    "    for (k,l) in (i-1,j),(i+1,j),(i,j+1),(i,j-1):\n",
    "        if 0<=k<m and 0<=l<n and (k,l) not in v:\n",
    "            print(k,l)\n",
    "            if grid[k][l]==0: \n",
    "                output = max(dfs(k,l,0,vcount),curmax)\n",
    "            else:\n",
    "                output = dfs(k,l,curmax+1,vcount)\n",
    "    return output"
   ]
  },
  {
   "cell_type": "code",
   "execution_count": null,
   "metadata": {},
   "outputs": [],
   "source": []
  }
 ],
 "metadata": {
  "kernelspec": {
   "display_name": "Python 3",
   "language": "python",
   "name": "python3"
  },
  "language_info": {
   "codemirror_mode": {
    "name": "ipython",
    "version": 3
   },
   "file_extension": ".py",
   "mimetype": "text/x-python",
   "name": "python",
   "nbconvert_exporter": "python",
   "pygments_lexer": "ipython3",
   "version": "3.7.7"
  }
 },
 "nbformat": 4,
 "nbformat_minor": 4
}
