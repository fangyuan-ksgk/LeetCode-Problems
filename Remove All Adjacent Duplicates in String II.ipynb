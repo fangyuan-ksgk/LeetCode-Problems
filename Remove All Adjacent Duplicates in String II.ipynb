{
 "cells": [
  {
   "cell_type": "code",
   "execution_count": 56,
   "metadata": {},
   "outputs": [],
   "source": [
    "\"Best Version\"\n",
    "def remove(s,k):\n",
    "    stack = []\n",
    "    if len(s)<k: return s\n",
    "    for i in s:\n",
    "        if stack and stack[-1][0]==i:\n",
    "            if stack[-1][1] == k-1: stack.pop()\n",
    "            else: stack[-1][1] += 1\n",
    "        else:\n",
    "            stack.append([i,1])\n",
    "    res=''\n",
    "    for j in stack:\n",
    "        res += j[0]*j[1]\n",
    "    return res"
   ]
  },
  {
   "cell_type": "code",
   "execution_count": 40,
   "metadata": {},
   "outputs": [],
   "source": [
    "s = \"pbbcggttciiippooaais\"\n",
    "k = 2"
   ]
  },
  {
   "cell_type": "code",
   "execution_count": null,
   "metadata": {},
   "outputs": [],
   "source": [
    "while "
   ]
  },
  {
   "cell_type": "code",
   "execution_count": 48,
   "metadata": {},
   "outputs": [],
   "source": [
    "\"Time Limit Exceeeded version\"\n",
    "def cancel(s, k):\n",
    "    count = {}\n",
    "    pos = {}\n",
    "    nc = 0\n",
    "    for i,l in enumerate(s):\n",
    "        if l not in pos: \n",
    "            ls = i\n",
    "            count[(l,ls)] = 1\n",
    "            pos[l] = i\n",
    "        elif i!=(pos[l]+1):\n",
    "            ls = i\n",
    "            count[(l,ls)] = 1\n",
    "            pos[l] = i \n",
    "        elif i==(pos[l]+1):\n",
    "            count[(l,ls)]+=1\n",
    "            pos[l] += 1\n",
    "\n",
    "    out = \"\"\n",
    "    for key in count.keys():\n",
    "        if count[key]<k:\n",
    "            out += key[0]*count[key]\n",
    "        if count[key]>k:\n",
    "            out += key[0]*(count[key]-k)\n",
    "    return out\n",
    "\n",
    "def removeDuplicates(s,k):\n",
    "    out = \"\"\n",
    "    for key in count.keys():\n",
    "        if count[key]<k:\n",
    "            out += key[0]*count[key]\n",
    "    return out"
   ]
  },
  {
   "cell_type": "code",
   "execution_count": null,
   "metadata": {},
   "outputs": [],
   "source": [
    "\"Functioning Version\"\n",
    "class Solution:\n",
    "    def removeDuplicates(self, s: str, k: int) -> str:\n",
    "        stack=''\n",
    "        for i in s:\n",
    "            stack+=i\n",
    "            if len(stack)>=k:\n",
    "                if stack[-k:]==i*k:\n",
    "                    stack = stack[:-k]\n",
    "        return stack"
   ]
  },
  {
   "cell_type": "code",
   "execution_count": 49,
   "metadata": {},
   "outputs": [],
   "source": [
    "\"compare two lists every time slows down the code\"\n",
    "def remove(s,k):\n",
    "    stack = ''\n",
    "    for i in s:\n",
    "        stack+=i\n",
    "        if len(stack)>=k:\n",
    "            if stack[-k:]==i*k:\n",
    "                stack = stack[:-k]\n",
    "    return stack"
   ]
  },
  {
   "cell_type": "code",
   "execution_count": null,
   "metadata": {},
   "outputs": [],
   "source": [
    "\"half the time verison: Fastest Stack\"\n",
    "class Solution:\n",
    "    def removeDuplicates(self, s: str, k: int) -> str:\n",
    "        stack = []\n",
    "        res = ''\n",
    "        \n",
    "        if len(s) <= k:\n",
    "            return s\n",
    "        \n",
    "        for i in s:\n",
    "            if stack and  stack[-1][0] == i:\n",
    "                if stack[-1][1] == k-1:\n",
    "                    stack.pop()\n",
    "                else:\n",
    "                    stack[-1][1] += 1\n",
    "            else:\n",
    "                stack.append([i, 1])\n",
    "        \n",
    "        for j in stack:\n",
    "            res += j[0] * j[1]\n",
    "        \n",
    "        return res"
   ]
  },
  {
   "cell_type": "code",
   "execution_count": 52,
   "metadata": {},
   "outputs": [],
   "source": [
    "def remove(s,k):\n",
    "    if len(s)<k: return s\n",
    "    stack = []\n",
    "    res = ''\n",
    "    for i in s:\n",
    "        \"only when consecutive appearance, we stack it\"\n",
    "        \"after popping, stack reform itself\"\n",
    "        if stack and stack[-1][0]==i:\n",
    "            if stack[-1][1]==k-1:\n",
    "                stack.pop()\n",
    "            else:\n",
    "                stack[-1][1]+=1\n",
    "        else:\n",
    "            stack.append([i,1])\n",
    "    for j in stack:\n",
    "        res += j[0]*j[1]\n",
    "    return res"
   ]
  },
  {
   "cell_type": "code",
   "execution_count": 55,
   "metadata": {},
   "outputs": [
    {
     "data": {
      "text/plain": [
       "'ca'"
      ]
     },
     "execution_count": 55,
     "metadata": {},
     "output_type": "execute_result"
    }
   ],
   "source": [
    "s = \"abbaca\"\n",
    "remove(s,2)"
   ]
  },
  {
   "cell_type": "code",
   "execution_count": null,
   "metadata": {},
   "outputs": [],
   "source": []
  }
 ],
 "metadata": {
  "kernelspec": {
   "display_name": "Python 3",
   "language": "python",
   "name": "python3"
  },
  "language_info": {
   "codemirror_mode": {
    "name": "ipython",
    "version": 3
   },
   "file_extension": ".py",
   "mimetype": "text/x-python",
   "name": "python",
   "nbconvert_exporter": "python",
   "pygments_lexer": "ipython3",
   "version": "3.7.7"
  }
 },
 "nbformat": 4,
 "nbformat_minor": 4
}
