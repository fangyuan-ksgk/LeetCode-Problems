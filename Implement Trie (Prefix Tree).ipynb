{
 "cells": [
  {
   "cell_type": "code",
   "execution_count": 1,
   "metadata": {},
   "outputs": [
    {
     "data": {
      "text/plain": [
       "'\\nVery interesting data structure:\\n\\nThe key here is the loop calling of the same class\\n'"
      ]
     },
     "execution_count": 1,
     "metadata": {},
     "output_type": "execute_result"
    }
   ],
   "source": [
    "\"\"\"\n",
    "Very interesting data structure:\n",
    "\n",
    "The key here is the loop calling of the same class\n",
    "\"\"\""
   ]
  },
  {
   "cell_type": "code",
   "execution_count": 4,
   "metadata": {},
   "outputs": [],
   "source": [
    "t = Trie()"
   ]
  },
  {
   "cell_type": "code",
   "execution_count": 12,
   "metadata": {},
   "outputs": [],
   "source": [
    "\"Mine Learned & Rebuilt Version\"\n",
    "class Trie:\n",
    "    \n",
    "    def __init__(self):\n",
    "        self.wordmap = {}\n",
    "        self.isEnd = False\n",
    "    \n",
    "    def addword(self, word):\n",
    "        trie = self\n",
    "        for c in word:\n",
    "            if c not in trie.wordmap:\n",
    "                trie.wordmap[c] = Trie()\n",
    "            trie = trie.wordmap[c]\n",
    "        # added word CAN end here\n",
    "        trie.isEnd = True\n",
    "            \n",
    "    def startWith(self, prefix):\n",
    "        trie = self\n",
    "        for c in prefix:\n",
    "            if c in trie.wordmap:\n",
    "                trie = trie.wordmap[c]\n",
    "            else: \n",
    "                return False\n",
    "        return True\n",
    "    \n",
    "    def search(self, word):\n",
    "        trie = self\n",
    "        for c in word:\n",
    "            if c in trie.wordmap:\n",
    "                trie = trie.wordmap[c]\n",
    "            else: \n",
    "                return False\n",
    "        return trie.isEnd"
   ]
  },
  {
   "cell_type": "code",
   "execution_count": null,
   "metadata": {},
   "outputs": [],
   "source": []
  },
  {
   "cell_type": "code",
   "execution_count": null,
   "metadata": {},
   "outputs": [],
   "source": [
    "class Trie:\n",
    "\n",
    "    def __init__(self):\n",
    "        \"\"\"\n",
    "        Initialize your data structure here.\n",
    "        \"\"\"\n",
    "        self.char_mapping = {}\n",
    "        self.isEnd = False\n",
    "        \n",
    "\n",
    "    def insert(self, word: str) -> None:\n",
    "        \"\"\"\n",
    "        Inserts a word into the trie.\n",
    "        \"\"\"\n",
    "        node = self\n",
    "        for char in word:\n",
    "            if char not in node.char_mapping:\n",
    "                node.char_mapping[char] = Trie()\n",
    "            node = node.char_mapping[char]\n",
    "        node.isEnd = True \n",
    "            \n",
    "\n",
    "    def search(self, word: str) -> bool:\n",
    "        \"\"\"\n",
    "        Returns if the word is in the trie.\n",
    "        \"\"\"\n",
    "        node = self\n",
    "        for char in word:\n",
    "            if char not in node.char_mapping:\n",
    "                return False\n",
    "            node = node.char_mapping[char]\n",
    "        return node.isEnd == True\n",
    "        \n",
    "\n",
    "    def startsWith(self, prefix: str) -> bool:\n",
    "        \"\"\"\n",
    "        Returns if there is any word in the trie that starts with the given prefix.\n",
    "        \"\"\"\n",
    "        node = self\n",
    "        for char in prefix:\n",
    "            if char not in node.char_mapping:\n",
    "                return False\n",
    "            node = node.char_mapping[char]\n",
    "        return True"
   ]
  },
  {
   "cell_type": "code",
   "execution_count": null,
   "metadata": {},
   "outputs": [],
   "source": [
    "class Node:\n",
    "    def __init__(self, children, isWord):\n",
    "        self.children = children\n",
    "        self.isWord = isWord\n",
    "\n",
    "class Trie:\n",
    "    def __init__(self):\n",
    "        \"\"\"\n",
    "        Initialize your data structure here.\n",
    "        \"\"\"\n",
    "        self.trie = Node({}, False)\n",
    "        \n",
    "\n",
    "    def insert(self, word: str) -> None:\n",
    "        \"\"\"\n",
    "        Inserts a word into the trie.\n",
    "        \"\"\"\n",
    "        \n",
    "        node = self.trie\n",
    "        \n",
    "        for char in word:\n",
    "            if char not in node.children:\n",
    "                node.children[char] = Node({}, False)\n",
    "            node = node.children[char]\n",
    "        \n",
    "        node.isWord = True\n",
    "\n",
    "    def search(self, word: str) -> bool:\n",
    "        \"\"\"\n",
    "        Returns if the word is in the trie.\n",
    "        \"\"\"\n",
    "        node = self.trie\n",
    "        \n",
    "        for char in word:\n",
    "            if char not in node.children:\n",
    "                return False\n",
    "            node = node.children[char]\n",
    "        \n",
    "        return node.isWord\n",
    "        \n",
    "\n",
    "    def startsWith(self, prefix: str) -> bool:\n",
    "        \"\"\"\n",
    "        Returns if there is any word in the trie that starts with the given prefix.\n",
    "        \"\"\"\n",
    "        node = self.trie\n",
    "        \n",
    "        for char in prefix:\n",
    "            if char not in node.children:\n",
    "                return False\n",
    "            node = node.children[char]\n",
    "        \n",
    "        return True"
   ]
  }
 ],
 "metadata": {
  "kernelspec": {
   "display_name": "Python 3",
   "language": "python",
   "name": "python3"
  },
  "language_info": {
   "codemirror_mode": {
    "name": "ipython",
    "version": 3
   },
   "file_extension": ".py",
   "mimetype": "text/x-python",
   "name": "python",
   "nbconvert_exporter": "python",
   "pygments_lexer": "ipython3",
   "version": "3.7.7"
  }
 },
 "nbformat": 4,
 "nbformat_minor": 4
}
