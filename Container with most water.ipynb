{
 "cells": [
  {
   "cell_type": "code",
   "execution_count": 30,
   "metadata": {},
   "outputs": [],
   "source": [
    "\"time limit exceeded...\"\n",
    "def maxArea(height):\n",
    "    maxarea = 0\n",
    "    for i, lb in enumerate(height):\n",
    "        for j, rb in enumerate(height[i+1:]):\n",
    "            maxarea = max( maxarea, (min(lb,rb) * (j+1)))\n",
    "    return maxarea\n",
    "\n",
    "\"Start with biggest width and search for higher bars while shrinking the width\"\n",
    "def maxArea1(height):\n",
    "    i, j =0, len(height)-1\n",
    "    maxarea = 0\n",
    "    while i<j:\n",
    "        lb, rb = height[i], height[j]\n",
    "        maxarea = max(maxarea, (min(lb,rb) * (j-i)))\n",
    "        \n",
    "        if lb<rb:\n",
    "            i += 1\n",
    "        else:\n",
    "            j -= 1\n",
    "    return maxarea\n",
    "        \n",
    "\"Trivial trick to stop searching for higher bar when it is the highest\"\n",
    "def maxArea2(height):\n",
    "    max_area = 0\n",
    "    i = 0\n",
    "    j = len(height)-1\n",
    "    max_height = max(height)\n",
    "    \n",
    "    while i < j:\n",
    "        width = j-i\n",
    "        h = min(height[i],height[j])\n",
    "        max_area = max(max_area, width*h)\n",
    "        \n",
    "        if h == max_height:\n",
    "            return max_area  \t\t\t \n",
    "        \n",
    "        if height[j] > height[i]:\n",
    "            i+=1\n",
    "        else:\n",
    "            j-=1\n",
    "\n",
    "    return max_area\n",
    "\n",
    "\"\"\"\n",
    "If rb>lb, then it means out of all the combination (i,k) for k = i+1,i+2,...,j\n",
    "(i,j) has the maximal area (max height & width), which is why we can then have i+=1,  \n",
    "because we know we already have the maximal wrt to fixed i and various choice of 'j'\n",
    "\"\"\""
   ]
  },
  {
   "cell_type": "code",
   "execution_count": 31,
   "metadata": {},
   "outputs": [
    {
     "data": {
      "text/plain": [
       "[1, 8, 6, 2, 5, 4, 8, 3, 7]"
      ]
     },
     "execution_count": 31,
     "metadata": {},
     "output_type": "execute_result"
    }
   ],
   "source": [
    "height"
   ]
  },
  {
   "cell_type": "code",
   "execution_count": 32,
   "metadata": {},
   "outputs": [
    {
     "data": {
      "text/plain": [
       "8"
      ]
     },
     "execution_count": 32,
     "metadata": {},
     "output_type": "execute_result"
    }
   ],
   "source": [
    "maxArea3(height)"
   ]
  },
  {
   "cell_type": "code",
   "execution_count": 42,
   "metadata": {},
   "outputs": [
    {
     "data": {
      "text/plain": [
       "1"
      ]
     },
     "execution_count": 42,
     "metadata": {},
     "output_type": "execute_result"
    }
   ],
   "source": [
    "i"
   ]
  },
  {
   "cell_type": "code",
   "execution_count": 43,
   "metadata": {},
   "outputs": [
    {
     "data": {
      "text/plain": [
       "1"
      ]
     },
     "execution_count": 43,
     "metadata": {},
     "output_type": "execute_result"
    }
   ],
   "source": [
    "j"
   ]
  },
  {
   "cell_type": "code",
   "execution_count": 44,
   "metadata": {},
   "outputs": [
    {
     "data": {
      "text/plain": [
       "[1, 8, 6, 2, 5, 4, 8, 3, 7]"
      ]
     },
     "execution_count": 44,
     "metadata": {},
     "output_type": "execute_result"
    }
   ],
   "source": [
    "height"
   ]
  },
  {
   "cell_type": "code",
   "execution_count": null,
   "metadata": {},
   "outputs": [],
   "source": []
  }
 ],
 "metadata": {
  "kernelspec": {
   "display_name": "Python 3",
   "language": "python",
   "name": "python3"
  },
  "language_info": {
   "codemirror_mode": {
    "name": "ipython",
    "version": 3
   },
   "file_extension": ".py",
   "mimetype": "text/x-python",
   "name": "python",
   "nbconvert_exporter": "python",
   "pygments_lexer": "ipython3",
   "version": "3.7.7"
  }
 },
 "nbformat": 4,
 "nbformat_minor": 4
}
