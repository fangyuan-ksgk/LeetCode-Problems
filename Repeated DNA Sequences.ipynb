{
 "cells": [
  {
   "cell_type": "code",
   "execution_count": 6,
   "id": "5a18bdf4-b44a-4dde-a7d7-5e3d3a7503e0",
   "metadata": {},
   "outputs": [],
   "source": [
    "s = \"AAAAACCCCCAAAAACCCCCCAAAAAGGGTTT\""
   ]
  },
  {
   "cell_type": "code",
   "execution_count": 19,
   "id": "d600f267-3d20-49bf-ad50-351466871dd4",
   "metadata": {},
   "outputs": [],
   "source": [
    "def findRepeatedDnaSequences(s):\n",
    "    l = 0\n",
    "    n = len(s)\n",
    "    occur = set()\n",
    "    rep = set()\n",
    "    ans = []\n",
    "    while (l+10)<=n:\n",
    "        seq = s[l:l+10]\n",
    "        if seq not in occur:\n",
    "            occur.add(seq)\n",
    "        else:\n",
    "            rep.add(seq)\n",
    "        l+=1\n",
    "    return list(rep)"
   ]
  },
  {
   "cell_type": "code",
   "execution_count": 15,
   "id": "059d08aa-f4bf-4cd8-a24c-158a62eb171d",
   "metadata": {},
   "outputs": [],
   "source": [
    "l = 0\n",
    "n = len(s)\n",
    "occur = set()\n",
    "ans = []\n",
    "while (l+10)<=n:\n",
    "    seq = s[l:l+10]\n",
    "    if seq not in occur:\n",
    "        occur.add(seq)\n",
    "    else:\n",
    "        ans.append(seq)\n",
    "    l+=1"
   ]
  },
  {
   "cell_type": "code",
   "execution_count": 17,
   "id": "1beacf9e-e3eb-4d85-a8e3-a7eaac9268f6",
   "metadata": {},
   "outputs": [
    {
     "data": {
      "text/plain": [
       "['AAAAACCCCC', 'CCCCCAAAAA']"
      ]
     },
     "execution_count": 17,
     "metadata": {},
     "output_type": "execute_result"
    }
   ],
   "source": [
    "ans"
   ]
  },
  {
   "cell_type": "code",
   "execution_count": null,
   "id": "f05d198c-d767-4f2a-85ed-491b22504fae",
   "metadata": {},
   "outputs": [],
   "source": []
  }
 ],
 "metadata": {
  "kernelspec": {
   "display_name": "Python 3 (ipykernel)",
   "language": "python",
   "name": "python3"
  },
  "language_info": {
   "codemirror_mode": {
    "name": "ipython",
    "version": 3
   },
   "file_extension": ".py",
   "mimetype": "text/x-python",
   "name": "python",
   "nbconvert_exporter": "python",
   "pygments_lexer": "ipython3",
   "version": "3.7.7"
  }
 },
 "nbformat": 4,
 "nbformat_minor": 5
}
