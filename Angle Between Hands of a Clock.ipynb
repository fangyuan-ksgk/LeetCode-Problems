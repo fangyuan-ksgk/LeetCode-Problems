{
 "cells": [
  {
   "cell_type": "code",
   "execution_count": 3,
   "id": "cb6eae9b-12a2-4b2e-acbd-6e5b85aaf0ed",
   "metadata": {},
   "outputs": [],
   "source": [
    "hour = 12\n",
    "minutes = 30"
   ]
  },
  {
   "cell_type": "code",
   "execution_count": 22,
   "id": "7853acc1-ac05-4524-839d-6b0d8e460cd9",
   "metadata": {},
   "outputs": [],
   "source": [
    "hour = 3\n",
    "minutes = 30"
   ]
  },
  {
   "cell_type": "code",
   "execution_count": 24,
   "id": "1b7125e6-116a-487b-889d-68f8c01fe380",
   "metadata": {},
   "outputs": [],
   "source": [
    "hour = 3\n",
    "minutes = 15"
   ]
  },
  {
   "cell_type": "code",
   "execution_count": 26,
   "id": "fbce9e33-8c8b-43ff-8a94-9ef65b3e94f0",
   "metadata": {},
   "outputs": [],
   "source": [
    "hour = 4\n",
    "minutes = 50"
   ]
  },
  {
   "cell_type": "code",
   "execution_count": 28,
   "id": "e4511ac8-ea8f-4927-93f4-c33b14e98e99",
   "metadata": {},
   "outputs": [],
   "source": [
    "hour = 12\n",
    "minutes = 0"
   ]
  },
  {
   "cell_type": "code",
   "execution_count": 29,
   "id": "7aa5a4d5-57ae-4d18-8412-1243f8ace725",
   "metadata": {},
   "outputs": [
    {
     "data": {
      "text/plain": [
       "0.0"
      ]
     },
     "execution_count": 29,
     "metadata": {},
     "output_type": "execute_result"
    }
   ],
   "source": [
    "ah = ((hour+(minutes/60))%12)/12*360\n",
    "am = (minutes/60)*360\n",
    "min(abs(ah-am), 360-abs(ah-am))"
   ]
  },
  {
   "cell_type": "code",
   "execution_count": null,
   "id": "0c676560-482d-4c75-926e-bb8768d86209",
   "metadata": {},
   "outputs": [],
   "source": []
  }
 ],
 "metadata": {
  "kernelspec": {
   "display_name": "Python 3 (ipykernel)",
   "language": "python",
   "name": "python3"
  },
  "language_info": {
   "codemirror_mode": {
    "name": "ipython",
    "version": 3
   },
   "file_extension": ".py",
   "mimetype": "text/x-python",
   "name": "python",
   "nbconvert_exporter": "python",
   "pygments_lexer": "ipython3",
   "version": "3.7.7"
  }
 },
 "nbformat": 4,
 "nbformat_minor": 5
}
