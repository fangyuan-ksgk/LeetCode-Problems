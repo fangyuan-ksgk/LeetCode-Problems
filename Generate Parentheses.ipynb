{
 "cells": [
  {
   "cell_type": "markdown",
   "metadata": {},
   "source": [
    "Given n pairs of parentheses, write a function to generate all combinations of well-formed parentheses."
   ]
  },
  {
   "cell_type": "code",
   "execution_count": 44,
   "metadata": {},
   "outputs": [],
   "source": [
    "def generateParenthesis(n):\n",
    "    # count of spare ( on LHS\n",
    "    c1 = [0]\n",
    "    # count of ( available to fill\n",
    "    c2 = [n]\n",
    "    # count of ) availabel to fill\n",
    "    c3 = [n]\n",
    "\n",
    "    output = [\"\"]\n",
    "    num_combo = 1\n",
    "    num_spot = int(2*n)\n",
    "\n",
    "    for i in range(num_spot):\n",
    "        for j in range(num_combo):\n",
    "\n",
    "            if c2[j]>0:\n",
    "                if c1[j]==0:\n",
    "                    print('a')\n",
    "                    output[j] += \"(\"\n",
    "                    c1[j] += 1\n",
    "                    c2[j] -= 1\n",
    "                else:\n",
    "                    print('c')\n",
    "                    # new combo\n",
    "                    newbranch_str = output[j] + \"(\"\n",
    "                    new_c1 = c1[j] + 1\n",
    "                    new_c2 = c2[j] - 1\n",
    "                    num_combo += 1\n",
    "                    c1.append(new_c1)\n",
    "                    c2.append(new_c2)\n",
    "                    output.append(newbranch_str)\n",
    "                    # pre-existing combo \n",
    "                    output[j] += \")\"\n",
    "                    c1[j] -= 1\n",
    "            else:\n",
    "                print('b')\n",
    "                #dicts[i] = \")\"\n",
    "                output[j] += \")\"\n",
    "                c1[j] -= 1\n",
    "    return output"
   ]
  },
  {
   "cell_type": "markdown",
   "metadata": {},
   "source": [
    "little faster and much less memory version\n",
    "\n",
    "#### BackTracking Solution: It is really just induction"
   ]
  },
  {
   "cell_type": "code",
   "execution_count": 67,
   "metadata": {},
   "outputs": [],
   "source": [
    "\"所谓backtracking基本思路跟数学归纳/递推是一样的\"\n",
    "def generateParenthesis1(n):\n",
    "    \"对于n=1我们给出solution\"\n",
    "    if n==1:\n",
    "        return['()']\n",
    "    # in order to avoid repetition, use set here\n",
    "    out=set()\n",
    "    \"假设我们有了n-1情形下的solution,我们只需给出n的solution即可\"\n",
    "    for sol in generateParenthesis1(n-1):\n",
    "        \"n的solution里面必然有substring'()'存在，而删去此项可得一n-1的solution\"\n",
    "        \"反之，由n-1的solution加'()'也是n-1的solution，因此存在一一对应，只需避免重复即可\"\n",
    "        for i in range(len(sol)):\n",
    "            out.add(sol[:i]+'()'+sol[i:])\n",
    "    return list(out)"
   ]
  },
  {
   "cell_type": "code",
   "execution_count": 42,
   "metadata": {},
   "outputs": [
    {
     "name": "stdout",
     "output_type": "stream",
     "text": [
      "a\n",
      "c\n",
      "a\n",
      "c\n",
      "c\n",
      "c\n",
      "b\n",
      "a\n",
      "a\n",
      "b\n",
      "b\n",
      "b\n",
      "b\n",
      "b\n",
      "b\n",
      "b\n",
      "b\n"
     ]
    }
   ],
   "source": [
    "n = 3\n",
    "# count of spare ( on LHS\n",
    "c1 = [0]\n",
    "# count of ( available to fill\n",
    "c2 = [n]\n",
    "# count of ) availabel to fill\n",
    "c3 = [n]\n",
    "\n",
    "output = [\"\"]\n",
    "num_combo = 1\n",
    "num_spot = int(2*n)\n",
    "\n",
    "\n",
    "for i in range(num_spot):\n",
    "    for j in range(num_combo):\n",
    "        if c2[j]>0:\n",
    "            if c1[j]==0:\n",
    "                print('a')\n",
    "                output[j] += \"(\"\n",
    "                c1[j] += 1\n",
    "                c2[j] -= 1\n",
    "            else:\n",
    "                print('c')\n",
    "                # new combo\n",
    "                newbranch_str = output[j] + \"(\"\n",
    "                new_c1 = c1[j] + 1\n",
    "                new_c2 = c2[j] - 1\n",
    "                num_combo += 1\n",
    "                c1.append(new_c1)\n",
    "                c2.append(new_c2)\n",
    "                output.append(newbranch_str)\n",
    "                # pre-existing combo \n",
    "                output[j] += \")\"\n",
    "                c1[j] -= 1\n",
    "        else:\n",
    "            print('b')\n",
    "            #dicts[i] = \")\"\n",
    "            output[j] += \")\"\n",
    "            c1[j] -= 1"
   ]
  },
  {
   "cell_type": "code",
   "execution_count": 43,
   "metadata": {},
   "outputs": [
    {
     "data": {
      "text/plain": [
       "['()()()', '(())()', '((()))', '()(())', '(()())']"
      ]
     },
     "execution_count": 43,
     "metadata": {},
     "output_type": "execute_result"
    }
   ],
   "source": [
    "output"
   ]
  },
  {
   "cell_type": "code",
   "execution_count": null,
   "metadata": {},
   "outputs": [],
   "source": []
  }
 ],
 "metadata": {
  "kernelspec": {
   "display_name": "Python 3",
   "language": "python",
   "name": "python3"
  },
  "language_info": {
   "codemirror_mode": {
    "name": "ipython",
    "version": 3
   },
   "file_extension": ".py",
   "mimetype": "text/x-python",
   "name": "python",
   "nbconvert_exporter": "python",
   "pygments_lexer": "ipython3",
   "version": "3.7.7"
  }
 },
 "nbformat": 4,
 "nbformat_minor": 4
}
