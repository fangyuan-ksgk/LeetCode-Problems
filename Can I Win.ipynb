{
 "cells": [
  {
   "cell_type": "code",
   "execution_count": 32,
   "id": "2587bebe-9a5a-4f46-b8a0-376e2fe5bbaa",
   "metadata": {},
   "outputs": [
    {
     "data": {
      "text/plain": [
       "False"
      ]
     },
     "execution_count": 32,
     "metadata": {},
     "output_type": "execute_result"
    }
   ],
   "source": [
    "maxChoosableInteger = 10\n",
    "desiredTotal = 11\n",
    "canIWin(maxChoosableInteger, desiredTotal)"
   ]
  },
  {
   "cell_type": "code",
   "execution_count": 33,
   "id": "b4fd180d-b97c-4698-ae4c-41f5a68cf14f",
   "metadata": {},
   "outputs": [
    {
     "data": {
      "text/plain": [
       "True"
      ]
     },
     "execution_count": 33,
     "metadata": {},
     "output_type": "execute_result"
    }
   ],
   "source": [
    "maxChoosableInteger = 10\n",
    "desiredTotal = 1\n",
    "canIWin(maxChoosableInteger, desiredTotal)"
   ]
  },
  {
   "cell_type": "code",
   "execution_count": 114,
   "id": "d4c34115-af3e-4d0c-b2c9-71b0a25b99f7",
   "metadata": {},
   "outputs": [
    {
     "name": "stdout",
     "output_type": "stream",
     "text": [
      "[1, 2, 3, 4, 5, 6, 7, 8, 9, 10] 14 1\n",
      "[1, 2, 3, 4, 5, 6, 7, 8, 9] 4 2\n"
     ]
    },
    {
     "data": {
      "text/plain": [
       "False"
      ]
     },
     "execution_count": 114,
     "metadata": {},
     "output_type": "execute_result"
    }
   ],
   "source": [
    "maxChoosableInteger = 10\n",
    "desiredTotal = 14\n",
    "canwin(maxChoosableInteger, desiredTotal)"
   ]
  },
  {
   "cell_type": "code",
   "execution_count": 120,
   "id": "d293fe70-4bf4-42b1-b77c-b6564bdabe42",
   "metadata": {},
   "outputs": [],
   "source": [
    "def canIWin(maxChoosableInteger, desiredTotal):\n",
    "    sum_of_all = (maxChoosableInteger+1)*maxChoosableInteger // 2\n",
    "    if sum_of_all < desiredTotal:\n",
    "        return False\n",
    "    if sum_of_all == desiredTotal:\n",
    "        return maxChoosableInteger%2==1\n",
    "    \n",
    "    options = tuple(range(1, maxChoosableInteger+1))\n",
    "    @functools.lru_cache(None)\n",
    "    def canwin(opts, target):\n",
    "        if opts[-1]>=target:\n",
    "            return True\n",
    "        return not all(canwin(opts[:i]+opts[i+1:], target-opt) for i,opt in enumerate(opts))\n",
    "    return canwin(options, desiredTotal)"
   ]
  },
  {
   "cell_type": "code",
   "execution_count": 121,
   "id": "99719fa0-c579-44ac-b8f6-c719b95c0c80",
   "metadata": {},
   "outputs": [
    {
     "data": {
      "text/plain": [
       "True"
      ]
     },
     "execution_count": 121,
     "metadata": {},
     "output_type": "execute_result"
    }
   ],
   "source": [
    "maxChoosableInteger = 10\n",
    "desiredTotal = 14\n",
    "canIWin(maxChoosableInteger, desiredTotal)"
   ]
  },
  {
   "cell_type": "code",
   "execution_count": 118,
   "id": "c77b5939-0ac2-430a-80c6-db8b9875ebcf",
   "metadata": {},
   "outputs": [
    {
     "data": {
      "text/plain": [
       "True"
      ]
     },
     "execution_count": 118,
     "metadata": {},
     "output_type": "execute_result"
    }
   ],
   "source": [
    "maxChoosableInteger = 10\n",
    "desiredTotal = 14\n",
    "canIWin1(maxChoosableInteger, desiredTotal)"
   ]
  },
  {
   "cell_type": "code",
   "execution_count": 119,
   "id": "ac94ea9d-d3a9-4efe-b94e-438cf946392d",
   "metadata": {},
   "outputs": [],
   "source": [
    "import functools\n",
    "\n",
    "# Algorithm: DFS (with cache)\n",
    "# Time: O(2^n)\n",
    "# Space: O(2^n)\n",
    "def canIWin1(maxChoosableInteger, desiredTotal):\n",
    "    # quickly handle two special cases\n",
    "    sum_of_all = (maxChoosableInteger + 1) * maxChoosableInteger // 2\n",
    "    if sum_of_all < desiredTotal:\n",
    "        return False\n",
    "    if sum_of_all == desiredTotal:\n",
    "        return maxChoosableInteger % 2 == 1\n",
    "    @functools.lru_cache(None)\n",
    "    def can_i_win(options, target):\n",
    "        \"win out at current round\"\n",
    "        if options[-1] >= target:\n",
    "            return True\n",
    "        \"if exists one move at current round that next player loses\"\n",
    "        \"then curr player win out in the future\"\n",
    "        \"not all moves ensure next player wins\"\n",
    "        return not all(can_i_win(options[:i] + options[i + 1:],target - x) for i, x in enumerate(options))\n",
    "\n",
    "    return can_i_win(tuple(range(1, maxChoosableInteger + 1)), desiredTotal)"
   ]
  },
  {
   "cell_type": "code",
   "execution_count": null,
   "id": "921c5058-38fe-44a3-bc3c-9ddb5132b45d",
   "metadata": {},
   "outputs": [],
   "source": []
  }
 ],
 "metadata": {
  "kernelspec": {
   "display_name": "Python 3 (ipykernel)",
   "language": "python",
   "name": "python3"
  },
  "language_info": {
   "codemirror_mode": {
    "name": "ipython",
    "version": 3
   },
   "file_extension": ".py",
   "mimetype": "text/x-python",
   "name": "python",
   "nbconvert_exporter": "python",
   "pygments_lexer": "ipython3",
   "version": "3.7.7"
  }
 },
 "nbformat": 4,
 "nbformat_minor": 5
}
