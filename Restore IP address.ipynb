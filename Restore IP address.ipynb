{
 "cells": [
  {
   "cell_type": "code",
   "execution_count": 115,
   "metadata": {},
   "outputs": [],
   "source": [
    "\"Better verison\"\n",
    "def restoreIpAddresses(s):\n",
    "    address = ['']\n",
    "    position = [0]\n",
    "    n = len(s)\n",
    "    \n",
    "    def clever_update(address, position, niter):\n",
    "        na = []\n",
    "        np = []\n",
    "        for i, p in enumerate(position):\n",
    "            if (3-niter)*1 <= n-(p+3) <=(3 - niter)*3 and 100<= int(s[p:p+3])<=255:\n",
    "                np += [p+3]\n",
    "                na += [address[i] + '.' + s[p:p+3]]\n",
    "            if (3-niter)*1 <= n-(p+2) <=(3 - niter)*3 and int(s[p])>0:\n",
    "                np += [p+2]\n",
    "                na += [address[i] + '.' + s[p:p+2]]\n",
    "            if p<n and (3-niter)*1 <= n-(p+1) <=(3 - niter)*3:\n",
    "                np += [p+1]\n",
    "                na += [address[i] + '.' + s[p]]\n",
    "        return na, np\n",
    "    \n",
    "    for niter in range(4):\n",
    "        address, position = clever_update(address, position, niter)\n",
    "    \n",
    "    return [ip[1:] for ip in address]"
   ]
  },
  {
   "cell_type": "code",
   "execution_count": 116,
   "metadata": {},
   "outputs": [
    {
     "data": {
      "text/plain": [
       "['255.255.111.3', '255.255.11.13', '255.255.1.113', '255.25.51.113']"
      ]
     },
     "execution_count": 116,
     "metadata": {},
     "output_type": "execute_result"
    }
   ],
   "source": [
    "s = \"2552551113\"\n",
    "restoreIpAddresses(s)"
   ]
  },
  {
   "cell_type": "code",
   "execution_count": 117,
   "metadata": {},
   "outputs": [
    {
     "data": {
      "text/plain": [
       "['172.162.54.1',\n",
       " '172.162.5.41',\n",
       " '172.16.254.1',\n",
       " '172.16.25.41',\n",
       " '17.216.254.1',\n",
       " '17.216.25.41']"
      ]
     },
     "execution_count": 117,
     "metadata": {},
     "output_type": "execute_result"
    }
   ],
   "source": [
    "s = \"172162541\"\n",
    "restoreIpAddresses(s)"
   ]
  },
  {
   "cell_type": "code",
   "execution_count": 77,
   "metadata": {},
   "outputs": [
    {
     "name": "stdout",
     "output_type": "stream",
     "text": [
      "['172.162.54.1', '172.162.5.41', '172.16.254.1', '172.16.25.41', '17.216.254.1', '17.216.25.41']\n"
     ]
    }
   ],
   "source": [
    "\"This can hardly be a time-efficient solution at all\"\n",
    "\"wasting too much time searching for useless possibilities\"\n",
    "\n",
    "address = ['']\n",
    "position = [0]\n",
    "n = len(s)\n",
    "\n",
    "def update(address, position):\n",
    "    na = []\n",
    "    np = []\n",
    "    for i, p in enumerate(position):\n",
    "        if p+2<n and 100<= 100*int(s[p])+10*int(s[p+1])+int(s[p+2])<=255:\n",
    "            np += [p+3]\n",
    "            na += [address[i] + '.' + s[p:p+3]]\n",
    "        if p+1<n and int(s[p])>0:\n",
    "            np += [p+2]\n",
    "            na += [address[i] + '.' + s[p:p+2]]\n",
    "        if p<n:\n",
    "            np += [p+1]\n",
    "            na += [address[i] + '.' + s[p]]\n",
    "    return na, np\n",
    "\n",
    "for i in range(4):\n",
    "    address, position = update(address, position)\n",
    "    \n",
    "# need to filter to get the correct addresses\n",
    "output = []\n",
    "for i, ip in enumerate(address):\n",
    "    if len(ip) == n+4:\n",
    "        output += [ip[1:]]\n",
    "        \n",
    "print(output)"
   ]
  },
  {
   "cell_type": "code",
   "execution_count": null,
   "metadata": {},
   "outputs": [],
   "source": []
  }
 ],
 "metadata": {
  "kernelspec": {
   "display_name": "Python 3",
   "language": "python",
   "name": "python3"
  },
  "language_info": {
   "codemirror_mode": {
    "name": "ipython",
    "version": 3
   },
   "file_extension": ".py",
   "mimetype": "text/x-python",
   "name": "python",
   "nbconvert_exporter": "python",
   "pygments_lexer": "ipython3",
   "version": "3.7.7"
  }
 },
 "nbformat": 4,
 "nbformat_minor": 4
}
