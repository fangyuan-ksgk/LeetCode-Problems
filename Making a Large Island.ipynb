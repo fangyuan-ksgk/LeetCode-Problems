{
 "cells": [
  {
   "cell_type": "code",
   "execution_count": 47,
   "id": "3fbf0656-436a-4f48-8c67-dda2ec193fa8",
   "metadata": {},
   "outputs": [],
   "source": [
    "grid = [[1,1,0,1],\n",
    "        [0,1,0,1]]"
   ]
  },
  {
   "cell_type": "code",
   "execution_count": 82,
   "id": "8842e8fa-014b-4a75-9b36-a05b62ba4265",
   "metadata": {},
   "outputs": [],
   "source": [
    "\"This is a Hard question and I nailed it !! \"\n",
    "def largestIsland(grid):\n",
    "    # depth first search function for area computation\n",
    "    def dfs(i,j):\n",
    "        if grid[i][j]==0:\n",
    "            return 0\n",
    "        v.add((i,j))\n",
    "        island.append((i,j))\n",
    "        area = 1\n",
    "        for (k,l) in (i+1,j),(i-1,j),(i,j+1),(i,j-1):\n",
    "            if 0<=k<m and 0<=l<n and (k,l) not in v:\n",
    "                area += dfs(k,l)\n",
    "        return area\n",
    "    # get area grid marking the area of island containing currect tile\n",
    "    # also mark one of the tile in the island\n",
    "    m = len(grid)\n",
    "    n = len(grid[0])\n",
    "    v = set()\n",
    "    area_grid = [[(0,(i,j)) for j in range(n)] for i in range(m)]\n",
    "    for i,j in itertools.product(range(m),range(n)):\n",
    "        if grid[i][j]==1 and (i,j) not in v:\n",
    "            island =[]\n",
    "            area = dfs(i,j)\n",
    "            for (k,l) in island:\n",
    "                area_grid[k][l] = (area,(i,j))\n",
    "    # then consider the change case\n",
    "    # largest island is built wheh changed tile is included in the max island\n",
    "    max_area = area_grid[0][0][0]\n",
    "    for i,j in itertools.product(range(m),range(n)):\n",
    "        if grid[i][j]==0:\n",
    "            area = 1\n",
    "            seen = set()\n",
    "            for (k,l) in (i+1,j),(i-1,j),(i,j+1),(i,j-1):\n",
    "                if 0<=k<m and 0<=l<n and area_grid[k][l][1] not in seen:\n",
    "                    area += area_grid[k][l][0]\n",
    "                    seen.add(area_grid[k][l][1])\n",
    "            max_area = max(max_area, area)\n",
    "    return max_area"
   ]
  },
  {
   "cell_type": "code",
   "execution_count": 79,
   "id": "90437232-fbd0-44b0-b66e-41e32ea9052a",
   "metadata": {},
   "outputs": [],
   "source": [
    "grid = [[1,1],[1,0]]"
   ]
  },
  {
   "cell_type": "code",
   "execution_count": 80,
   "id": "47e98e28-fef8-4cea-8592-78e2ce338ae8",
   "metadata": {},
   "outputs": [],
   "source": [
    "grid = [[1,1],[1,1]]"
   ]
  },
  {
   "cell_type": "code",
   "execution_count": 74,
   "id": "0675f832-359e-446a-935a-9ae11bc3b8a4",
   "metadata": {},
   "outputs": [],
   "source": [
    "import itertools\n",
    "# depth first search function for area computation\n",
    "def dfs(i,j):\n",
    "    if grid[i][j]==0:\n",
    "        return 0\n",
    "    v.add((i,j))\n",
    "    island.append((i,j))\n",
    "    area = 1\n",
    "    for (k,l) in (i+1,j),(i-1,j),(i,j+1),(i,j-1):\n",
    "        if 0<=k<m and 0<=l<n and (k,l) not in v:\n",
    "            area += dfs(k,l)\n",
    "    return area"
   ]
  },
  {
   "cell_type": "code",
   "execution_count": 75,
   "id": "fb63222b-a847-42be-9265-4f00433ea7de",
   "metadata": {},
   "outputs": [],
   "source": [
    "# get area grid marking the area of island containing currect tile\n",
    "# also mark one of the tile in the island\n",
    "m = len(grid)\n",
    "n = len(grid[0])\n",
    "v = set()\n",
    "area_grid = [[(0,(i,j)) for j in range(n)] for i in range(m)]\n",
    "for i,j in itertools.product(range(m),range(n)):\n",
    "    if grid[i][j]==1 and (i,j) not in v:\n",
    "        island =[]\n",
    "        area = dfs(i,j)\n",
    "        for (k,l) in island:\n",
    "            area_grid[k][l] = (area,(i,j))"
   ]
  },
  {
   "cell_type": "code",
   "execution_count": 76,
   "id": "e2e12bc8-01c6-45fb-8d5e-677e75857312",
   "metadata": {},
   "outputs": [],
   "source": [
    "# then consider the change case\n",
    "# largest island is built wheh changed tile is included in the max island\n",
    "max_area = area_grid[0][0][0]\n",
    "for i,j in itertools.product(range(m),range(n)):\n",
    "    if grid[i][j]==0:\n",
    "        area = 1\n",
    "        seen = set()\n",
    "        for (k,l) in (i+1,j),(i-1,j),(i,j+1),(i,j-1):\n",
    "            if 0<=k<m and 0<=l<n and area_grid[k][l][1] not in seen:\n",
    "                area += area_grid[k][l][0]\n",
    "                seen.add(area_grid[k][l][1])\n",
    "        max_area = max(max_area, area)"
   ]
  },
  {
   "cell_type": "code",
   "execution_count": 77,
   "id": "0c7730d7-a522-45c6-93b4-a1bab15284bb",
   "metadata": {},
   "outputs": [
    {
     "data": {
      "text/plain": [
       "4"
      ]
     },
     "execution_count": 77,
     "metadata": {},
     "output_type": "execute_result"
    }
   ],
   "source": [
    "max_area"
   ]
  },
  {
   "cell_type": "code",
   "execution_count": null,
   "id": "317ce4a2-2fa5-4585-bcc6-9c5ae1134686",
   "metadata": {},
   "outputs": [],
   "source": []
  }
 ],
 "metadata": {
  "kernelspec": {
   "display_name": "Python 3 (ipykernel)",
   "language": "python",
   "name": "python3"
  },
  "language_info": {
   "codemirror_mode": {
    "name": "ipython",
    "version": 3
   },
   "file_extension": ".py",
   "mimetype": "text/x-python",
   "name": "python",
   "nbconvert_exporter": "python",
   "pygments_lexer": "ipython3",
   "version": "3.7.7"
  }
 },
 "nbformat": 4,
 "nbformat_minor": 5
}
