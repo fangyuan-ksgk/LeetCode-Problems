{
 "cells": [
  {
   "cell_type": "code",
   "execution_count": 24,
   "metadata": {},
   "outputs": [],
   "source": [
    "\"Time Limite Exceeded: As expected indeed...\"\n",
    "def dailyTemperatures(t):\n",
    "    n = len(temperatures)\n",
    "    def backtrack(i):\n",
    "        if i == n-1: return [0]\n",
    "        out = []\n",
    "        for j in range(i,n):\n",
    "            if temperatures[i]<temperatures[j]: \n",
    "                out.append(j-i)\n",
    "                break\n",
    "        if len(out)==0:\n",
    "            out.append(0)\n",
    "        out += backtrack(i+1)\n",
    "        return out\n",
    "    return backtrack(0)"
   ]
  },
  {
   "cell_type": "code",
   "execution_count": 41,
   "metadata": {},
   "outputs": [],
   "source": [
    "T = [73,74,75,71,69,78,76,73]"
   ]
  },
  {
   "cell_type": "code",
   "execution_count": 42,
   "metadata": {},
   "outputs": [
    {
     "name": "stdout",
     "output_type": "stream",
     "text": [
      "[(73, 7)]\n",
      "[(76, 6)]\n",
      "[(78, 5)]\n",
      "[(78, 5), (69, 4)]\n",
      "[(78, 5), (71, 3)]\n",
      "[(78, 5), (75, 2)]\n",
      "[(78, 5), (75, 2), (74, 1)]\n",
      "[(78, 5), (75, 2), (74, 1), (73, 0)]\n"
     ]
    },
    {
     "data": {
      "text/plain": [
       "[1, 1, 3, 2, 1, 0, 0, 0]"
      ]
     },
     "execution_count": 42,
     "metadata": {},
     "output_type": "execute_result"
    }
   ],
   "source": [
    "\"A Smarter approach with Stack\"\n",
    "\"Reverse direction provides much more efficient solution!\"\n",
    "stack=[]\n",
    "res=[0]*len(T)\n",
    "for x in range(len(T)-1,-1,-1):\n",
    "    while(stack and stack[-1][0]<=T[x]):\n",
    "        stack.pop()\n",
    "    if stack:\n",
    "        res[x]=stack[-1][1]-x\n",
    "    stack.append((T[x],x))\n",
    "    print(stack)\n",
    "res"
   ]
  },
  {
   "cell_type": "code",
   "execution_count": null,
   "metadata": {},
   "outputs": [],
   "source": []
  }
 ],
 "metadata": {
  "kernelspec": {
   "display_name": "Python 3",
   "language": "python",
   "name": "python3"
  },
  "language_info": {
   "codemirror_mode": {
    "name": "ipython",
    "version": 3
   },
   "file_extension": ".py",
   "mimetype": "text/x-python",
   "name": "python",
   "nbconvert_exporter": "python",
   "pygments_lexer": "ipython3",
   "version": "3.7.7"
  }
 },
 "nbformat": 4,
 "nbformat_minor": 4
}
