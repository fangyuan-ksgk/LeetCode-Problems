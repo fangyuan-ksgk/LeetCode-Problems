{
 "cells": [
  {
   "cell_type": "code",
   "execution_count": 34,
   "metadata": {},
   "outputs": [
    {
     "data": {
      "text/plain": [
       "2"
      ]
     },
     "execution_count": 34,
     "metadata": {},
     "output_type": "execute_result"
    }
   ],
   "source": [
    "intervals = [[0,30],[15,20],[5,10]]\n",
    "minMeetingRooms(intervals)"
   ]
  },
  {
   "cell_type": "code",
   "execution_count": 35,
   "metadata": {},
   "outputs": [],
   "source": [
    "import heapq\n",
    "def minMeetingRooms(intervals):\n",
    "    intervals.sort()\n",
    "    rooms = [intervals[0][1]]\n",
    "    for (s,e) in intervals[1:]:\n",
    "        time = heapq.heappop(rooms)\n",
    "        if s<time:\n",
    "            heapq.heappush(rooms,e)\n",
    "            heapq.heappush(rooms,time)\n",
    "        else:\n",
    "            heapq.heappush(rooms,e) \n",
    "    return len(rooms)"
   ]
  },
  {
   "cell_type": "code",
   "execution_count": null,
   "metadata": {},
   "outputs": [],
   "source": []
  }
 ],
 "metadata": {
  "kernelspec": {
   "display_name": "Python 3",
   "language": "python",
   "name": "python3"
  },
  "language_info": {
   "codemirror_mode": {
    "name": "ipython",
    "version": 3
   },
   "file_extension": ".py",
   "mimetype": "text/x-python",
   "name": "python",
   "nbconvert_exporter": "python",
   "pygments_lexer": "ipython3",
   "version": "3.7.7"
  }
 },
 "nbformat": 4,
 "nbformat_minor": 4
}
