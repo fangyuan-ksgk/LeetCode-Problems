{
 "cells": [
  {
   "cell_type": "code",
   "execution_count": 1,
   "metadata": {},
   "outputs": [],
   "source": [
    "matrix = [[\"1\",\"0\",\"1\",\"0\",\"0\"],[\"1\",\"0\",\"1\",\"1\",\"1\"],[\"1\",\"1\",\"1\",\"1\",\"1\"],[\"1\",\"0\",\"0\",\"1\",\"0\"]]"
   ]
  },
  {
   "cell_type": "code",
   "execution_count": 2,
   "metadata": {},
   "outputs": [],
   "source": [
    "\"Very smart solution here, basic matrix operation enabled\"\n",
    "def maximalSquare(matrix):\n",
    "    m, n = len(matrix), len(matrix[0])\n",
    "    dp = [[0]*n for _ in range(m)]\n",
    "    global_max = 0\n",
    "\n",
    "    for row in range(m):\n",
    "        for col in range(n):\n",
    "\n",
    "            if row == 0 or col == 0:\n",
    "                dp[row][col] = int(matrix[row][col])\n",
    "\n",
    "            else:\n",
    "                if matrix[row][col] == '1':\n",
    "                    dp[row][col] = min(dp[row-1][col], dp[row][col-1], dp[row-1][col-1]) + 1\n",
    "\n",
    "            global_max = max(global_max, dp[row][col])\n",
    "\n",
    "    return global_max * global_max"
   ]
  },
  {
   "cell_type": "code",
   "execution_count": null,
   "metadata": {},
   "outputs": [],
   "source": [
    "if len(matrix) == 0: return 0\n",
    "matrix, rows, cols=[map(int, i) for i in matrix], len(matrix), len(matrix[0])\n",
    "max_area, dp = float(\"-inf\"), [[0 for __ in range(cols+1)] for _ in range(rows+1)]\n",
    "for i in range(0, rows):\n",
    "    for j in range(cols):\n",
    "        dp[i][j]=matrix[i][j] if i==0 else matrix[i][j]+dp[i-matrix[i][j]][j]\n",
    "for i in range(rows):\n",
    "    for j in range(cols):\n",
    "        current_height = dp[i][j]\n",
    "        for k in range(j, cols):\n",
    "            current_height = min(current_height, dp[i][k])\n",
    "            max_area = max(max_area, current_height * (k-j+1))\n",
    "return max_area"
   ]
  },
  {
   "cell_type": "code",
   "execution_count": null,
   "metadata": {},
   "outputs": [],
   "source": [
    "def maximalRectangle(self, matrix: List[List[str]]) -> int:\n",
    "    res, histRow = 0, ([0 for _ in matrix[0]]) if matrix else None\n",
    "    for rowNums in matrix:\n",
    "        stk = []\n",
    "        for c, num in enumerate(rowNums):\n",
    "            histRow[c] = (histRow[c]+1) if num == '1' else 0\n",
    "        for i, n in enumerate(histRow+[0]):\n",
    "            while stk and histRow[stk[-1]] > n:\n",
    "                h = histRow[stk.pop()]\n",
    "                res = max(res, h * ((i - stk[-1] - 1) if stk else i))\n",
    "            stk.append(i)\n",
    "    return res"
   ]
  },
  {
   "cell_type": "code",
   "execution_count": null,
   "metadata": {},
   "outputs": [],
   "source": [
    "matrix = [[\"1\",\"0\",\"1\",\"0\",\"0\"],[\"1\",\"0\",\"1\",\"1\",\"1\"],[\"1\",\"1\",\"1\",\"1\",\"1\"],[\"1\",\"0\",\"0\",\"1\",\"0\"]]"
   ]
  },
  {
   "cell_type": "code",
   "execution_count": 3,
   "metadata": {},
   "outputs": [],
   "source": [
    "for i in range(0, len(matrix)):\n",
    "    for j in range(len(matrix[0])):\n",
    "        if( matrix[i][j] == '1' ):\n",
    "            matrix[i][j] = int(matrix[i][j]) + int(matrix[i-1][j] if(i>0) else 0 )\n",
    "        else:\n",
    "            matrix[i][j] = 0"
   ]
  },
  {
   "cell_type": "code",
   "execution_count": 10,
   "metadata": {},
   "outputs": [],
   "source": [
    "def findLargestArea(heights):\n",
    "    if(not heights): return 0\n",
    "    heights.append(0)\n",
    "    stack = [-1]\n",
    "    ans = 0\n",
    "    for i in range(len(heights)):\n",
    "        while( heights[i] < heights[stack[-1]] ):\n",
    "            h = heights[stack.pop()]\n",
    "            w = i - stack[-1] - 1\n",
    "            ans = max( ans, h*w )\n",
    "        stack.append(i)\n",
    "    return ans\n",
    "\n",
    "maxArea = 0\n",
    "for row in matrix:\n",
    "    maxArea = max( maxArea, findLargestArea(row) )\n",
    "#return maxArea        "
   ]
  },
  {
   "cell_type": "code",
   "execution_count": 24,
   "metadata": {},
   "outputs": [
    {
     "name": "stdout",
     "output_type": "stream",
     "text": [
      "0 -1\n",
      "stack [-1, 0]\n",
      "1 0\n",
      "ans 4\n",
      "stack [-1, 1]\n",
      "2 1\n",
      "stack [-1, 1, 2]\n",
      "3 2\n",
      "stack [-1, 1, 2, 3]\n",
      "4 3\n",
      "ans 4\n",
      "stack [-1, 1, 2, 4]\n",
      "5 4\n",
      "stack [-1, 1, 2, 4, 5]\n",
      "6 5\n",
      "stack [-1, 1, 2, 4, 5, 6]\n",
      "7 6\n",
      "stack [-1, 1, 2, 4, 5, 6, 7]\n",
      "8 7\n",
      "stack [-1, 1, 2, 4, 5, 6, 7, 8]\n",
      "9 8\n",
      "stack [-1, 1, 2, 4, 5, 6, 7, 8, 9]\n",
      "10 9\n",
      "stack [-1, 1, 2, 4, 5, 6, 7, 8, 9, 10]\n",
      "11 10\n",
      "stack [-1, 1, 2, 4, 5, 6, 7, 8, 9, 10, 11]\n"
     ]
    }
   ],
   "source": [
    "row.append(0)\n",
    "stack = [-1]\n",
    "ans = 0\n",
    "for i in range(len(row)):\n",
    "    print(i,stack[-1])\n",
    "    while (row[i]<row[stack[-1]]):\n",
    "        \"get rid of & return the last element\"\n",
    "        h = row[stack.pop()]\n",
    "        w = i-stack[-1]-1\n",
    "        ans = max(ans, h*w)\n",
    "        print('ans',ans)\n",
    "    stack.append(i)\n",
    "    print('stack',stack)"
   ]
  },
  {
   "cell_type": "code",
   "execution_count": 21,
   "metadata": {},
   "outputs": [
    {
     "data": {
      "text/plain": [
       "4"
      ]
     },
     "execution_count": 21,
     "metadata": {},
     "output_type": "execute_result"
    }
   ],
   "source": [
    "ans"
   ]
  },
  {
   "cell_type": "code",
   "execution_count": 19,
   "metadata": {},
   "outputs": [
    {
     "data": {
      "text/plain": [
       "[4, 0, 0, 3, 0, 0, 0, 0, 0]"
      ]
     },
     "execution_count": 19,
     "metadata": {},
     "output_type": "execute_result"
    }
   ],
   "source": [
    "row"
   ]
  },
  {
   "cell_type": "code",
   "execution_count": 25,
   "metadata": {},
   "outputs": [
    {
     "data": {
      "text/plain": [
       "-3"
      ]
     },
     "execution_count": 25,
     "metadata": {},
     "output_type": "execute_result"
    }
   ],
   "source": [
    "[-1,0,-3].pop()"
   ]
  },
  {
   "cell_type": "code",
   "execution_count": 16,
   "metadata": {},
   "outputs": [
    {
     "data": {
      "text/plain": [
       "-1"
      ]
     },
     "execution_count": 16,
     "metadata": {},
     "output_type": "execute_result"
    }
   ],
   "source": [
    "stack.pop()"
   ]
  },
  {
   "cell_type": "code",
   "execution_count": 17,
   "metadata": {},
   "outputs": [
    {
     "data": {
      "text/plain": [
       "[]"
      ]
     },
     "execution_count": 17,
     "metadata": {},
     "output_type": "execute_result"
    }
   ],
   "source": [
    "stack"
   ]
  },
  {
   "cell_type": "code",
   "execution_count": 15,
   "metadata": {},
   "outputs": [
    {
     "data": {
      "text/plain": [
       "False"
      ]
     },
     "execution_count": 15,
     "metadata": {},
     "output_type": "execute_result"
    }
   ],
   "source": [
    "row[0]<row[-1]"
   ]
  },
  {
   "cell_type": "code",
   "execution_count": 12,
   "metadata": {},
   "outputs": [
    {
     "data": {
      "text/plain": [
       "[4, 0, 0, 3, 0, 0, 0]"
      ]
     },
     "execution_count": 12,
     "metadata": {},
     "output_type": "execute_result"
    }
   ],
   "source": [
    "row"
   ]
  },
  {
   "cell_type": "code",
   "execution_count": 8,
   "metadata": {},
   "outputs": [
    {
     "data": {
      "text/plain": [
       "-1"
      ]
     },
     "execution_count": 8,
     "metadata": {},
     "output_type": "execute_result"
    }
   ],
   "source": [
    "stack = [-1]\n",
    "stack[-1]"
   ]
  },
  {
   "cell_type": "code",
   "execution_count": 4,
   "metadata": {},
   "outputs": [
    {
     "data": {
      "text/plain": [
       "[[1, 0, 1, 0, 0], [2, 0, 2, 1, 1], [3, 1, 3, 2, 2], [4, 0, 0, 3, 0]]"
      ]
     },
     "execution_count": 4,
     "metadata": {},
     "output_type": "execute_result"
    }
   ],
   "source": [
    "matrix"
   ]
  },
  {
   "cell_type": "code",
   "execution_count": 5,
   "metadata": {},
   "outputs": [
    {
     "data": {
      "text/plain": [
       "0"
      ]
     },
     "execution_count": 5,
     "metadata": {},
     "output_type": "execute_result"
    }
   ],
   "source": [
    "(1 if (3<0) else 0)"
   ]
  },
  {
   "cell_type": "code",
   "execution_count": null,
   "metadata": {},
   "outputs": [],
   "source": []
  }
 ],
 "metadata": {
  "kernelspec": {
   "display_name": "Python 3",
   "language": "python",
   "name": "python3"
  },
  "language_info": {
   "codemirror_mode": {
    "name": "ipython",
    "version": 3
   },
   "file_extension": ".py",
   "mimetype": "text/x-python",
   "name": "python",
   "nbconvert_exporter": "python",
   "pygments_lexer": "ipython3",
   "version": "3.7.7"
  }
 },
 "nbformat": 4,
 "nbformat_minor": 4
}
