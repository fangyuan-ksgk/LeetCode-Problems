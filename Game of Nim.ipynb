{
 "cells": [
  {
   "cell_type": "code",
   "execution_count": 1,
   "id": "a35d998f-49ab-43c8-bc4f-0f3ee5d9b0f0",
   "metadata": {},
   "outputs": [],
   "source": [
    "piles = [1,2,3]"
   ]
  },
  {
   "cell_type": "code",
   "execution_count": 52,
   "id": "263d11cc-3d7c-48dc-95e7-f604a95915ed",
   "metadata": {},
   "outputs": [
    {
     "data": {
      "text/plain": [
       "False"
      ]
     },
     "execution_count": 52,
     "metadata": {},
     "output_type": "execute_result"
    }
   ],
   "source": [
    "nimGame(piles)"
   ]
  },
  {
   "cell_type": "code",
   "execution_count": 20,
   "id": "8c42326a-1d18-49b5-955e-99cb1e51cb03",
   "metadata": {},
   "outputs": [],
   "source": [
    "# positive number of stones from any piles left\n",
    "# no stones to take player lose\n",
    "# try a dynamic programming approach which select optimal path and return win/lose\n",
    "# add memorization also"
   ]
  },
  {
   "cell_type": "code",
   "execution_count": 50,
   "id": "25784f5c-89ad-4958-88b2-0be5f1c75257",
   "metadata": {},
   "outputs": [],
   "source": [
    "\"My original solution 1\"\n",
    "\"8% speed\"\n",
    "def nimGame(piles):\n",
    "    dp = {}\n",
    "    \n",
    "    def playerwins(remains):\n",
    "        if len(remains)==1:\n",
    "            return True\n",
    "\n",
    "        if tuple(remains) in dp:\n",
    "            return dp[tuple(remains)]\n",
    "\n",
    "        my_win = False\n",
    "        for p, num in enumerate(remains):\n",
    "            for take in range(1,num):\n",
    "                lefts = [i for i in remains]\n",
    "                lefts[p] -= take\n",
    "                opponent_win = playerwins(lefts)\n",
    "                my_win = my_win or not opponent_win\n",
    "\n",
    "            lefts = [remains[i] for i in range(len(remains)) if i!=p]\n",
    "            opponent_win = playerwins(lefts)\n",
    "            my_win = my_win or not opponent_win\n",
    "\n",
    "        dp[tuple(remains)] = my_win\n",
    "        return my_win\n",
    "    \n",
    "    return playerwins(piles)"
   ]
  },
  {
   "cell_type": "code",
   "execution_count": 54,
   "id": "caab67b6-79db-42e4-8bee-7e4cfd2ee523",
   "metadata": {},
   "outputs": [],
   "source": [
    "\"My solution version 2\"\n",
    "\"this doesn't get speeded up....\"\n",
    "\"so the lru_cache works in a weird way\"\n",
    "\n",
    "from functools import lru_cache\n",
    "\n",
    "def nimGame(piles):\n",
    "    #dp = {}\n",
    "    @lru_cache(maxsize=None)\n",
    "    def playerwins(tuple_remains):\n",
    "        remains = list(tuple_remains)\n",
    "        if len(remains)==1:\n",
    "            return True\n",
    "\n",
    "        #if tuple_remains in dp:\n",
    "        #    return dp[tuple_remains]\n",
    "\n",
    "        my_win = False\n",
    "        for p, num in enumerate(remains):\n",
    "            for take in range(1,num):\n",
    "                lefts = [i for i in remains]\n",
    "                lefts[p] -= take\n",
    "                opponent_win = playerwins(tuple(lefts))\n",
    "                my_win = my_win or not opponent_win\n",
    "\n",
    "            lefts = [remains[i] for i in range(len(remains)) if i!=p]\n",
    "            opponent_win = playerwins(tuple(lefts))\n",
    "            my_win = my_win or not opponent_win\n",
    "\n",
    "        #dp[tuple(remains)] = my_win\n",
    "        return my_win\n",
    "    \n",
    "    return playerwins(tuple(piles))"
   ]
  },
  {
   "cell_type": "code",
   "execution_count": 43,
   "id": "0b527406-9585-42ca-b5c4-d45b3bc29fbd",
   "metadata": {},
   "outputs": [],
   "source": [
    "\"My original solution 1\"\n",
    "dp = {}\n",
    "\n",
    "def playerwins(remains):\n",
    "    if len(remains)==1:\n",
    "        return True\n",
    "    \n",
    "    if tuple(remains) in dp:\n",
    "        return dp[tuple(remains)]\n",
    "    \n",
    "    my_win = False\n",
    "    for p, num in enumerate(remains):\n",
    "        for take in range(1,num):\n",
    "            lefts = [i for i in remains]\n",
    "            lefts[p] -= take\n",
    "            opponent_win = playerwins(lefts)\n",
    "            my_win = my_win or not opponent_win\n",
    "        \n",
    "        lefts = [remains[i] for i in range(len(remains)) if i!=p]\n",
    "        opponent_win = playerwins(lefts)\n",
    "        my_win = my_win or not opponent_win\n",
    "    \n",
    "    dp[tuple(remains)] = my_win\n",
    "    return my_win"
   ]
  },
  {
   "cell_type": "code",
   "execution_count": 44,
   "id": "032e74a8-7255-46f2-afd5-5575870f52c6",
   "metadata": {},
   "outputs": [],
   "source": [
    "\"Change the input from list to tuple and lru_cache it instead\"\n",
    "dp = {}\n",
    "\n",
    "def playerwins(tuple_remains):\n",
    "    remains = list(tuple_remains)\n",
    "    if len(remains)==1:\n",
    "        return True\n",
    "    \n",
    "    if tuple_remains in dp:\n",
    "        return dp[tuple_remains]\n",
    "    \n",
    "    my_win = False\n",
    "    for p, num in enumerate(remains):\n",
    "        for take in range(1,num):\n",
    "            lefts = [i for i in remains]\n",
    "            lefts[p] -= take\n",
    "            opponent_win = playerwins(tuple(lefts))\n",
    "            my_win = my_win or not opponent_win\n",
    "        \n",
    "        lefts = [remains[i] for i in range(len(remains)) if i!=p]\n",
    "        opponent_win = playerwins(tuple(lefts))\n",
    "        my_win = my_win or not opponent_win\n",
    "    \n",
    "    dp[tuple(remains)] = my_win\n",
    "    return my_win"
   ]
  },
  {
   "cell_type": "code",
   "execution_count": null,
   "id": "045f9248-d453-4d86-98be-8f61901c431e",
   "metadata": {},
   "outputs": [],
   "source": [
    "\"Look at this solution for a change...\"\n",
    "\"Linear time solution: bitwise operation\"\n",
    "\"I wonder why this is True\"\n",
    "class Solution:\n",
    "    def nimGame(self, piles: List[int]) -> bool:\n",
    "        xr = 0\n",
    "        for pile in piles:\n",
    "            # bit manipulation here: XOR ^ \n",
    "            xr ^= pile\n",
    "        return xr != 0 "
   ]
  },
  {
   "cell_type": "code",
   "execution_count": null,
   "id": "04ea2fd2-a54f-4f09-9b66-102c54088c1f",
   "metadata": {},
   "outputs": [],
   "source": [
    "\"This method exceeds time limit without lru-cache\"\n",
    "\"but when input is tuple not list, lru_cache speeds up immensely\"\n",
    "from functools import lru_cache\n",
    "class Solution:\n",
    "    def nimGame(self, piles: List[int]) -> bool:\n",
    "        @lru_cache(maxsize=None)\n",
    "        def helper(piles):\n",
    "            if sum(piles)==0:\n",
    "                return False\n",
    "            \n",
    "            piles = list(piles)\n",
    "            \n",
    "            for i in range(len(piles)):\n",
    "                for j in range(1, piles[i]+1):\n",
    "                    ## try every possible number of stones from piles[i]\n",
    "                    piles[i] -= j\n",
    "                    ## use sorted tuple to remove many duplicates\n",
    "                    if not helper(tuple(sorted(piles))): \n",
    "                        return True\n",
    "                    piles[i] += j ## backtracking\n",
    "                    \n",
    "            return False\n",
    "        \n",
    "        piles.sort()\n",
    "        if helper(tuple(piles)):\n",
    "            return True\n",
    "        else:\n",
    "            return False"
   ]
  },
  {
   "cell_type": "code",
   "execution_count": null,
   "id": "1ee95bc8-8cba-4fbd-84c1-af55ae5b690c",
   "metadata": {},
   "outputs": [],
   "source": [
    "dp = {}\n",
    "\n",
    "def playerwins(remains):\n",
    "    if len(remains)==1:\n",
    "        return True\n",
    "    \n",
    "    if tuple(remains) in dp:\n",
    "        return dp[tuple(remains)]\n",
    "    \n",
    "    my_win = False\n",
    "    for p, num in enumerate(remains):\n",
    "        for take in range(1,num):\n",
    "            lefts = [i for i in remains]\n",
    "            lefts[p] -= take\n",
    "            opponent_win = playerwins(lefts)\n",
    "            my_win = my_win or not opponent_win\n",
    "        \n",
    "        lefts = [remains[i] for i in range(len(remains)) if i!=p]\n",
    "        opponent_win = playerwins(lefts)\n",
    "        my_win = my_win or not opponent_win\n",
    "    \n",
    "    dp[tuple(remains)] = my_win\n",
    "    return my_win"
   ]
  },
  {
   "cell_type": "code",
   "execution_count": 41,
   "id": "8dee9397-01d5-4eba-a3c4-be73ec23786f",
   "metadata": {},
   "outputs": [
    {
     "data": {
      "text/plain": [
       "3"
      ]
     },
     "execution_count": 41,
     "metadata": {},
     "output_type": "execute_result"
    }
   ],
   "source": [
    "1^2"
   ]
  },
  {
   "cell_type": "code",
   "execution_count": 5,
   "id": "8f63e5f5-2a04-4bce-81f1-5951b61c8cfa",
   "metadata": {},
   "outputs": [
    {
     "data": {
      "text/plain": [
       "823543"
      ]
     },
     "execution_count": 5,
     "metadata": {},
     "output_type": "execute_result"
    }
   ],
   "source": [
    "7**7"
   ]
  },
  {
   "cell_type": "code",
   "execution_count": null,
   "id": "bf76e02f-e015-4804-b96d-6df3d8a19c5f",
   "metadata": {},
   "outputs": [],
   "source": []
  }
 ],
 "metadata": {
  "kernelspec": {
   "display_name": "Python 3 (ipykernel)",
   "language": "python",
   "name": "python3"
  },
  "language_info": {
   "codemirror_mode": {
    "name": "ipython",
    "version": 3
   },
   "file_extension": ".py",
   "mimetype": "text/x-python",
   "name": "python",
   "nbconvert_exporter": "python",
   "pygments_lexer": "ipython3",
   "version": "3.7.7"
  }
 },
 "nbformat": 4,
 "nbformat_minor": 5
}
