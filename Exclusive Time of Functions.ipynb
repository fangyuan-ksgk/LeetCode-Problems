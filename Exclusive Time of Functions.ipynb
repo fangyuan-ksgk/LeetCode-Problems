{
 "cells": [
  {
   "cell_type": "code",
   "execution_count": 43,
   "id": "4891f37c-dc36-4124-b18f-2a2bed9c45f8",
   "metadata": {},
   "outputs": [],
   "source": [
    "logs = [\"0:start:0\",\"0:start:2\",\"0:end:5\",\"1:start:7\",\"1:end:7\",\"0:end:8\"]"
   ]
  },
  {
   "cell_type": "code",
   "execution_count": 39,
   "id": "476fabe5-6754-49e7-8ddf-c39eef3e9223",
   "metadata": {},
   "outputs": [],
   "source": [
    "logs = [\"0:start:0\",\"1:start:2\",\"1:end:5\",\"0:end:6\"]"
   ]
  },
  {
   "cell_type": "code",
   "execution_count": 58,
   "id": "bad4e220-1e1c-4495-a345-34547fba99f9",
   "metadata": {},
   "outputs": [
    {
     "data": {
      "text/plain": [
       "[['0', 'start', '0'],\n",
       " ['3', 'start', '2'],\n",
       " ['3', 'end', '5'],\n",
       " ['1', 'start', '6'],\n",
       " ['1', 'end', '6'],\n",
       " ['0', 'end', '7']]"
      ]
     },
     "execution_count": 58,
     "metadata": {},
     "output_type": "execute_result"
    }
   ],
   "source": [
    "[log.split(\":\") for log in logs]"
   ]
  },
  {
   "cell_type": "code",
   "execution_count": 55,
   "id": "ac9d1ea1-11a1-4497-a780-4a5d91a5f43f",
   "metadata": {},
   "outputs": [],
   "source": [
    "logs = [\"0:start:0\",\"3:start:2\",\"3:end:5\",\"1:start:6\",\"1:end:6\",\"0:end:7\"]"
   ]
  },
  {
   "cell_type": "code",
   "execution_count": 104,
   "id": "943e2b6a-f813-499b-b369-94f5107851f4",
   "metadata": {},
   "outputs": [],
   "source": [
    "n=2\n",
    "logs = [\"0:start:0\",\"0:start:2\",\"0:end:5\",\"1:start:7\",\"1:end:7\",\"0:end:8\"]"
   ]
  },
  {
   "cell_type": "code",
   "execution_count": 105,
   "id": "0b84f433-7f59-46cc-9cf6-033ba1485d35",
   "metadata": {},
   "outputs": [
    {
     "data": {
      "text/plain": [
       "[8, 1]"
      ]
     },
     "execution_count": 105,
     "metadata": {},
     "output_type": "execute_result"
    }
   ],
   "source": [
    "exclusiveTime(n,logs)"
   ]
  },
  {
   "cell_type": "code",
   "execution_count": 108,
   "id": "eb69dda5-a2c1-4242-a115-a1297d47462c",
   "metadata": {},
   "outputs": [],
   "source": [
    "def exclusiveTime(n, logs):\n",
    "    tasks = [log.split(\":\") for log in logs]\n",
    "    queue = []\n",
    "    sche = []\n",
    "\n",
    "    while tasks:\n",
    "        task = tasks.pop(0)\n",
    "        name, stat, t = task[0], task[1], int(task[2])\n",
    "        if stat == 'start':\n",
    "            if queue:\n",
    "                # terminate prev running tasks without dequeing\n",
    "                sche[-1][2]=t-1\n",
    "            queue.append(name)\n",
    "            curr = name\n",
    "            sche.append([name,t,t])\n",
    "\n",
    "        else:\n",
    "            if name!=curr:\n",
    "                continue\n",
    "            else:\n",
    "                # terminate current job and maybe open another queueing job\n",
    "                sche[-1][2]=t\n",
    "                queue.pop()\n",
    "                if tasks:\n",
    "                    if tasks[0][1]=='start' and int(tasks[0][2])==(t+1):\n",
    "                        continue\n",
    "                    else:\n",
    "                        resume = queue[-1]\n",
    "                        sche.append([resume,t+1,t+1])\n",
    "                        curr = resume\n",
    "    # collect output\n",
    "    out = [0]*n\n",
    "    for s in sche:\n",
    "        out[int(s[0])] += s[2]-s[1]+1  \n",
    "    return sche"
   ]
  },
  {
   "cell_type": "code",
   "execution_count": 109,
   "id": "490c9d36-8021-427b-bb78-d160ac1b0a66",
   "metadata": {},
   "outputs": [
    {
     "data": {
      "text/plain": [
       "[['0', 0, 1], ['1', 2, 6]]"
      ]
     },
     "execution_count": 109,
     "metadata": {},
     "output_type": "execute_result"
    }
   ],
   "source": [
    "n=2\n",
    "logs = [\"0:start:0\",\"1:start:2\",\"0:end:5\",\"1:end:6\"]\n",
    "exclusiveTime(n,logs)"
   ]
  },
  {
   "cell_type": "code",
   "execution_count": null,
   "id": "681c77d7-846f-420d-a4aa-89c7c8f39bf9",
   "metadata": {},
   "outputs": [],
   "source": []
  }
 ],
 "metadata": {
  "kernelspec": {
   "display_name": "Python 3 (ipykernel)",
   "language": "python",
   "name": "python3"
  },
  "language_info": {
   "codemirror_mode": {
    "name": "ipython",
    "version": 3
   },
   "file_extension": ".py",
   "mimetype": "text/x-python",
   "name": "python",
   "nbconvert_exporter": "python",
   "pygments_lexer": "ipython3",
   "version": "3.7.7"
  }
 },
 "nbformat": 4,
 "nbformat_minor": 5
}
