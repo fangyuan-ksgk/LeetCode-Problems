{
 "cells": [
  {
   "cell_type": "code",
   "execution_count": 9,
   "metadata": {},
   "outputs": [
    {
     "data": {
      "text/plain": [
       "7"
      ]
     },
     "execution_count": 9,
     "metadata": {},
     "output_type": "execute_result"
    }
   ],
   "source": [
    "grid = [[1,3,1],[1,5,1],[4,2,1]]\n",
    "minpathget(grid)"
   ]
  },
  {
   "cell_type": "code",
   "execution_count": 10,
   "metadata": {},
   "outputs": [
    {
     "data": {
      "text/plain": [
       "12"
      ]
     },
     "execution_count": 10,
     "metadata": {},
     "output_type": "execute_result"
    }
   ],
   "source": [
    "grid = [[1,2,3],[4,5,6]]\n",
    "minpathget(grid)"
   ]
  },
  {
   "cell_type": "code",
   "execution_count": 8,
   "metadata": {},
   "outputs": [],
   "source": [
    "import heapq\n",
    "import sys\n",
    "\n",
    "def minpathget(grid):\n",
    "    m = len(grid)\n",
    "    n = len(grid[0])\n",
    "    minpath = [[sys.maxsize for _ in grid[0]] for _ in grid]\n",
    "    v = set()\n",
    "    v.add((0,0))\n",
    "    pq = [(grid[0][0],0,0)]\n",
    "\n",
    "    while pq:\n",
    "        minval,i,j = heapq.heappop(pq)\n",
    "        v.add((i,j))\n",
    "        if i==m-1 and j==n-1:\n",
    "            return minval\n",
    "        for (k,l) in (i+1,j), (i,j+1):\n",
    "            if 0<=k<m and 0<=l<n and (k,l) not in v:\n",
    "                new_minval = minval + grid[k][l]\n",
    "                if new_minval<minpath[k][l]:\n",
    "                    minpath[k][l] = new_minval\n",
    "                    heapq.heappush(pq,(new_minval,k,l))"
   ]
  },
  {
   "cell_type": "code",
   "execution_count": null,
   "metadata": {},
   "outputs": [],
   "source": []
  }
 ],
 "metadata": {
  "kernelspec": {
   "display_name": "Python 3",
   "language": "python",
   "name": "python3"
  },
  "language_info": {
   "codemirror_mode": {
    "name": "ipython",
    "version": 3
   },
   "file_extension": ".py",
   "mimetype": "text/x-python",
   "name": "python",
   "nbconvert_exporter": "python",
   "pygments_lexer": "ipython3",
   "version": "3.7.7"
  }
 },
 "nbformat": 4,
 "nbformat_minor": 4
}
