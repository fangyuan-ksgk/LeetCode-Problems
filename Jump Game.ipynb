{
 "cells": [
  {
   "cell_type": "code",
   "execution_count": 104,
   "metadata": {},
   "outputs": [],
   "source": [
    "\"Note that nums[i] is the MAXIMUM JUMP length!\"\n",
    "\"Competent Solution focusing on zeros, order O(n)\"\n",
    "\"optimize available for the .index & 0 in..., should be done at the same time and by hand\"\n",
    "def canJump(nums):  \n",
    "    n = len(nums)\n",
    "    pz = -1\n",
    "    pm = 0\n",
    "    stop = False\n",
    "    while 0 in nums[pz+1:]:\n",
    "        z = nums[pz+1:].index(0) + pz + 1\n",
    "        m = max(pm + pz - z,0)\n",
    "        for i in range(pz+1,z):\n",
    "            m = max(m, nums[i]-z+i)\n",
    "        if m<0 or (m==0 and z<(n-1)):\n",
    "            return False\n",
    "        elif z==(n-1) and m>=0:\n",
    "            return True\n",
    "        else: \n",
    "            pz = z\n",
    "            pm = m\n",
    "    else:\n",
    "        return True"
   ]
  },
  {
   "cell_type": "code",
   "execution_count": 105,
   "metadata": {},
   "outputs": [
    {
     "data": {
      "text/plain": [
       "True"
      ]
     },
     "execution_count": 105,
     "metadata": {},
     "output_type": "execute_result"
    }
   ],
   "source": [
    "nums = [1,2,0,1]\n",
    "canJump(nums)"
   ]
  },
  {
   "cell_type": "code",
   "execution_count": 106,
   "metadata": {},
   "outputs": [
    {
     "data": {
      "text/plain": [
       "True"
      ]
     },
     "execution_count": 106,
     "metadata": {},
     "output_type": "execute_result"
    }
   ],
   "source": [
    "nums = [0]\n",
    "\n",
    "canJump(nums)"
   ]
  },
  {
   "cell_type": "code",
   "execution_count": 107,
   "metadata": {},
   "outputs": [
    {
     "data": {
      "text/plain": [
       "False"
      ]
     },
     "execution_count": 107,
     "metadata": {},
     "output_type": "execute_result"
    }
   ],
   "source": [
    "nums = [8,0,0,1,2,0,1,0,0,0,0]\n",
    "\n",
    "canJump(nums)"
   ]
  },
  {
   "cell_type": "code",
   "execution_count": 108,
   "metadata": {},
   "outputs": [
    {
     "data": {
      "text/plain": [
       "False"
      ]
     },
     "execution_count": 108,
     "metadata": {},
     "output_type": "execute_result"
    }
   ],
   "source": [
    "nums = [3,2,1,0,4]\n",
    "\n",
    "canJump(nums)"
   ]
  }
 ],
 "metadata": {
  "kernelspec": {
   "display_name": "Python 3",
   "language": "python",
   "name": "python3"
  },
  "language_info": {
   "codemirror_mode": {
    "name": "ipython",
    "version": 3
   },
   "file_extension": ".py",
   "mimetype": "text/x-python",
   "name": "python",
   "nbconvert_exporter": "python",
   "pygments_lexer": "ipython3",
   "version": "3.7.7"
  }
 },
 "nbformat": 4,
 "nbformat_minor": 4
}
