{
 "cells": [
  {
   "cell_type": "code",
   "execution_count": null,
   "metadata": {},
   "outputs": [],
   "source": [
    "\"Simple Answer\"\n",
    "\"Smart Solution Indeed...\"\n",
    "def insert(intervals, newInterval):\n",
    "    start, end = newInterval\n",
    "    left, mid, right = [], [], []\n",
    "    for i in intervals:\n",
    "        if i[0] > end:\n",
    "            right.append(i)\n",
    "        elif i[1] < start:\n",
    "            left.append(i)\n",
    "        else:\n",
    "            mid.append(i)\n",
    "    if mid:\n",
    "        start = min(mid[0][0], start)\n",
    "        end = max(mid[-1][1], end)\n",
    "\n",
    "    return left + [[start,end]] + right"
   ]
  },
  {
   "cell_type": "code",
   "execution_count": null,
   "metadata": {},
   "outputs": [],
   "source": [
    "intervals = [[1,2],[3,5],[6,7],[8,10],[12,16]]\n",
    "newInterval = [4,8]"
   ]
  }
 ],
 "metadata": {
  "kernelspec": {
   "display_name": "Python 3",
   "language": "python",
   "name": "python3"
  },
  "language_info": {
   "codemirror_mode": {
    "name": "ipython",
    "version": 3
   },
   "file_extension": ".py",
   "mimetype": "text/x-python",
   "name": "python",
   "nbconvert_exporter": "python",
   "pygments_lexer": "ipython3",
   "version": "3.7.7"
  }
 },
 "nbformat": 4,
 "nbformat_minor": 4
}
