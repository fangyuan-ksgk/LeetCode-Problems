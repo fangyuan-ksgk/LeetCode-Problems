{
 "cells": [
  {
   "cell_type": "code",
   "execution_count": 59,
   "metadata": {},
   "outputs": [],
   "source": [
    "\"Mine Backtrack\"\n",
    "\"I search for all the possible combos, which meaks mine slow, and on top requires SORT\"\n",
    "def combinationSum(candidates, target):\n",
    "    def backtrack(combo, combinations):\n",
    "        if sum(combo)==target:\n",
    "            \"During back-prop, = means the memory is shared wihout copy to another address\"\n",
    "            \"using [:] will allows combinations to keep its value throughout the backtracking\"\n",
    "            sorted_combo = sorted(combo)\n",
    "            if sorted_combo not in combinations:\n",
    "                combinations.append(sorted_combo[:])\n",
    "            return\n",
    "            #print(combinations)\n",
    "        if sum(combo)>target:\n",
    "            return\n",
    "        for candidate in candidates:\n",
    "            #print('loop',combinations)\n",
    "            combo.append(candidate)\n",
    "            backtrack(combo, combinations)\n",
    "            combo.pop()\n",
    "        return combinations\n",
    "    output = backtrack([],[])\n",
    "    return output"
   ]
  },
  {
   "cell_type": "code",
   "execution_count": 79,
   "metadata": {},
   "outputs": [],
   "source": [
    "\"\"\"\n",
    "Refined version from my orginal\n",
    "\"\"\"\n",
    "def combinationSum(candidates, target):\n",
    "    n = len(candidates)\n",
    "    def backtrack(combo, combinations,i):\n",
    "        if sum(combo)==target:\n",
    "            combinations.append(combo[:])\n",
    "            return\n",
    "        if sum(combo)>target:\n",
    "            return\n",
    "        \n",
    "        for j in range(i,n):            \n",
    "            combo.append(candidates[j])\n",
    "            backtrack(combo, combinations,j)\n",
    "            combo.pop()\n",
    "        return combinations\n",
    "    output = backtrack([],[],0)\n",
    "    return output"
   ]
  },
  {
   "cell_type": "code",
   "execution_count": 80,
   "metadata": {},
   "outputs": [
    {
     "data": {
      "text/plain": [
       "[[2, 2, 3], [7]]"
      ]
     },
     "execution_count": 80,
     "metadata": {},
     "output_type": "execute_result"
    }
   ],
   "source": [
    "combinationSum(candidates, target)"
   ]
  },
  {
   "cell_type": "code",
   "execution_count": 30,
   "metadata": {},
   "outputs": [],
   "source": [
    "candidates = [2,3,6,7]\n",
    "target = 7"
   ]
  },
  {
   "cell_type": "markdown",
   "metadata": {},
   "source": [
    "下面这一版本基本没有用BACKTRACKING的那些pop的东西，有点意思\n",
    "这个感觉更实用一些，也比backtraking快\n",
    "\n",
    "depth-first search （DPS） in Python"
   ]
  },
  {
   "cell_type": "code",
   "execution_count": 90,
   "metadata": {},
   "outputs": [],
   "source": [
    "def combinationSum2(candidates, target):\n",
    "    n = len(candidates)\n",
    "    can = candidates\n",
    "    ans = []\n",
    "    def explore(combo, s, i):\n",
    "        for j in range(i, n):\n",
    "            total = s + can[j]\n",
    "            if total == target:\n",
    "                t = combo + [can[j]]\n",
    "                ans.append(t)\n",
    "            elif total < target:\n",
    "                t = combo + [can[j]]\n",
    "                explore(t, total, j)\n",
    "\n",
    "    explore([],0,0)\n",
    "    return ans"
   ]
  },
  {
   "cell_type": "code",
   "execution_count": 91,
   "metadata": {},
   "outputs": [
    {
     "data": {
      "text/plain": [
       "[[2, 2, 3], [7]]"
      ]
     },
     "execution_count": 91,
     "metadata": {},
     "output_type": "execute_result"
    }
   ],
   "source": [
    "combinationSum2(candidates, target)"
   ]
  },
  {
   "cell_type": "code",
   "execution_count": null,
   "metadata": {},
   "outputs": [],
   "source": []
  }
 ],
 "metadata": {
  "kernelspec": {
   "display_name": "Python 3",
   "language": "python",
   "name": "python3"
  },
  "language_info": {
   "codemirror_mode": {
    "name": "ipython",
    "version": 3
   },
   "file_extension": ".py",
   "mimetype": "text/x-python",
   "name": "python",
   "nbconvert_exporter": "python",
   "pygments_lexer": "ipython3",
   "version": "3.7.7"
  }
 },
 "nbformat": 4,
 "nbformat_minor": 4
}
