{
 "cells": [
  {
   "cell_type": "code",
   "execution_count": 1,
   "id": "64610f09-624b-4321-85a2-37906b000e55",
   "metadata": {},
   "outputs": [],
   "source": [
    "firstList = [[0,2],[5,10],[13,23],[24,25]]\n",
    "secondList = [[1,5],[8,12],[15,24],[25,26]]"
   ]
  },
  {
   "cell_type": "code",
   "execution_count": 6,
   "id": "765c9b2d-3017-4829-8fd9-5aa1fa055f54",
   "metadata": {},
   "outputs": [
    {
     "name": "stdout",
     "output_type": "stream",
     "text": [
      "1 0\n",
      "1 1\n",
      "2 1\n",
      "2 2\n",
      "3 2\n",
      "3 3\n",
      "4 3\n"
     ]
    }
   ],
   "source": [
    "n1 = len(firstList)\n",
    "n2 = len(secondList)\n",
    "\n",
    "ans = []\n",
    "i,j = 0,0\n",
    "while i<n1 and j<n2:\n",
    "    l1,r1 = firstList[i]\n",
    "    l2,r2 = secondList[j]\n",
    "    lm = max(l1,l2)\n",
    "    rm = min(r1,r2)\n",
    "    if lm<=rm:\n",
    "        ans.append([lm,rm])\n",
    "    if r1==rm:\n",
    "        i+=1\n",
    "    else:\n",
    "        j+=1    \n",
    "    print(i,j)"
   ]
  },
  {
   "cell_type": "code",
   "execution_count": 7,
   "id": "ea60f783-7e69-4c66-866b-3eac7ff87f38",
   "metadata": {},
   "outputs": [
    {
     "data": {
      "text/plain": [
       "[[1, 2], [5, 5], [8, 10], [15, 23], [24, 24], [25, 25]]"
      ]
     },
     "execution_count": 7,
     "metadata": {},
     "output_type": "execute_result"
    }
   ],
   "source": [
    "ans"
   ]
  },
  {
   "cell_type": "code",
   "execution_count": null,
   "id": "5cd0153c-d438-4e93-8850-600e7e0c69b7",
   "metadata": {},
   "outputs": [],
   "source": []
  }
 ],
 "metadata": {
  "kernelspec": {
   "display_name": "Python 3 (ipykernel)",
   "language": "python",
   "name": "python3"
  },
  "language_info": {
   "codemirror_mode": {
    "name": "ipython",
    "version": 3
   },
   "file_extension": ".py",
   "mimetype": "text/x-python",
   "name": "python",
   "nbconvert_exporter": "python",
   "pygments_lexer": "ipython3",
   "version": "3.7.7"
  }
 },
 "nbformat": 4,
 "nbformat_minor": 5
}
