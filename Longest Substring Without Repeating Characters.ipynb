{
 "cells": [
  {
   "cell_type": "markdown",
   "metadata": {},
   "source": [
    "Longest Substring Without Repeating Characters\n",
    "\n",
    "Note that substring is different from subset, the string needs to be part of the original string"
   ]
  },
  {
   "cell_type": "code",
   "execution_count": 109,
   "metadata": {},
   "outputs": [],
   "source": [
    "\"\"\"\n",
    "Brute force version: key is the index stuff, with +1 and without is an issue\n",
    "\"\"\"\n",
    "\n",
    "def lengthOfLongestSubstring(s):\n",
    "    str_len = len(set(s))\n",
    "    if str_len == len(s):\n",
    "        return str_len\n",
    "    sub_str = None\n",
    "    while sub_str == None:\n",
    "        for i in range(len(s) - str_len + 1):\n",
    "            try_str = s[i:i+str_len]\n",
    "            if len(set(try_str)) == str_len:\n",
    "                sub_str = try_str\n",
    "                break\n",
    "        str_len -= 1\n",
    "    return len(sub_str)\n",
    "\n",
    "\n",
    "\"\"\"\n",
    "With dictionary\n",
    "\"\"\"\n",
    "\n",
    "def lengthOfLongestSubstring1(s):\n",
    "    dicts = {}\n",
    "    maxlength = start = 0\n",
    "    for i,value in enumerate(s):\n",
    "        if value in dicts:\n",
    "            sums = dicts[value] + 1\n",
    "            if sums > start:\n",
    "                start = sums\n",
    "        num = i - start + 1\n",
    "        if num > maxlength:\n",
    "            maxlength = num\n",
    "        dicts[value] = i\n",
    "    return maxlength"
   ]
  },
  {
   "cell_type": "code",
   "execution_count": 122,
   "metadata": {},
   "outputs": [
    {
     "name": "stdout",
     "output_type": "stream",
     "text": [
      "i= 0 num= 1\n",
      "{'a': 0}\n",
      "sums= 1 start= 0 i= 1\n",
      "i= 1 num= 1\n",
      "{'a': 1}\n",
      "i= 2 num= 2\n",
      "{'a': 1, 'b': 2}\n",
      "sums= 2 start= 1 i= 3\n",
      "i= 3 num= 2\n",
      "{'a': 3, 'b': 2}\n"
     ]
    }
   ],
   "source": [
    "\"\"\"\n",
    "Dictionary implementation: Step-wise walkthrough\n",
    "\"\"\"\n",
    "\n",
    "s = \"aaba\"\n",
    "dicts = {}\n",
    "maxlength = start = 0\n",
    "for i, value in enumerate(s):\n",
    "    \"repeat of values spotted and we reinitialize the starting point\"\n",
    "    if value in dicts:\n",
    "        \"由sums index 向右 (s[sums:i+1])，无重复的 value 元素, value appears ONCE\"\n",
    "        sums = dicts[value] + 1\n",
    "        print('sums=',sums,'start=',start,'i=',i)\n",
    "        \"由 start index 向右 (s[start:i+1]), 无重复的任何元素, any value appear ONCE\"        \n",
    "        if sums > start:\n",
    "            start = sums\n",
    "    \"Count the number of value from start to i, +1 is due to python index rule\"\n",
    "    num = i - start + 1\n",
    "    if num > maxlength:\n",
    "        \"We want the max-length sub string without repetition\"\n",
    "        maxlength = num\n",
    "    print('i=',i,'num=',num)\n",
    "    dicts[value] = i\n",
    "    print(dicts)\n",
    "    "
   ]
  },
  {
   "cell_type": "code",
   "execution_count": 103,
   "metadata": {},
   "outputs": [
    {
     "data": {
      "text/plain": [
       "3"
      ]
     },
     "execution_count": 103,
     "metadata": {},
     "output_type": "execute_result"
    }
   ],
   "source": [
    "s = \"abcabcbb\"\n",
    "lengthOfLongestSubstring(s)"
   ]
  },
  {
   "cell_type": "code",
   "execution_count": 104,
   "metadata": {},
   "outputs": [
    {
     "data": {
      "text/plain": [
       "3"
      ]
     },
     "execution_count": 104,
     "metadata": {},
     "output_type": "execute_result"
    }
   ],
   "source": [
    "s = \"pwwkew\"\n",
    "lengthOfLongestSubstring(s)"
   ]
  },
  {
   "cell_type": "code",
   "execution_count": 105,
   "metadata": {},
   "outputs": [
    {
     "data": {
      "text/plain": [
       "1"
      ]
     },
     "execution_count": 105,
     "metadata": {},
     "output_type": "execute_result"
    }
   ],
   "source": [
    "s = \"bbbbb\"\n",
    "lengthOfLongestSubstring(s)"
   ]
  },
  {
   "cell_type": "code",
   "execution_count": 106,
   "metadata": {},
   "outputs": [
    {
     "data": {
      "text/plain": [
       "0"
      ]
     },
     "execution_count": 106,
     "metadata": {},
     "output_type": "execute_result"
    }
   ],
   "source": [
    "s = \"\"\n",
    "lengthOfLongestSubstring(s)"
   ]
  },
  {
   "cell_type": "code",
   "execution_count": 107,
   "metadata": {},
   "outputs": [
    {
     "data": {
      "text/plain": [
       "1"
      ]
     },
     "execution_count": 107,
     "metadata": {},
     "output_type": "execute_result"
    }
   ],
   "source": [
    "s = \" \"\n",
    "lengthOfLongestSubstring(s)"
   ]
  },
  {
   "cell_type": "code",
   "execution_count": 108,
   "metadata": {},
   "outputs": [
    {
     "data": {
      "text/plain": [
       "2"
      ]
     },
     "execution_count": 108,
     "metadata": {},
     "output_type": "execute_result"
    }
   ],
   "source": [
    "s = \"aab\"\n",
    "lengthOfLongestSubstring(s)"
   ]
  },
  {
   "cell_type": "code",
   "execution_count": null,
   "metadata": {},
   "outputs": [],
   "source": []
  }
 ],
 "metadata": {
  "kernelspec": {
   "display_name": "Python 3",
   "language": "python",
   "name": "python3"
  },
  "language_info": {
   "codemirror_mode": {
    "name": "ipython",
    "version": 3
   },
   "file_extension": ".py",
   "mimetype": "text/x-python",
   "name": "python",
   "nbconvert_exporter": "python",
   "pygments_lexer": "ipython3",
   "version": "3.7.7"
  }
 },
 "nbformat": 4,
 "nbformat_minor": 4
}
