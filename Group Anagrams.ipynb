{
 "cells": [
  {
   "cell_type": "code",
   "execution_count": 1,
   "id": "5e8c8b82-7e7f-44c2-8e5f-46d0b1b17547",
   "metadata": {},
   "outputs": [],
   "source": [
    "strs = [\"eat\",\"tea\",\"tan\",\"ate\",\"nat\",\"bat\"]"
   ]
  },
  {
   "cell_type": "code",
   "execution_count": 14,
   "id": "789cfb8f-20ce-4c50-ae72-fc2ac4bcdf8e",
   "metadata": {},
   "outputs": [],
   "source": [
    "def groupAnagrams(strs):\n",
    "    sdict = {}\n",
    "    for s in strs:\n",
    "        o = (\"\").join(sorted(s)) \n",
    "        if o in sdict:\n",
    "            sdict[o].append(s)\n",
    "        else:\n",
    "            sdict[o] = [s]\n",
    "    ans = []\n",
    "    for o in sdict:\n",
    "        ans.append(sdict[o])\n",
    "    return ans"
   ]
  },
  {
   "cell_type": "code",
   "execution_count": null,
   "id": "cc2cac9b-8aac-498f-8286-7659089f5311",
   "metadata": {},
   "outputs": [],
   "source": []
  }
 ],
 "metadata": {
  "kernelspec": {
   "display_name": "Python 3 (ipykernel)",
   "language": "python",
   "name": "python3"
  },
  "language_info": {
   "codemirror_mode": {
    "name": "ipython",
    "version": 3
   },
   "file_extension": ".py",
   "mimetype": "text/x-python",
   "name": "python",
   "nbconvert_exporter": "python",
   "pygments_lexer": "ipython3",
   "version": "3.7.7"
  }
 },
 "nbformat": 4,
 "nbformat_minor": 5
}
