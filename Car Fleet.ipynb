{
 "cells": [
  {
   "cell_type": "code",
   "execution_count": 73,
   "metadata": {},
   "outputs": [],
   "source": [
    "\"First version: Speed 15.6%\"\n",
    "def carFleet(target, position, speed):\n",
    "    \"zip list together and sort according to their position\"\n",
    "    flist = list(zip(position,speed))\n",
    "    car = sorted(flist, key=lambda x:x[0])\n",
    "    n = len(speed)\n",
    "\n",
    "    i = n-1\n",
    "    j = i-1\n",
    "    nf = 1\n",
    "    \"waste of time in len(car) evaluation\"\n",
    "    while j>0 or len(car)!=nf:\n",
    "        ti = (target - car[i][0])/car[i][1]\n",
    "        for j in reversed(range(i)):\n",
    "            tj = (target - car[j][0])/car[j][1]\n",
    "            if tj <= ti:\n",
    "                car.pop(j)\n",
    "                continue\n",
    "            else:\n",
    "                i=j\n",
    "                nf+=1\n",
    "                break\n",
    "    return nf"
   ]
  },
  {
   "cell_type": "code",
   "execution_count": 79,
   "metadata": {},
   "outputs": [],
   "source": [
    "def carFleet(target, position, speed):\n",
    "    \"zip list together and sort according to their position\"\n",
    "    flist = list(zip(position,speed))\n",
    "    car = sorted(flist, key=lambda x:x[0])\n",
    "    n = len(speed)\n",
    "\n",
    "    i = n-1\n",
    "    j = i-1\n",
    "    nf = 1\n",
    "    while n!=nf:\n",
    "        ti = (target - car[i][0])/car[i][1]\n",
    "        for j in reversed(range(i)):\n",
    "            tj = (target - car[j][0])/car[j][1]\n",
    "            if tj <= ti:\n",
    "                n-=1\n",
    "                car.pop(j)\n",
    "                continue\n",
    "            else:\n",
    "                i=j\n",
    "                nf+=1\n",
    "                break\n",
    "    return nf"
   ]
  },
  {
   "cell_type": "code",
   "execution_count": null,
   "metadata": {},
   "outputs": [],
   "source": [
    "\"Stacking solution\"\n",
    "def carFleet(target, position, speed):\n",
    "    stack = []\n",
    "    for pos, vel in sorted(zip(position, speed), reverse=True):\n",
    "        dist = target - pos\n",
    "        if not stack:\n",
    "            stack.append(dist / vel)\n",
    "        elif dist / vel > stack[-1]:\n",
    "            stack.append(dist / vel)\n",
    "    return len(stack)"
   ]
  },
  {
   "cell_type": "code",
   "execution_count": null,
   "metadata": {},
   "outputs": [],
   "source": [
    "\"Another slower solution\"\n",
    "def carFleet(target, position, speed):\n",
    "    positions = list(zip(position, speed))\n",
    "    positions.sort()\n",
    "    times = [(target-p)/s for p, s in positions]\n",
    "\n",
    "    fleets = 0\n",
    "    maxTime = 0\n",
    "\n",
    "    for t in times[::-1]:\n",
    "        if t > maxTime:\n",
    "            fleets += 1\n",
    "            maxTime = t\n",
    "\n",
    "    return fleets"
   ]
  },
  {
   "cell_type": "code",
   "execution_count": 7,
   "metadata": {},
   "outputs": [
    {
     "data": {
      "text/plain": [
       "[12.0, 7.0, 1.0]"
      ]
     },
     "execution_count": 7,
     "metadata": {},
     "output_type": "execute_result"
    }
   ],
   "source": [
    "[(target-p)/s for p,s in car]"
   ]
  },
  {
   "cell_type": "code",
   "execution_count": 4,
   "metadata": {},
   "outputs": [],
   "source": [
    "target = 12\n",
    "position = [10,8,0,5,3]\n",
    "speed = [2,4,1,1,3]\n",
    "\n",
    "#carFleet(target, position, speed)"
   ]
  },
  {
   "cell_type": "code",
   "execution_count": 83,
   "metadata": {},
   "outputs": [
    {
     "data": {
      "text/plain": [
       "1"
      ]
     },
     "execution_count": 83,
     "metadata": {},
     "output_type": "execute_result"
    }
   ],
   "source": [
    "target = 10\n",
    "position = [3,5]\n",
    "speed = [5,3]\n",
    "\n",
    "carFleet(target, position, speed)"
   ]
  },
  {
   "cell_type": "code",
   "execution_count": 5,
   "metadata": {},
   "outputs": [
    {
     "data": {
      "text/plain": [
       "3"
      ]
     },
     "execution_count": 5,
     "metadata": {},
     "output_type": "execute_result"
    }
   ],
   "source": [
    "\"zip list together and sort according to their position\"\n",
    "flist = list(zip(position,speed))\n",
    "car = sorted(flist, key=lambda x:x[0])\n",
    "n = len(speed)\n",
    "\n",
    "i = n-1\n",
    "j = i-1\n",
    "nf = 1\n",
    "while j>0 or len(car)!=nf:\n",
    "    ti = (target - car[i][0])/car[i][1]\n",
    "    for j in reversed(range(i)):\n",
    "        tj = (target - car[j][0])/car[j][1]\n",
    "        if tj <= ti:\n",
    "            car.pop(j)\n",
    "            continue\n",
    "        else:\n",
    "            i=j\n",
    "            nf+=1\n",
    "            break\n",
    "            \n",
    "nf"
   ]
  },
  {
   "cell_type": "code",
   "execution_count": null,
   "metadata": {},
   "outputs": [],
   "source": []
  }
 ],
 "metadata": {
  "kernelspec": {
   "display_name": "Python 3",
   "language": "python",
   "name": "python3"
  },
  "language_info": {
   "codemirror_mode": {
    "name": "ipython",
    "version": 3
   },
   "file_extension": ".py",
   "mimetype": "text/x-python",
   "name": "python",
   "nbconvert_exporter": "python",
   "pygments_lexer": "ipython3",
   "version": "3.7.7"
  }
 },
 "nbformat": 4,
 "nbformat_minor": 4
}
