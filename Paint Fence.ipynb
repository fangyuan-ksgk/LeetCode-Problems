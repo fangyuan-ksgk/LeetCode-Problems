{
 "cells": [
  {
   "cell_type": "code",
   "execution_count": 59,
   "id": "83337bb2-f212-4ca8-ad04-7ce1b0fbf70a",
   "metadata": {},
   "outputs": [
    {
     "data": {
      "text/plain": [
       "6"
      ]
     },
     "execution_count": 59,
     "metadata": {},
     "output_type": "execute_result"
    }
   ],
   "source": [
    "n,k = 3,2\n",
    "numWays(n,k)"
   ]
  },
  {
   "cell_type": "code",
   "execution_count": 58,
   "id": "f88a958a-5188-4bcb-8b70-53526c5f6f42",
   "metadata": {},
   "outputs": [
    {
     "data": {
      "text/plain": [
       "42"
      ]
     },
     "execution_count": 58,
     "metadata": {},
     "output_type": "execute_result"
    }
   ],
   "source": [
    "n = 7\n",
    "k = 2\n",
    "numWays(n,k)"
   ]
  },
  {
   "cell_type": "code",
   "execution_count": 57,
   "id": "c11cccc4-7c89-4e03-a981-cc53aafabe07",
   "metadata": {},
   "outputs": [],
   "source": [
    "\"The only possible way to beat this is a math solution\"\n",
    "\"f(n) = (k-1)(f(n-1) + f(n-2))\"\n",
    "\"\"\"\n",
    "1st and 2nd elements have same colors: (k-1)*f(n-2)\n",
    "1st and 2nd elements have different colors: (k-1)*f(n-1)\n",
    "\"\"\"\n",
    "def numWays(n,k):\n",
    "    \n",
    "    dp = [0 for i in range(n)]\n",
    "    dp[0],dp[1] = k, k*k\n",
    "    for i in range(2,n):\n",
    "        dp[i] = (k-1)*(dp[i-1]+dp[i-2])\n",
    "    return dp[-1]"
   ]
  },
  {
   "cell_type": "code",
   "execution_count": 54,
   "id": "503c70c2-127b-4b62-94a0-020ca430af1f",
   "metadata": {
    "tags": []
   },
   "outputs": [],
   "source": [
    "def numWays(n,k):\n",
    "    # solve through a depth first search\n",
    "    # in stack, we save memory by storing only last 2 colors here\n",
    "    stack = [([-1,-1],0)]\n",
    "    combs = 0\n",
    "    while stack:\n",
    "        lastcolors, lenth = stack.pop()\n",
    "        if lenth == n:\n",
    "            combs += 1\n",
    "            continue\n",
    "        for color in range(k):\n",
    "            if lastcolors.count(color)==2:\n",
    "                continue\n",
    "            stack.append(([lastcolors[-1],color],lenth+1))\n",
    "    return combs"
   ]
  },
  {
   "cell_type": "code",
   "execution_count": null,
   "id": "3269d811-600e-491c-99bb-22027d733e45",
   "metadata": {},
   "outputs": [],
   "source": []
  }
 ],
 "metadata": {
  "kernelspec": {
   "display_name": "Python 3 (ipykernel)",
   "language": "python",
   "name": "python3"
  },
  "language_info": {
   "codemirror_mode": {
    "name": "ipython",
    "version": 3
   },
   "file_extension": ".py",
   "mimetype": "text/x-python",
   "name": "python",
   "nbconvert_exporter": "python",
   "pygments_lexer": "ipython3",
   "version": "3.7.7"
  }
 },
 "nbformat": 4,
 "nbformat_minor": 5
}
