{
 "cells": [
  {
   "cell_type": "code",
   "execution_count": 61,
   "metadata": {},
   "outputs": [
    {
     "data": {
      "text/plain": [
       "12"
      ]
     },
     "execution_count": 61,
     "metadata": {},
     "output_type": "execute_result"
    }
   ],
   "source": [
    "maze = [[0,0,1,0,0],[0,0,0,0,0],[0,0,0,1,0],[1,1,0,1,1],[0,0,0,0,0]]\n",
    "s = [0,4]\n",
    "d = [4,4]\n",
    "\n",
    "shortestDistance(maze,s,d)"
   ]
  },
  {
   "cell_type": "code",
   "execution_count": 62,
   "metadata": {},
   "outputs": [
    {
     "data": {
      "text/plain": [
       "-1"
      ]
     },
     "execution_count": 62,
     "metadata": {},
     "output_type": "execute_result"
    }
   ],
   "source": [
    "maze = [[0,0,1,0,0],[0,0,0,0,0],[0,0,0,1,0],[1,1,0,1,1],[0,0,0,0,0]]\n",
    "s = [0,4]\n",
    "d = [3,2]\n",
    "shortestDistance(maze,s,d)"
   ]
  },
  {
   "cell_type": "code",
   "execution_count": 65,
   "metadata": {},
   "outputs": [
    {
     "data": {
      "text/plain": [
       "[[0, 0, 1, 0, 0],\n",
       " [0, 0, 0, 0, 0],\n",
       " [0, 0, 0, 1, 0],\n",
       " [1, 1, 0, 1, 1],\n",
       " [0, 0, 0, 0, 0]]"
      ]
     },
     "execution_count": 65,
     "metadata": {},
     "output_type": "execute_result"
    }
   ],
   "source": [
    "maze"
   ]
  },
  {
   "cell_type": "code",
   "execution_count": 85,
   "metadata": {},
   "outputs": [],
   "source": [
    "maze =[[0,0,1,0,0],[0,0,0,0,0],[0,0,0,1,0],[1,1,0,1,1],[0,0,0,0,0]]\n",
    "s=[0,4]\n",
    "d=[0,1]"
   ]
  },
  {
   "cell_type": "code",
   "execution_count": 87,
   "metadata": {},
   "outputs": [],
   "source": [
    "maze =[[0,0,1,0,0],[0,0,0,0,0],[0,0,0,1,0],[1,1,0,1,1],[0,0,0,0,0]]\n",
    "s=[0,4]\n",
    "d=[4,4]"
   ]
  },
  {
   "cell_type": "code",
   "execution_count": 88,
   "metadata": {},
   "outputs": [
    {
     "name": "stdout",
     "output_type": "stream",
     "text": [
      "12\n"
     ]
    }
   ],
   "source": [
    "#### \"it is about getting closest for every destination\"\n",
    "\"dijioiejor?\"\n",
    "import heapq\n",
    "m = len(maze)\n",
    "n = len(maze[0])\n",
    "pq = [(0,s[0],s[1])]\n",
    "dist = [[m*n for _ in range(n)] for _ in range(m)]\n",
    "dist[s[0]][s[1]]=0\n",
    "v = set()\n",
    "\n",
    "while pq:\n",
    "    distance,r,c = heapq.heappop(pq)\n",
    "    if r==d[0] and c==d[1]:\n",
    "        print(distance)\n",
    "    v.add((r,c))\n",
    "    for (dr,dc) in (1,0),(-1,0),(0,1),(0,-1):\n",
    "        nr,nc = r,c\n",
    "        while 0<=nr+dr<m and 0<=nc+dc<n and maze[nr+dr][nc+dc]!=1:\n",
    "            nr+=dr\n",
    "            nc+=dc\n",
    "        if (nr,nc) not in v:\n",
    "            new_distance = abs(nr-r)+abs(nc-c)+distance\n",
    "            if new_distance<dist[nr][nc]:\n",
    "                dist[nr][nc] = new_distance\n",
    "                heapq.heappush(pq,(new_distance,nr,nc))"
   ]
  },
  {
   "cell_type": "code",
   "execution_count": 81,
   "metadata": {},
   "outputs": [
    {
     "data": {
      "text/plain": [
       "[(1, 2, 0), (4, 1, 4)]"
      ]
     },
     "execution_count": 81,
     "metadata": {},
     "output_type": "execute_result"
    }
   ],
   "source": [
    "pq"
   ]
  },
  {
   "cell_type": "code",
   "execution_count": 71,
   "metadata": {},
   "outputs": [
    {
     "data": {
      "text/plain": [
       "[]"
      ]
     },
     "execution_count": 71,
     "metadata": {},
     "output_type": "execute_result"
    }
   ],
   "source": [
    "pq"
   ]
  },
  {
   "cell_type": "code",
   "execution_count": 64,
   "metadata": {},
   "outputs": [
    {
     "data": {
      "text/plain": [
       "[[0, 0, 1, 0, 0],\n",
       " [0, 0, 0, 0, 0],\n",
       " [0, 0, 0, 1, 0],\n",
       " [1, 1, 0, 1, 1],\n",
       " [0, 0, 0, 0, 0]]"
      ]
     },
     "execution_count": 64,
     "metadata": {},
     "output_type": "execute_result"
    }
   ],
   "source": [
    "maze"
   ]
  },
  {
   "cell_type": "code",
   "execution_count": 56,
   "metadata": {},
   "outputs": [],
   "source": [
    "#### \"it is about getting closest for every destination\"\n",
    "\"dijioiejor?\"\n",
    "import heapq\n",
    "\n",
    "def shortestDistance(maze, s, d):\n",
    "    m = len(maze)\n",
    "    n = len(maze[0])\n",
    "    pq = [(0,s[0],s[1])]\n",
    "    dist = [[m*n for _ in range(n)] for _ in range(m)]\n",
    "    dist[s[0]][s[1]]=0\n",
    "    v = set()\n",
    "\n",
    "    while pq:\n",
    "        distance,r,c = heapq.heappop(pq)\n",
    "        if r==d[0] and c==d[1]:\n",
    "            return distance\n",
    "        v.add((r,c))\n",
    "        for (dr,dc) in (1,0),(-1,0),(0,1),(0,-1):\n",
    "            nr,nc = r,c\n",
    "            while 0<=nr+dr<m and 0<=nc+dc<n and maze[nr+dr][nc+dc]!=1:\n",
    "                nr+=dr\n",
    "                nc+=dc\n",
    "            if (nr,nc) not in v:\n",
    "                new_distance = abs(nr-r)+abs(nc-c)+distance\n",
    "                if new_distance<dist[nr][nc]:\n",
    "                    dist[nr][nc] = new_distance\n",
    "                    heapq.heappush(pq,(new_distance,nr,nc))\n",
    "    return -1"
   ]
  },
  {
   "cell_type": "code",
   "execution_count": 41,
   "metadata": {},
   "outputs": [
    {
     "data": {
      "text/plain": [
       "[[0, 0, 1, 0, 0],\n",
       " [0, 0, 0, 0, 0],\n",
       " [0, 0, 0, 1, 0],\n",
       " [1, 1, 0, 1, 1],\n",
       " [0, 0, 0, 0, 0]]"
      ]
     },
     "execution_count": 41,
     "metadata": {},
     "output_type": "execute_result"
    }
   ],
   "source": [
    "maze"
   ]
  },
  {
   "cell_type": "code",
   "execution_count": null,
   "metadata": {},
   "outputs": [],
   "source": []
  }
 ],
 "metadata": {
  "kernelspec": {
   "display_name": "Python 3",
   "language": "python",
   "name": "python3"
  },
  "language_info": {
   "codemirror_mode": {
    "name": "ipython",
    "version": 3
   },
   "file_extension": ".py",
   "mimetype": "text/x-python",
   "name": "python",
   "nbconvert_exporter": "python",
   "pygments_lexer": "ipython3",
   "version": "3.7.7"
  }
 },
 "nbformat": 4,
 "nbformat_minor": 4
}
