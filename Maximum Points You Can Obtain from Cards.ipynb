{
 "cells": [
  {
   "cell_type": "code",
   "execution_count": 29,
   "metadata": {},
   "outputs": [],
   "source": [
    "\"basic idea version, needs to fix a lot of special scenario\"\n",
    "\"time limit exceeded!\"\n",
    "\"there is faster method for this...\"\n",
    "def maxScore(cardPoints, k):\n",
    "    n = len(cardPoints)\n",
    "    if n == k:\n",
    "        return sum(cardPoints)\n",
    "    output = 0\n",
    "    for l in range(k+1):\n",
    "        r = k-l\n",
    "        isum = sum(cardPoints[:l]) + sum(cardPoints[n-r:])\n",
    "        if isum > output:\n",
    "            output = isum\n",
    "    return output"
   ]
  },
  {
   "cell_type": "code",
   "execution_count": 33,
   "metadata": {},
   "outputs": [],
   "source": [
    "def maxScore(cardPoints, k):\n",
    "    n = len(cardPoints)\n",
    "    if n == k:\n",
    "        return sum(cardPoints)\n",
    "    lsum = 0\n",
    "    rsum = sum(cardPoints[n-k:])\n",
    "    output = rsum + lsum\n",
    "    for l in range(k):\n",
    "        lsum += cardPoints[l]\n",
    "        rsum -= cardPoints[n-k+l]\n",
    "        output = max(output, (lsum+rsum))\n",
    "    return output"
   ]
  },
  {
   "cell_type": "code",
   "execution_count": 34,
   "metadata": {},
   "outputs": [
    {
     "data": {
      "text/plain": [
       "12"
      ]
     },
     "execution_count": 34,
     "metadata": {},
     "output_type": "execute_result"
    }
   ],
   "source": [
    "cardPoints = [1,2,3,4,5,6,1] \n",
    "k = 3\n",
    "\n",
    "maxScore(cardPoints,k)"
   ]
  },
  {
   "cell_type": "code",
   "execution_count": 35,
   "metadata": {},
   "outputs": [
    {
     "data": {
      "text/plain": [
       "55"
      ]
     },
     "execution_count": 35,
     "metadata": {},
     "output_type": "execute_result"
    }
   ],
   "source": [
    "cardPoints = [9,7,7,9,7,7,9]\n",
    "k = 7\n",
    "\n",
    "maxScore(cardPoints,k)"
   ]
  },
  {
   "cell_type": "code",
   "execution_count": 36,
   "metadata": {},
   "outputs": [
    {
     "data": {
      "text/plain": [
       "536"
      ]
     },
     "execution_count": 36,
     "metadata": {},
     "output_type": "execute_result"
    }
   ],
   "source": [
    "\"big error here\"\n",
    "\n",
    "cardPoints = [96,90,41,82,39,74,64,50,30]\n",
    "k = 8\n",
    "\n",
    "maxScore(cardPoints,k)"
   ]
  },
  {
   "cell_type": "code",
   "execution_count": null,
   "metadata": {},
   "outputs": [],
   "source": []
  }
 ],
 "metadata": {
  "kernelspec": {
   "display_name": "Python 3",
   "language": "python",
   "name": "python3"
  },
  "language_info": {
   "codemirror_mode": {
    "name": "ipython",
    "version": 3
   },
   "file_extension": ".py",
   "mimetype": "text/x-python",
   "name": "python",
   "nbconvert_exporter": "python",
   "pygments_lexer": "ipython3",
   "version": "3.7.7"
  }
 },
 "nbformat": 4,
 "nbformat_minor": 4
}
