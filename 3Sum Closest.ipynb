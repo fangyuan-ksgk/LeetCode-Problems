{
 "cells": [
  {
   "cell_type": "code",
   "execution_count": 110,
   "metadata": {},
   "outputs": [],
   "source": [
    "def threeSumClosest(nums, target):\n",
    "    \n",
    "    def Fixsum(i,target):\n",
    "        dist_list1 = []\n",
    "        l = i+1\n",
    "        r = len(nums)-1\n",
    "        while l<r:\n",
    "            #print('l',l,'r',r)\n",
    "            dist = target - (nums[i] + nums[l]+ nums[r])\n",
    "            if dist>0:\n",
    "                l+=1\n",
    "                dist_list1 += [dist]\n",
    "            if dist<0:\n",
    "                r-=1\n",
    "                dist_list1 += [dist]\n",
    "            if dist==0:\n",
    "                dist_list1 += [dist]\n",
    "                break    \n",
    "        return min(dist_list1,key=abs)\n",
    "    \n",
    "    nums.sort()\n",
    "    dist_list = []\n",
    "    i=0\n",
    "    while i < (len(nums)-2):\n",
    "        if i>=1 and nums[i]==nums[i-1]:\n",
    "            i += 1\n",
    "            continue\n",
    "        distance = Fixsum(i, target)\n",
    "        dist_list += [distance]\n",
    "        i += 1\n",
    "    closest_dist = min(dist_list,key=abs)\n",
    "    return target - closest_dist"
   ]
  },
  {
   "cell_type": "code",
   "execution_count": 114,
   "metadata": {},
   "outputs": [
    {
     "data": {
      "text/plain": [
       "-1"
      ]
     },
     "execution_count": 114,
     "metadata": {},
     "output_type": "execute_result"
    }
   ],
   "source": [
    "threeSumClosest(nums,target=-1)"
   ]
  },
  {
   "cell_type": "code",
   "execution_count": 115,
   "metadata": {},
   "outputs": [
    {
     "data": {
      "text/plain": [
       "[-3, -2, -2, -1, -1, -1, 0, 0, 1, 1, 2]"
      ]
     },
     "execution_count": 115,
     "metadata": {},
     "output_type": "execute_result"
    }
   ],
   "source": [
    "nums"
   ]
  },
  {
   "cell_type": "code",
   "execution_count": 90,
   "metadata": {},
   "outputs": [],
   "source": [
    "def Fixsum(i,target):\n",
    "    dist_list1 = []\n",
    "    l = i+1\n",
    "    r = len(nums)-1\n",
    "    while l<r:\n",
    "        #print('l',l,'r',r)\n",
    "        dist = target - (nums[i] + nums[l]+ nums[r])\n",
    "        if dist>0:\n",
    "            l+=1\n",
    "            dist_list1 += [dist]\n",
    "        if dist<0:\n",
    "            r-=1\n",
    "            dist_list1 += [dist]\n",
    "        if dist==0:\n",
    "            dist_list1 += [dist]\n",
    "            break    \n",
    "    return min(dist_list1,key=abs)"
   ]
  },
  {
   "cell_type": "code",
   "execution_count": 104,
   "metadata": {},
   "outputs": [
    {
     "name": "stdout",
     "output_type": "stream",
     "text": [
      "i 0\n",
      "dist 100\n",
      "list [100]\n",
      "i 1\n",
      "dist 99\n",
      "list [100, 99]\n",
      "i 2\n",
      "i 3\n",
      "dist 98\n",
      "list [100, 99, 98]\n",
      "i 4\n",
      "i 5\n",
      "i 6\n",
      "dist 97\n",
      "list [100, 99, 98, 97]\n",
      "i 7\n",
      "i 8\n",
      "dist 96\n",
      "list [100, 99, 98, 97, 96]\n"
     ]
    },
    {
     "data": {
      "text/plain": [
       "[100, 99, 98, 97, 96]"
      ]
     },
     "execution_count": 104,
     "metadata": {},
     "output_type": "execute_result"
    }
   ],
   "source": [
    "i=0\n",
    "dist_list = []\n",
    "while i < (len(nums)-2):\n",
    "    print('i',i)\n",
    "    if i>=1 and nums[i]==nums[i-1]:\n",
    "        i += 1\n",
    "        continue\n",
    "    distance = Fixsum(i, target)\n",
    "    print('dist',distance)\n",
    "    dist_list += [distance]\n",
    "    print('list',dist_list)\n",
    "    i += 1\n",
    "closest_dist = min(dist_list,key=abs)\n",
    "dist_list"
   ]
  },
  {
   "cell_type": "code",
   "execution_count": 105,
   "metadata": {},
   "outputs": [
    {
     "data": {
      "text/plain": [
       "[100, 99, 98, 97, 96]"
      ]
     },
     "execution_count": 105,
     "metadata": {},
     "output_type": "execute_result"
    }
   ],
   "source": [
    "dist_list"
   ]
  },
  {
   "cell_type": "code",
   "execution_count": 64,
   "metadata": {},
   "outputs": [
    {
     "data": {
      "text/plain": [
       "[-3, -2, -2, -1, -1, -1, 0, 0, 1, 1, 2]"
      ]
     },
     "execution_count": 64,
     "metadata": {},
     "output_type": "execute_result"
    }
   ],
   "source": [
    "nums"
   ]
  },
  {
   "cell_type": "code",
   "execution_count": 67,
   "metadata": {},
   "outputs": [],
   "source": [
    "target = 100"
   ]
  },
  {
   "cell_type": "code",
   "execution_count": 68,
   "metadata": {},
   "outputs": [
    {
     "data": {
      "text/plain": [
       "196"
      ]
     },
     "execution_count": 68,
     "metadata": {},
     "output_type": "execute_result"
    }
   ],
   "source": [
    "threeSumClosest(nums, target)"
   ]
  },
  {
   "cell_type": "code",
   "execution_count": 48,
   "metadata": {},
   "outputs": [
    {
     "data": {
      "text/plain": [
       "3"
      ]
     },
     "execution_count": 48,
     "metadata": {},
     "output_type": "execute_result"
    }
   ],
   "source": [
    "min([3, 7, -10], key=abs)"
   ]
  },
  {
   "cell_type": "code",
   "execution_count": 45,
   "metadata": {},
   "outputs": [
    {
     "data": {
      "text/plain": [
       "[-1, -2, 0, 1]"
      ]
     },
     "execution_count": 45,
     "metadata": {},
     "output_type": "execute_result"
    }
   ],
   "source": [
    "di"
   ]
  },
  {
   "cell_type": "code",
   "execution_count": 46,
   "metadata": {},
   "outputs": [
    {
     "ename": "TypeError",
     "evalue": "bad operand type for abs(): 'list'",
     "output_type": "error",
     "traceback": [
      "\u001b[0;31m---------------------------------------------------------------------------\u001b[0m",
      "\u001b[0;31mTypeError\u001b[0m                                 Traceback (most recent call last)",
      "\u001b[0;32m<ipython-input-46-cbdf499dd9c8>\u001b[0m in \u001b[0;36m<module>\u001b[0;34m\u001b[0m\n\u001b[0;32m----> 1\u001b[0;31m \u001b[0mabs\u001b[0m\u001b[0;34m(\u001b[0m\u001b[0mdi\u001b[0m\u001b[0;34m)\u001b[0m\u001b[0;34m\u001b[0m\u001b[0;34m\u001b[0m\u001b[0m\n\u001b[0m",
      "\u001b[0;31mTypeError\u001b[0m: bad operand type for abs(): 'list'"
     ]
    }
   ],
   "source": [
    "abs(di)"
   ]
  },
  {
   "cell_type": "code",
   "execution_count": 43,
   "metadata": {},
   "outputs": [
    {
     "data": {
      "text/plain": [
       "5"
      ]
     },
     "execution_count": 43,
     "metadata": {},
     "output_type": "execute_result"
    }
   ],
   "source": [
    "dist_list.index(min(dist_list))"
   ]
  },
  {
   "cell_type": "code",
   "execution_count": 40,
   "metadata": {},
   "outputs": [
    {
     "data": {
      "text/plain": [
       "0.35"
      ]
     },
     "execution_count": 40,
     "metadata": {},
     "output_type": "execute_result"
    }
   ],
   "source": [
    "min(dist_list)"
   ]
  },
  {
   "cell_type": "code",
   "execution_count": null,
   "metadata": {},
   "outputs": [],
   "source": [
    "def FixthreeSumclose(i,target):\n",
    "    \n",
    "    dist_list = []\n",
    "    l = i+1\n",
    "    r = len(nums)-1\n",
    "    while l<r:\n",
    "        dist = target - (nums[i] + nums[l]+ nums[r])\n",
    "        if dist>0:\n",
    "            l+=1\n",
    "            dist_list += [dist]\n",
    "        if dist<0:\n",
    "            r-=1\n",
    "            dist_list += [dist]\n",
    "        if dist==0:\n",
    "            dist_list += [dist]\n",
    "            break    \n",
    "    \n",
    "    return min(dist_list)"
   ]
  },
  {
   "cell_type": "code",
   "execution_count": 8,
   "metadata": {},
   "outputs": [],
   "source": [
    "nums = [-2,-2,-1,-1,-1,0,0,1,1,2,-3]\n",
    "\n",
    "target = 0"
   ]
  },
  {
   "cell_type": "code",
   "execution_count": 9,
   "metadata": {},
   "outputs": [
    {
     "data": {
      "text/plain": [
       "[-3, -2, -2, -1, -1, -1, 0, 0, 1, 1, 2]"
      ]
     },
     "execution_count": 9,
     "metadata": {},
     "output_type": "execute_result"
    }
   ],
   "source": [
    "nums.sort()\n",
    "nums"
   ]
  },
  {
   "cell_type": "code",
   "execution_count": 31,
   "metadata": {},
   "outputs": [
    {
     "data": {
      "text/plain": [
       "[-3, -2, -2, -1, -1, -1, 0, 0, 1, 1, 2]"
      ]
     },
     "execution_count": 31,
     "metadata": {},
     "output_type": "execute_result"
    }
   ],
   "source": [
    "nums"
   ]
  },
  {
   "cell_type": "code",
   "execution_count": 39,
   "metadata": {},
   "outputs": [
    {
     "data": {
      "text/plain": [
       "[2.35, 2.35, 1.35, 1.35, 1.35, 0.35, 0.35, 0.65, 0.35]"
      ]
     },
     "execution_count": 39,
     "metadata": {},
     "output_type": "execute_result"
    }
   ],
   "source": [
    "dist_list"
   ]
  },
  {
   "cell_type": "code",
   "execution_count": 26,
   "metadata": {},
   "outputs": [
    {
     "data": {
      "text/plain": [
       "0"
      ]
     },
     "execution_count": 26,
     "metadata": {},
     "output_type": "execute_result"
    }
   ],
   "source": [
    "min(dist_list)"
   ]
  },
  {
   "cell_type": "code",
   "execution_count": 38,
   "metadata": {},
   "outputs": [],
   "source": [
    "i=0\n",
    "target=-0.65\n",
    "dist_list = []\n",
    "\n",
    "\n",
    "l = i+1\n",
    "r = len(nums)-1\n",
    "while l<r:\n",
    "    dist = target - (nums[i] + nums[l]+ nums[r])\n",
    "    if dist>0:\n",
    "        l+=1\n",
    "        dist_list += [abs(dist)]\n",
    "    if dist<0:\n",
    "        r-=1\n",
    "        dist_list += [abs(dist)]\n",
    "    if dist==0:\n",
    "        dist_list += [abs(dist)]\n",
    "        break"
   ]
  },
  {
   "cell_type": "code",
   "execution_count": 20,
   "metadata": {},
   "outputs": [],
   "source": [
    "new_target = 1"
   ]
  },
  {
   "cell_type": "code",
   "execution_count": 18,
   "metadata": {},
   "outputs": [
    {
     "data": {
      "text/plain": [
       "True"
      ]
     },
     "execution_count": 18,
     "metadata": {},
     "output_type": "execute_result"
    }
   ],
   "source": [
    "l=0\n",
    "r=-1\n",
    "(-2 + 2) > -4\n",
    "r-1\n",
    "\n",
    "\n"
   ]
  },
  {
   "cell_type": "code",
   "execution_count": null,
   "metadata": {},
   "outputs": [],
   "source": []
  }
 ],
 "metadata": {
  "kernelspec": {
   "display_name": "Python 3",
   "language": "python",
   "name": "python3"
  },
  "language_info": {
   "codemirror_mode": {
    "name": "ipython",
    "version": 3
   },
   "file_extension": ".py",
   "mimetype": "text/x-python",
   "name": "python",
   "nbconvert_exporter": "python",
   "pygments_lexer": "ipython3",
   "version": "3.7.7"
  }
 },
 "nbformat": 4,
 "nbformat_minor": 4
}
