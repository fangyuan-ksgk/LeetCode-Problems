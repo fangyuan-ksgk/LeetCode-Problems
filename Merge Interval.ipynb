{
 "cells": [
  {
   "cell_type": "code",
   "execution_count": 7,
   "metadata": {},
   "outputs": [],
   "source": [
    "intervals = [[1,3],[2,6],[8,10],[15,18]]"
   ]
  },
  {
   "cell_type": "code",
   "execution_count": 5,
   "metadata": {},
   "outputs": [],
   "source": [
    "intervals = [[1,4],[4,5]]"
   ]
  },
  {
   "cell_type": "code",
   "execution_count": 2,
   "metadata": {},
   "outputs": [],
   "source": [
    "intervals = [[1,4],[2,3]]"
   ]
  },
  {
   "cell_type": "code",
   "execution_count": 9,
   "metadata": {},
   "outputs": [
    {
     "data": {
      "text/plain": [
       "[[1, 6], [8, 10], [15, 18]]"
      ]
     },
     "execution_count": 9,
     "metadata": {},
     "output_type": "execute_result"
    }
   ],
   "source": [
    "\"merge interval\"\n",
    "intervals.sort()\n",
    "n = len(intervals)\n",
    "s = 0\n",
    "output = []\n",
    "for e in range(1,n):\n",
    "    if intervals[s][1]>=intervals[e][0]:\n",
    "        intervals[s][1] = max(intervals[s][1], intervals[e][1])\n",
    "    else:\n",
    "        output.append(intervals[s])\n",
    "        s=e\n",
    "output.append(intervals[s])\n",
    "output"
   ]
  },
  {
   "cell_type": "code",
   "execution_count": null,
   "metadata": {},
   "outputs": [],
   "source": []
  },
  {
   "cell_type": "code",
   "execution_count": null,
   "metadata": {},
   "outputs": [],
   "source": []
  },
  {
   "cell_type": "code",
   "execution_count": 52,
   "metadata": {},
   "outputs": [
    {
     "data": {
      "text/plain": [
       "[[1, 4]]"
      ]
     },
     "execution_count": 52,
     "metadata": {},
     "output_type": "execute_result"
    }
   ],
   "source": [
    "intervals.sort()\n",
    "n=len(intervals)\n",
    "s = 0\n",
    "output = []\n",
    "\n",
    "for e in range(1,n):\n",
    "    if intervals[e][0]<=intervals[s][1]:\n",
    "        intervals[s][1] = max(intervals[e][1], intervals[s][1])\n",
    "    else:\n",
    "        output.append(intervals[s])\n",
    "        s=e\n",
    "output.append(intervals[s])\n",
    "output"
   ]
  },
  {
   "cell_type": "code",
   "execution_count": 53,
   "metadata": {},
   "outputs": [],
   "source": [
    "def merge(intervals):  \n",
    "    intervals.sort()\n",
    "    n=len(intervals)\n",
    "    s = 0\n",
    "    output = []\n",
    "\n",
    "    for e in range(1,n):\n",
    "        if intervals[e][0]<=intervals[s][1]:\n",
    "            intervals[s][1] = max(intervals[e][1], intervals[s][1])\n",
    "        else:\n",
    "            output.append(intervals[s])\n",
    "            s=e\n",
    "    output.append(intervals[s])\n",
    "    return output"
   ]
  },
  {
   "cell_type": "code",
   "execution_count": 14,
   "metadata": {},
   "outputs": [
    {
     "data": {
      "text/plain": [
       "[[1, 6], [8, 10], [15, 18]]"
      ]
     },
     "execution_count": 14,
     "metadata": {},
     "output_type": "execute_result"
    }
   ],
   "source": [
    "output"
   ]
  },
  {
   "cell_type": "code",
   "execution_count": null,
   "metadata": {},
   "outputs": [],
   "source": []
  }
 ],
 "metadata": {
  "kernelspec": {
   "display_name": "Python 3",
   "language": "python",
   "name": "python3"
  },
  "language_info": {
   "codemirror_mode": {
    "name": "ipython",
    "version": 3
   },
   "file_extension": ".py",
   "mimetype": "text/x-python",
   "name": "python",
   "nbconvert_exporter": "python",
   "pygments_lexer": "ipython3",
   "version": "3.7.7"
  }
 },
 "nbformat": 4,
 "nbformat_minor": 4
}
