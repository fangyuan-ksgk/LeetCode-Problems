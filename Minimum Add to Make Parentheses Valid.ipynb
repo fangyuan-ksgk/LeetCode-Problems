{
 "cells": [
  {
   "cell_type": "code",
   "execution_count": 1,
   "id": "8418919e-da2a-40c6-a4c9-383a1cb8a35e",
   "metadata": {},
   "outputs": [],
   "source": [
    "s = \"())\""
   ]
  },
  {
   "cell_type": "code",
   "execution_count": 5,
   "id": "9a493108-b233-4422-9e35-cebfd64468e4",
   "metadata": {},
   "outputs": [],
   "source": [
    "s = \"(((\""
   ]
  },
  {
   "cell_type": "code",
   "execution_count": 8,
   "id": "c6492ece-a024-4469-b91e-c16d5a5545c6",
   "metadata": {},
   "outputs": [],
   "source": [
    "s = \"()))((\""
   ]
  },
  {
   "cell_type": "code",
   "execution_count": 9,
   "id": "6e79f7c3-3975-49b0-8b9b-a1f5901b7fc1",
   "metadata": {},
   "outputs": [],
   "source": [
    "stack = []\n",
    "invalid = 0\n",
    "for i,c in enumerate(s):\n",
    "    if c==\"(\":\n",
    "        stack.append(i)\n",
    "        invalid+=1\n",
    "    else:\n",
    "        if stack:\n",
    "            stack.pop()\n",
    "            invalid-=1\n",
    "        else:\n",
    "            invalid+=1"
   ]
  },
  {
   "cell_type": "code",
   "execution_count": 10,
   "id": "7c9cb0e7-8b56-4813-a808-c57c70fe9119",
   "metadata": {},
   "outputs": [
    {
     "data": {
      "text/plain": [
       "4"
      ]
     },
     "execution_count": 10,
     "metadata": {},
     "output_type": "execute_result"
    }
   ],
   "source": [
    "invalid"
   ]
  }
 ],
 "metadata": {
  "kernelspec": {
   "display_name": "Python 3 (ipykernel)",
   "language": "python",
   "name": "python3"
  },
  "language_info": {
   "codemirror_mode": {
    "name": "ipython",
    "version": 3
   },
   "file_extension": ".py",
   "mimetype": "text/x-python",
   "name": "python",
   "nbconvert_exporter": "python",
   "pygments_lexer": "ipython3",
   "version": "3.7.7"
  }
 },
 "nbformat": 4,
 "nbformat_minor": 5
}
