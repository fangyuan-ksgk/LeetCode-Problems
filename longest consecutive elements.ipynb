{
 "cells": [
  {
   "cell_type": "code",
   "execution_count": 59,
   "metadata": {},
   "outputs": [],
   "source": [
    "nums = [0,3,7,2,5,8,4,6,0,1]"
   ]
  },
  {
   "cell_type": "code",
   "execution_count": 57,
   "metadata": {},
   "outputs": [],
   "source": [
    "nums = [100,4,200,1,3,2]"
   ]
  },
  {
   "cell_type": "code",
   "execution_count": 55,
   "metadata": {},
   "outputs": [],
   "source": [
    "nums = [1,2,0,1]"
   ]
  },
  {
   "cell_type": "code",
   "execution_count": 60,
   "metadata": {},
   "outputs": [
    {
     "data": {
      "text/plain": [
       "9"
      ]
     },
     "execution_count": 60,
     "metadata": {},
     "output_type": "execute_result"
    }
   ],
   "source": [
    "longestConsecutive(nums)"
   ]
  },
  {
   "cell_type": "code",
   "execution_count": 54,
   "metadata": {},
   "outputs": [],
   "source": [
    "\"ok set is for whether in, list for loop, no sorting here\"\n",
    "def longestConsecutive(nums):\n",
    "    hashset = set(nums)\n",
    "    max_len = 0\n",
    "    for number in list(hashset):\n",
    "        if number-1 not in hashset:\n",
    "            tmp = 1\n",
    "            val = number+1\n",
    "            while val in hashset:\n",
    "                tmp+=1\n",
    "                val+=1\n",
    "            max_len = max(max_len, tmp)\n",
    "    return max_len"
   ]
  },
  {
   "cell_type": "code",
   "execution_count": null,
   "metadata": {},
   "outputs": [],
   "source": []
  },
  {
   "cell_type": "code",
   "execution_count": null,
   "metadata": {},
   "outputs": [],
   "source": [
    "def longestConsecutive(nums):\n",
    "    \"\"\"\n",
    "        main idea is to start from lowest number\n",
    "        O(2n)\n",
    "    \"\"\"\n",
    "    #we first preprocess such that no duplicate elements are present\n",
    "    HashSet = set(nums)\n",
    "    max_streak = 0\n",
    "    for number in list(HashSet):\n",
    "        if number-1 not in HashSet:\n",
    "            #this is the lowest number possible for starting a new Streak\n",
    "            cnt = 0\n",
    "            tmp = number\n",
    "            while tmp in HashSet:\n",
    "                cnt+=1\n",
    "                tmp+=1\n",
    "            max_streak = max(max_streak, cnt)\n",
    "    return max_streak"
   ]
  },
  {
   "cell_type": "code",
   "execution_count": 45,
   "metadata": {},
   "outputs": [],
   "source": [
    "\"My version: really not clean man: list to set to list, really?....\"\n",
    "def longestConsecutive(nums):\n",
    "    nums = list(set(nums))\n",
    "    nums.sort()\n",
    "    l=0\n",
    "    n = len(nums)\n",
    "    if n==0:\n",
    "        return 0\n",
    "    maxlen = 1\n",
    "    currlen =0\n",
    "    for r in range(1,n):\n",
    "        if nums[r] == (nums[l]+r-l): \n",
    "            currlen=r-l+1\n",
    "        else: \n",
    "            l=r\n",
    "            maxlen = max(currlen, maxlen)\n",
    "    return max(currlen, maxlen)"
   ]
  },
  {
   "cell_type": "code",
   "execution_count": null,
   "metadata": {},
   "outputs": [],
   "source": []
  }
 ],
 "metadata": {
  "kernelspec": {
   "display_name": "Python 3",
   "language": "python",
   "name": "python3"
  },
  "language_info": {
   "codemirror_mode": {
    "name": "ipython",
    "version": 3
   },
   "file_extension": ".py",
   "mimetype": "text/x-python",
   "name": "python",
   "nbconvert_exporter": "python",
   "pygments_lexer": "ipython3",
   "version": "3.7.7"
  }
 },
 "nbformat": 4,
 "nbformat_minor": 4
}
