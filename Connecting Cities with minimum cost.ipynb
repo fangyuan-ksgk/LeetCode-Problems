{
 "cells": [
  {
   "cell_type": "code",
   "execution_count": 51,
   "id": "034f87be-bc0f-4abb-b9db-ebb4b05f6fcd",
   "metadata": {},
   "outputs": [],
   "source": [
    "n = 3\n",
    "connections = [[1,2,5],[1,3,6],[2,3,1]]"
   ]
  },
  {
   "cell_type": "code",
   "execution_count": 52,
   "id": "5d2002d1-8fe0-4341-b97f-148b55fa1fb0",
   "metadata": {},
   "outputs": [
    {
     "data": {
      "text/plain": [
       "6"
      ]
     },
     "execution_count": 52,
     "metadata": {},
     "output_type": "execute_result"
    }
   ],
   "source": [
    "minimumCost(n, connections)"
   ]
  },
  {
   "cell_type": "code",
   "execution_count": 50,
   "id": "ec2c4065-4953-47df-8e7f-fc071f4c1c62",
   "metadata": {},
   "outputs": [],
   "source": [
    "def minimumCost(n, connections):\n",
    "    # minimum spanning tree with Prim's algorithm\n",
    "    # graph of maps\n",
    "    graph = {}\n",
    "    for c in connections:\n",
    "        if c[0] not in graph:\n",
    "            graph[c[0]] = [(c[2],c[1])]\n",
    "        else:\n",
    "            graph[c[0]].append((c[2],c[1]))\n",
    "        if c[1] not in graph:\n",
    "            graph[c[1]] = [(c[2],c[0])]\n",
    "        else:\n",
    "            graph[c[1]].append((c[2],c[0]))\n",
    "            \n",
    "    # prim algorithm, pop smallest outside-connect from the connected points\n",
    "    # outside connect means no cycle of already connected graph\n",
    "    v = set()\n",
    "    pq = [(0,connections[0][0])]\n",
    "    path = []\n",
    "    while pq:\n",
    "        cost, pos = heapq.heappop(pq)\n",
    "        if pos in v:\n",
    "            continue\n",
    "        v.add(pos)\n",
    "        path.append((cost, pos))\n",
    "        for c in graph[pos]:\n",
    "            heapq.heappush(pq,c)\n",
    "            \n",
    "    # count the minimal cost\n",
    "    if len(path)==n:\n",
    "        out = sum([p[0] for p in path])\n",
    "    else:\n",
    "        out = -1\n",
    "    \n",
    "    return out"
   ]
  },
  {
   "cell_type": "code",
   "execution_count": 7,
   "id": "daecb6f8-2e30-489f-b730-d3c80c773ef9",
   "metadata": {},
   "outputs": [],
   "source": [
    "# minimum spanning tree with Prim's algorithm\n",
    "# graph of maps\n",
    "graph = {}\n",
    "for c in connections:\n",
    "    if c[0] not in graph:\n",
    "        graph[c[0]] = [(c[2],c[1])]\n",
    "    else:\n",
    "        graph[c[0]].append((c[2],c[1]))\n",
    "    if c[1] not in graph:\n",
    "        graph[c[1]] = [(c[2],c[0])]\n",
    "    else:\n",
    "        graph[c[1]].append((c[2],c[0]))"
   ]
  },
  {
   "cell_type": "code",
   "execution_count": 38,
   "id": "83c52392-54a6-4c99-86a8-ed2075db4d5e",
   "metadata": {
    "tags": []
   },
   "outputs": [],
   "source": [
    "import heapq\n",
    "# prim algorithm, pop smallest outside-connect from the connected points\n",
    "# outside connect means no cycle of already connected graph\n",
    "v = set()\n",
    "pq = [(0,connections[0][0])]\n",
    "path = []\n",
    "while pq:\n",
    "    cost, pos = heapq.heappop(pq)\n",
    "    if pos in v:\n",
    "        continue\n",
    "    v.add(pos)\n",
    "    path.append((cost, pos))\n",
    "    for c in graph[pos]:\n",
    "        heapq.heappush(pq,c)"
   ]
  },
  {
   "cell_type": "code",
   "execution_count": 49,
   "id": "cd87fb2c-1ebd-48c1-bc83-0d0f9f86fcd5",
   "metadata": {},
   "outputs": [],
   "source": [
    "# count the minimal cost\n",
    "if len(path)==n:\n",
    "    out = sum([p[0] for p in path])\n",
    "else:\n",
    "    out = -1"
   ]
  },
  {
   "cell_type": "code",
   "execution_count": null,
   "id": "64f71ba0-724c-43fa-812e-b32359d92334",
   "metadata": {},
   "outputs": [],
   "source": []
  }
 ],
 "metadata": {
  "kernelspec": {
   "display_name": "Python 3 (ipykernel)",
   "language": "python",
   "name": "python3"
  },
  "language_info": {
   "codemirror_mode": {
    "name": "ipython",
    "version": 3
   },
   "file_extension": ".py",
   "mimetype": "text/x-python",
   "name": "python",
   "nbconvert_exporter": "python",
   "pygments_lexer": "ipython3",
   "version": "3.7.7"
  }
 },
 "nbformat": 4,
 "nbformat_minor": 5
}
