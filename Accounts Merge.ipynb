{
 "cells": [
  {
   "cell_type": "code",
   "execution_count": 1,
   "metadata": {},
   "outputs": [],
   "source": [
    "accounts = [[\"John\",\"johnsmith@mail.com\",\"john_newyork@mail.com\"],[\"John\",\"johnsmith@mail.com\",\"john00@mail.com\"],[\"Mary\",\"mary@mail.com\"],[\"John\",\"johnnybravo@mail.com\"]]"
   ]
  },
  {
   "cell_type": "code",
   "execution_count": 4,
   "metadata": {},
   "outputs": [
    {
     "data": {
      "text/plain": [
       "{'johnsmith@mail.com': 'John',\n",
       " 'john_newyork@mail.com': 'John',\n",
       " 'john00@mail.com': 'John',\n",
       " 'mary@mail.com': 'Mary',\n",
       " 'johnnybravo@mail.com': 'John'}"
      ]
     },
     "execution_count": 4,
     "metadata": {},
     "output_type": "execute_result"
    }
   ],
   "source": [
    "em_to_name"
   ]
  },
  {
   "cell_type": "code",
   "execution_count": 5,
   "metadata": {},
   "outputs": [
    {
     "data": {
      "text/plain": [
       "defaultdict(set,\n",
       "            {'johnsmith@mail.com': {'john00@mail.com',\n",
       "              'john_newyork@mail.com',\n",
       "              'johnsmith@mail.com'},\n",
       "             'john_newyork@mail.com': {'johnsmith@mail.com'},\n",
       "             'john00@mail.com': {'johnsmith@mail.com'},\n",
       "             'mary@mail.com': {'mary@mail.com'},\n",
       "             'johnnybravo@mail.com': {'johnnybravo@mail.com'}})"
      ]
     },
     "execution_count": 5,
     "metadata": {},
     "output_type": "execute_result"
    }
   ],
   "source": [
    "em_graph"
   ]
  },
  {
   "cell_type": "code",
   "execution_count": 8,
   "metadata": {},
   "outputs": [
    {
     "data": {
      "text/plain": [
       "[['John', 'john00@mail.com', 'john_newyork@mail.com', 'johnsmith@mail.com'],\n",
       " ['Mary', 'mary@mail.com'],\n",
       " ['John', 'johnnybravo@mail.com']]"
      ]
     },
     "execution_count": 8,
     "metadata": {},
     "output_type": "execute_result"
    }
   ],
   "source": [
    "from collections import defaultdict\n",
    "\"A Clever way of using DFS for these union find problem!\"\n",
    "def accountsMerge(accounts):  \n",
    "    em_to_name = {}\n",
    "    em_graph = defaultdict(set)\n",
    "\n",
    "    for acc in accounts:\n",
    "        name = acc[0]\n",
    "        for email in acc[1:]:\n",
    "            em_graph[email].add(acc[1])\n",
    "            em_graph[acc[1]].add(email)\n",
    "            em_to_name[email]=name\n",
    "\n",
    "    seen = set()\n",
    "    ans = []\n",
    "    def dfs(s,ans):\n",
    "        seen.add(s)\n",
    "        ans.append(s)\n",
    "        for ne in em_graph[s]:\n",
    "            if ne not in seen:\n",
    "                dfs(ne, ans)\n",
    "        return ans\n",
    "\n",
    "    output = []\n",
    "    for email in em_graph:\n",
    "        if email not in seen:\n",
    "            output.append([em_to_name[email]] + sorted(dfs(email, [])))\n",
    "\n",
    "    return output"
   ]
  },
  {
   "cell_type": "code",
   "execution_count": null,
   "metadata": {},
   "outputs": [],
   "source": []
  },
  {
   "cell_type": "code",
   "execution_count": null,
   "metadata": {},
   "outputs": [],
   "source": []
  },
  {
   "cell_type": "code",
   "execution_count": null,
   "metadata": {},
   "outputs": [],
   "source": []
  },
  {
   "cell_type": "code",
   "execution_count": null,
   "metadata": {},
   "outputs": [],
   "source": []
  },
  {
   "cell_type": "code",
   "execution_count": null,
   "metadata": {},
   "outputs": [],
   "source": []
  },
  {
   "cell_type": "code",
   "execution_count": null,
   "metadata": {},
   "outputs": [],
   "source": []
  },
  {
   "cell_type": "code",
   "execution_count": null,
   "metadata": {},
   "outputs": [],
   "source": []
  },
  {
   "cell_type": "code",
   "execution_count": null,
   "metadata": {},
   "outputs": [],
   "source": []
  },
  {
   "cell_type": "code",
   "execution_count": null,
   "metadata": {},
   "outputs": [],
   "source": [
    "def accountsMerge(self, accounts):        \n",
    "\n",
    "    em_to_name = {}\n",
    "    em_graph = defaultdict(set)\n",
    "\n",
    "    for acc in accounts:\n",
    "        name = acc[0]\n",
    "\n",
    "        # making a graph of common connected gmail\n",
    "        # all acc the gamil start with 1 index\n",
    "        for email in acc[1:]:\n",
    "\n",
    "            # connect 1st to 2nd email\n",
    "            em_graph[acc[1]].add(email)\n",
    "\n",
    "            #connect 2nd to 1st email\n",
    "            em_graph[email].add(acc[1])\n",
    "\n",
    "            # create a hashmap\n",
    "            # it help us to find the email owners\n",
    "            em_to_name[email] = name\n",
    "\n",
    "    # print(em_graph)\n",
    "    # print(em_to_name)\n",
    "\n",
    "    seen = set()\n",
    "    ans = []\n",
    "\n",
    "    # dfs function\n",
    "    def dfs(s,comp):\n",
    "        if s in seen:\n",
    "            return\n",
    "        seen.add(s)\n",
    "        comp.append(s)\n",
    "        for nei in em_graph[s]:\n",
    "            if nei not in seen:\n",
    "                dfs(nei,comp)    \n",
    "        return comp  \n",
    "\n",
    "    # here we use loop to traverse all unconnected\n",
    "    # components of the graph\n",
    "    for email in em_graph:\n",
    "        if email not in seen:\n",
    "            component = []\n",
    "            dfs(email, component)\n",
    "            ans.append([em_to_name[email]] + sorted(component))\n",
    "\n",
    "    return ans"
   ]
  },
  {
   "cell_type": "code",
   "execution_count": null,
   "metadata": {},
   "outputs": [],
   "source": []
  },
  {
   "cell_type": "code",
   "execution_count": null,
   "metadata": {},
   "outputs": [],
   "source": []
  }
 ],
 "metadata": {
  "kernelspec": {
   "display_name": "Python 3",
   "language": "python",
   "name": "python3"
  },
  "language_info": {
   "codemirror_mode": {
    "name": "ipython",
    "version": 3
   },
   "file_extension": ".py",
   "mimetype": "text/x-python",
   "name": "python",
   "nbconvert_exporter": "python",
   "pygments_lexer": "ipython3",
   "version": "3.7.7"
  }
 },
 "nbformat": 4,
 "nbformat_minor": 4
}
