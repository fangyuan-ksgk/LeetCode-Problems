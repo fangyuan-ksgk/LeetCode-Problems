{
 "cells": [
  {
   "cell_type": "markdown",
   "metadata": {},
   "source": [
    "Given an integer array nums, return all the triplets [nums[i], nums[j], nums[k]] such that i != j, i != k, and j != k, and nums[i] + nums[j] + nums[k] == 0."
   ]
  },
  {
   "cell_type": "code",
   "execution_count": 62,
   "metadata": {},
   "outputs": [],
   "source": [
    "\"My backtrack version: exceeds time limit but works\"\n",
    "\n",
    "def threeSum(nums):\n",
    "    nums.sort()\n",
    "    scope = nums\n",
    "    n = len(nums)\n",
    "\n",
    "    def backtrack(s,path,scope):\n",
    "        for j in range(len(scope)):\n",
    "            if len(path)>2:\n",
    "                break\n",
    "            if j>0 and scope[j] == scope[j-1]:\n",
    "                continue\n",
    "            total = s + scope[j]\n",
    "            if total == 0 and len(path) == 2:\n",
    "                new_path = path + [scope[j]]\n",
    "                ans.append(new_path)\n",
    "            if len(path)<2:\n",
    "                new_path = path + [scope[j]]\n",
    "                backtrack(total, new_path, scope[j+1:])\n",
    "    ans = []\n",
    "    backtrack(0,[],nums)\n",
    "    return ans"
   ]
  },
  {
   "cell_type": "code",
   "execution_count": null,
   "metadata": {},
   "outputs": [],
   "source": [
    "\"twosum where we pretend only one correct answer exists\"\n",
    "\"so once we have a valid, return and that is it\"\n",
    "\"not complete at all\"\n",
    "def twoSum(nums, target):\n",
    "    dicts = {}\n",
    "    for i in len(nums):\n",
    "        if (target-nums[i]) in dicts:\n",
    "            return [target-nums[i], nums[i]]\n",
    "        else:\n",
    "            dicts[nums[i]] = i"
   ]
  },
  {
   "cell_type": "code",
   "execution_count": null,
   "metadata": {},
   "outputs": [],
   "source": [
    "def twoSumII(nums, target):\n",
    "    "
   ]
  },
  {
   "cell_type": "code",
   "execution_count": 65,
   "metadata": {},
   "outputs": [
    {
     "data": {
      "text/plain": [
       "5"
      ]
     },
     "execution_count": 65,
     "metadata": {},
     "output_type": "execute_result"
    }
   ],
   "source": [
    "l = [1,2,3,4,5]\n",
    "max(l)"
   ]
  },
  {
   "cell_type": "code",
   "execution_count": 69,
   "metadata": {},
   "outputs": [
    {
     "data": {
      "text/plain": [
       "[3, 5]"
      ]
     },
     "execution_count": 69,
     "metadata": {},
     "output_type": "execute_result"
    }
   ],
   "source": [
    "l = []\n",
    "l + [3] + [5]"
   ]
  },
  {
   "cell_type": "code",
   "execution_count": null,
   "metadata": {},
   "outputs": [],
   "source": [
    "def threeSum(self, nums: List[int]) -> List[List[int]]:\n",
    "        res = []\n",
    "        nums.sort()\n",
    "        for i in range(len(nums)):\n",
    "            if nums[i] > 0:\n",
    "                break\n",
    "            if i == 0 or nums[i - 1] != nums[i]:\n",
    "                self.twoSumII(nums, i, res)\n",
    "        return res\n",
    "\n",
    "    def twoSumII(self, nums: List[int], i: int, res: List[List[int]]):\n",
    "        lo, hi = i + 1, len(nums) - 1\n",
    "        while (lo < hi):\n",
    "            sum = nums[i] + nums[lo] + nums[hi]\n",
    "            if sum < 0:\n",
    "                lo += 1\n",
    "            elif sum > 0:\n",
    "                hi -= 1\n",
    "            else:\n",
    "                res.append([nums[i], nums[lo], nums[hi]])\n",
    "                lo += 1\n",
    "                hi -= 1\n",
    "                while lo < hi and nums[lo] == nums[lo - 1]:\n",
    "                    lo += 1"
   ]
  },
  {
   "cell_type": "code",
   "execution_count": 39,
   "metadata": {},
   "outputs": [],
   "source": [
    "nums = [0,0,0,0]"
   ]
  },
  {
   "cell_type": "code",
   "execution_count": 53,
   "metadata": {},
   "outputs": [],
   "source": [
    "\"\"\"\n",
    "Standard 2-pointer requires use of the 2Sum solution (dict), I wish to use backtrack here\n",
    "as an experiment\n",
    "\"\"\"\n",
    "nums.sort()\n",
    "scope = nums\n",
    "n = len(nums)\n",
    "\n",
    "def backtrack(s,path,scope):\n",
    "    for j in range(len(scope)):\n",
    "        if len(path)>2:\n",
    "            break\n",
    "        if j>0 and scope[j] == scope[j-1]:\n",
    "            continue\n",
    "        total = s + scope[j]\n",
    "        if total == 0 and len(path) == 2:\n",
    "            new_path = path + [scope[j]]\n",
    "            ans.append(new_path)\n",
    "        if len(path)<2:\n",
    "            new_path = path + [scope[j]]\n",
    "            backtrack(total, new_path, scope[j+1:])\n",
    "ans = []\n",
    "backtrack(0,[],nums)"
   ]
  },
  {
   "cell_type": "code",
   "execution_count": 54,
   "metadata": {},
   "outputs": [
    {
     "data": {
      "text/plain": [
       "[[0, 0, 0]]"
      ]
     },
     "execution_count": 54,
     "metadata": {},
     "output_type": "execute_result"
    }
   ],
   "source": [
    "ans"
   ]
  },
  {
   "cell_type": "code",
   "execution_count": 57,
   "metadata": {},
   "outputs": [],
   "source": [
    "nums = [-1,0,1,2,-1,-4]\n",
    "output = [[-1,-1,2],[-1,0,1]]"
   ]
  },
  {
   "cell_type": "code",
   "execution_count": null,
   "metadata": {},
   "outputs": [],
   "source": []
  }
 ],
 "metadata": {
  "kernelspec": {
   "display_name": "Python 3",
   "language": "python",
   "name": "python3"
  },
  "language_info": {
   "codemirror_mode": {
    "name": "ipython",
    "version": 3
   },
   "file_extension": ".py",
   "mimetype": "text/x-python",
   "name": "python",
   "nbconvert_exporter": "python",
   "pygments_lexer": "ipython3",
   "version": "3.7.7"
  }
 },
 "nbformat": 4,
 "nbformat_minor": 4
}
