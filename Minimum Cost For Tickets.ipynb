{
 "cells": [
  {
   "cell_type": "code",
   "execution_count": 73,
   "metadata": {},
   "outputs": [],
   "source": [
    "days = [1,4,6,7,8,20]\n",
    "costs = [2,7,15]"
   ]
  },
  {
   "cell_type": "code",
   "execution_count": 127,
   "metadata": {},
   "outputs": [
    {
     "data": {
      "text/plain": [
       "19"
      ]
     },
     "execution_count": 127,
     "metadata": {},
     "output_type": "execute_result"
    }
   ],
   "source": [
    "days = [1,2,3,4,5,6,7,8,9,10,20,30,55,60]\n",
    "costs = [2,7,15]\n",
    "mincostTickets(days,costs)"
   ]
  },
  {
   "cell_type": "code",
   "execution_count": 128,
   "metadata": {},
   "outputs": [
    {
     "data": {
      "text/plain": [
       "20"
      ]
     },
     "execution_count": 128,
     "metadata": {},
     "output_type": "execute_result"
    }
   ],
   "source": [
    "next(x for x in days if x>10)"
   ]
  },
  {
   "cell_type": "code",
   "execution_count": 126,
   "metadata": {},
   "outputs": [],
   "source": [
    "\"backtrack: time limit exceeded\"\n",
    "def mincostTickets(days,costs):\n",
    "    def dfs(mincost, dayleft):\n",
    "        if not dayleft:\n",
    "            return mincost\n",
    "        else:\n",
    "            out1 = dfs(mincost+costs[0], [day for day in dayleft if day>=(dayleft[0]+1)])\n",
    "            out2 = dfs(mincost+costs[1], [day for day in dayleft if day>=(dayleft[0]+7)])\n",
    "            out3 = dfs(mincost+costs[2], [day for day in dayleft if day>=(dayleft[0]+30)])\n",
    "            return min(out1,out2,out3)\n",
    "    return dfs(0,days)"
   ]
  },
  {
   "cell_type": "code",
   "execution_count": null,
   "metadata": {},
   "outputs": [],
   "source": [
    "\"best version: I am not sure I understand this one\"\n",
    "def mincostTickets(self, days: List[int], costs: List[int]) -> int:\n",
    "        n = len(days)\n",
    "        days = [0] + days # day 0 as a day for dp base case\n",
    "        durations = [1, 7, 30]\n",
    "        dp = [float('inf')] * (n+1)\n",
    "        dp[0] = 0 # Cost at day 0 is 0, i.e the journey hasn't begun yet so no cost\n",
    "        for current_day_index in range(1, n + 1):\n",
    "            for cost, duration in zip(costs, durations):\n",
    "                # Find out when you would have bought the ticket if a ticket last \"duration\" days using bisect.\n",
    "                i = bisect.bisect(days, max(days[current_day_index] - duration, 0)) - 1  \n",
    "                \n",
    "                # Add the cost of the last buy to the cost of the current ticket and check if it's smaller than the cost of other tickets.\n",
    "                dp[current_day_index] = min(dp[current_day_index], dp[i] + cost)\n",
    "        \n",
    "        return dp[-1]"
   ]
  },
  {
   "cell_type": "code",
   "execution_count": null,
   "metadata": {},
   "outputs": [],
   "source": []
  }
 ],
 "metadata": {
  "kernelspec": {
   "display_name": "Python 3",
   "language": "python",
   "name": "python3"
  },
  "language_info": {
   "codemirror_mode": {
    "name": "ipython",
    "version": 3
   },
   "file_extension": ".py",
   "mimetype": "text/x-python",
   "name": "python",
   "nbconvert_exporter": "python",
   "pygments_lexer": "ipython3",
   "version": "3.7.7"
  }
 },
 "nbformat": 4,
 "nbformat_minor": 4
}
