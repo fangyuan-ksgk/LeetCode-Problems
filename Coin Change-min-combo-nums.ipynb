{
 "cells": [
  {
   "cell_type": "code",
   "execution_count": null,
   "metadata": {},
   "outputs": [],
   "source": [
    "def coinChange(coins, amount):\n",
    "    \"Method 0, self done, 0-1 knapsack\"\n",
    "    comp = lambda x, y: y if x == 0 else min(x, y)\n",
    "    coins.sort(reverse=True)\n",
    "    limit = amount + 1\n",
    "    dp = [0 for _ in range(limit)]\n",
    "    dp[0] = 1\n",
    "    for coin in coins:\n",
    "        for col in range(coin, limit):\n",
    "            if dp[col - coin] > 0:\n",
    "                dp[col] = comp(dp[col], 1 + dp[col - coin])\n",
    "    return dp[-1] - 1"
   ]
  },
  {
   "cell_type": "code",
   "execution_count": null,
   "metadata": {},
   "outputs": [],
   "source": [
    "\"Learned version: Coin change type solutions should kept in mind\"\n",
    "def coinChange(coins, amount):\n",
    "    comp = lambda x,y: y if x==-1 else min(x,y)\n",
    "    limit = amount+1\n",
    "    dp = [-1 for _ in range(limit)]\n",
    "    dp[0] = 0\n",
    "    for coin in coins:\n",
    "        for curramount in range(coin,limit):\n",
    "            if dp[curramount-coin]!=-1:\n",
    "                dp[curramount] = comp(dp[curramount], 1+dp[curramount-coin])\n",
    "    return dp[-1]"
   ]
  },
  {
   "cell_type": "code",
   "execution_count": 120,
   "metadata": {},
   "outputs": [],
   "source": [
    "\"time limite exceeded\"\n",
    "\"minimum no.coin to sum to target\"\n",
    "def method1(coins, amount):\n",
    "    dict = {}\n",
    "    def dfs(t,combo,fnum):\n",
    "        if t==0:\n",
    "            return True\n",
    "        if t<0:\n",
    "            return False\n",
    "        for c in coins:\n",
    "            if t-c>=0: \n",
    "                combo.append(c)\n",
    "                if dfs(t-c,combo,fnum+1): \n",
    "                    dict[fnum+1] = combo\n",
    "                combo.pop()\n",
    "\n",
    "    if amount==0: return 0\n",
    "    else:    \n",
    "        dfs(amount, [], 0)\n",
    "        if dict:\n",
    "            return min(dict)\n",
    "        else:\n",
    "            return -1"
   ]
  },
  {
   "cell_type": "code",
   "execution_count": 121,
   "metadata": {},
   "outputs": [],
   "source": [
    "\"method 2 time limite exceeded\"\n",
    "def method2(coins, amount):\n",
    "    dict = {}\n",
    "    def dfs2(t,combo,fnum):\n",
    "        if t==0:\n",
    "            return len(combo)\n",
    "        if t<0:\n",
    "            return sys.maxsize\n",
    "        for c in coins:\n",
    "            combo.append(c)\n",
    "            if len(combo)<fnum-1:\n",
    "                new_len = dfs2(t-c, combo, fnum)\n",
    "                if new_len<fnum:\n",
    "                    fnum = new_len\n",
    "            combo.pop()    \n",
    "        return fnum\n",
    "\n",
    "    out = dfs2(amount, [], sys.maxsize)\n",
    "    if out == sys.maxsize:\n",
    "        return -1\n",
    "    else:\n",
    "        return out"
   ]
  },
  {
   "cell_type": "code",
   "execution_count": 118,
   "metadata": {},
   "outputs": [],
   "source": [
    "coins = [1,2,5]\n",
    "amount = 11"
   ]
  },
  {
   "cell_type": "code",
   "execution_count": 111,
   "metadata": {},
   "outputs": [],
   "source": [
    "coins = [2]\n",
    "amount = 3"
   ]
  },
  {
   "cell_type": "code",
   "execution_count": 114,
   "metadata": {},
   "outputs": [],
   "source": [
    "coins = [1]\n",
    "amount = 0"
   ]
  },
  {
   "cell_type": "code",
   "execution_count": 116,
   "metadata": {},
   "outputs": [],
   "source": [
    "coins = [1]\n",
    "amount = 2"
   ]
  },
  {
   "cell_type": "code",
   "execution_count": null,
   "metadata": {},
   "outputs": [],
   "source": []
  }
 ],
 "metadata": {
  "kernelspec": {
   "display_name": "Python 3",
   "language": "python",
   "name": "python3"
  },
  "language_info": {
   "codemirror_mode": {
    "name": "ipython",
    "version": 3
   },
   "file_extension": ".py",
   "mimetype": "text/x-python",
   "name": "python",
   "nbconvert_exporter": "python",
   "pygments_lexer": "ipython3",
   "version": "3.7.7"
  }
 },
 "nbformat": 4,
 "nbformat_minor": 4
}
