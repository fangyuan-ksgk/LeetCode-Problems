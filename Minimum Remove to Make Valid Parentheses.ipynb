{
 "cells": [
  {
   "cell_type": "code",
   "execution_count": 1,
   "metadata": {},
   "outputs": [],
   "source": [
    "s = \"(a(b(c)d)\""
   ]
  },
  {
   "cell_type": "code",
   "execution_count": 18,
   "metadata": {},
   "outputs": [],
   "source": [
    "s = \"a)((b(c)d\""
   ]
  },
  {
   "cell_type": "code",
   "execution_count": 30,
   "metadata": {},
   "outputs": [],
   "source": [
    "def minRemoveToMakeValid(s):\n",
    "    invalid = set()\n",
    "    stack = []\n",
    "    for i,c in enumerate(s):\n",
    "        if c=='(':\n",
    "            stack.append(i)\n",
    "        elif c==')':\n",
    "            if stack:\n",
    "                stack.pop()\n",
    "            else:\n",
    "                invalid.add(i)\n",
    "\n",
    "    for i in stack:\n",
    "        invalid.add(i)\n",
    "\n",
    "    ans = []\n",
    "    for i in range(len(s)):\n",
    "        if i in invalid:\n",
    "            continue\n",
    "        else:\n",
    "            ans.append(s[i])\n",
    "    return ('').join(ans)"
   ]
  },
  {
   "cell_type": "code",
   "execution_count": null,
   "metadata": {},
   "outputs": [],
   "source": []
  }
 ],
 "metadata": {
  "kernelspec": {
   "display_name": "Python 3",
   "language": "python",
   "name": "python3"
  },
  "language_info": {
   "codemirror_mode": {
    "name": "ipython",
    "version": 3
   },
   "file_extension": ".py",
   "mimetype": "text/x-python",
   "name": "python",
   "nbconvert_exporter": "python",
   "pygments_lexer": "ipython3",
   "version": "3.7.7"
  }
 },
 "nbformat": 4,
 "nbformat_minor": 4
}
