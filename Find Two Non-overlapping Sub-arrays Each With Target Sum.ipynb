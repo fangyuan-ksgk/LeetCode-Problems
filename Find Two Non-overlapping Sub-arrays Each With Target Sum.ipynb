{
 "cells": [
  {
   "cell_type": "code",
   "execution_count": 32,
   "metadata": {},
   "outputs": [],
   "source": [
    "\"my version, exceeded time limit\"\n",
    "def minSumofLength(array,t):\n",
    "    \"waste lots of step doing repetitive stuff here\"\n",
    "    def subval(num,t):\n",
    "        ans = []\n",
    "        n = len(num)\n",
    "        for i in range(n):\n",
    "            j = i\n",
    "            ss= num[i]\n",
    "            while ss < t and (j+1)<n:\n",
    "                j+=1\n",
    "                ss+=num[j]\n",
    "            if ss==t:\n",
    "                ans.append(j-i+1)\n",
    "        if ans:\n",
    "            return min(ans)\n",
    "        else:\n",
    "            return 0\n",
    "\n",
    "    \"then get prefix and afix\"\n",
    "    n = len(array)\n",
    "    l = []\n",
    "    for i in range(1,n):\n",
    "        p = subval(array[:i],t)\n",
    "        a = subval(array[i:],t)\n",
    "        if p and a:\n",
    "            l.append(p+a)\n",
    "    if l:\n",
    "        return min(l)\n",
    "    else:\n",
    "        return -1"
   ]
  },
  {
   "cell_type": "code",
   "execution_count": null,
   "metadata": {},
   "outputs": [],
   "source": [
    "\"sliding window solution\"\n",
    "class Solution:\n",
    "    def minSumOfLengths(self, arr: List[int], target: int) -> int:\n",
    "        INF = len(arr) + 1\n",
    "        best_at_i = [INF]*len(arr) # the ith index represents the smallest length subarray we've found ending <= i that sums to target\n",
    "        best = INF # output \n",
    "        curr_sum = 0 # current sum between left and right\n",
    "        \n",
    "        left = 0\n",
    "        for right in range(len(arr)):\n",
    "            # update the running sum\n",
    "            curr_sum += arr[right]\n",
    "            \n",
    "            # arr is strictly positive, so shrink window until we're not above target\n",
    "            while curr_sum > target and left <= right:\n",
    "                curr_sum -= arr[left]\n",
    "                left += 1\n",
    "                \n",
    "            if curr_sum == target:\n",
    "                \"this is understandable: shortest prefix ends at right\"\n",
    "                best_at_i[right] = min(best_at_i[right-1], right - left + 1)\n",
    "                # we have a new shortest candidate to consider\n",
    "                \"this is ok since left<=right, thus the value will not be infinite\"\n",
    "                best = min(best, best_at_i[left-1] + right - left + 1)\n",
    "                \n",
    "            else:\n",
    "                # best we've seen is the previous best (overlaps to end if right == 0)\n",
    "                \"this is shortest prefix until right position, not ended at right position\"\n",
    "                best_at_i[right] = best_at_i[right-1]\n",
    "        \n",
    "        if best == INF:\n",
    "            return -1\n",
    "        return best"
   ]
  },
  {
   "cell_type": "code",
   "execution_count": 42,
   "metadata": {},
   "outputs": [
    {
     "name": "stdout",
     "output_type": "stream",
     "text": [
      "2\n"
     ]
    }
   ],
   "source": [
    "\"\"\"\n",
    "Sliding window avoids the repetition by keeping track of the left/right of the window\n",
    "Reason:\n",
    "1. answer consist of two window: [t1,t2] [t3,t4] where t1<=t2 < t3<=t4\n",
    "2. t2-t1 = shortest path ending no later than t3 which sums to target (take minimum wrt\n",
    "   collection of sliding window, ends at 1,2,...,t3)\n",
    "3. t4-t3 = path ending at t4 which sums to target (sliding window can obtain this)\n",
    "\"\"\"\n",
    "INF = len(arr)+1\n",
    "slid = [INF]*len(arr)\n",
    "mtill = [INF]*len(arr)\n",
    "best = INF\n",
    "l=0\n",
    "cursum = 0\n",
    "for r in range(len(arr)):\n",
    "    cursum += arr[r]\n",
    "    while cursum>target:\n",
    "        cursum -= arr[l]\n",
    "        l+=1\n",
    "    if cursum == target:\n",
    "        slid[r] = r-l+1\n",
    "        mtill[r] = min(mtill[r-1], slid[r])\n",
    "        best = min(best, mtill[l-1]+slid[r])\n",
    "    else:\n",
    "        mtill[r] = mtill[r-1]\n",
    "if best == INF:\n",
    "    print(-1)\n",
    "else:\n",
    "    print(best)"
   ]
  },
  {
   "cell_type": "code",
   "execution_count": null,
   "metadata": {},
   "outputs": [],
   "source": []
  }
 ],
 "metadata": {
  "kernelspec": {
   "display_name": "Python 3",
   "language": "python",
   "name": "python3"
  },
  "language_info": {
   "codemirror_mode": {
    "name": "ipython",
    "version": 3
   },
   "file_extension": ".py",
   "mimetype": "text/x-python",
   "name": "python",
   "nbconvert_exporter": "python",
   "pygments_lexer": "ipython3",
   "version": "3.7.7"
  }
 },
 "nbformat": 4,
 "nbformat_minor": 4
}
