{
 "cells": [
  {
   "cell_type": "code",
   "execution_count": 11,
   "metadata": {},
   "outputs": [
    {
     "data": {
      "text/plain": [
       "4"
      ]
     },
     "execution_count": 11,
     "metadata": {},
     "output_type": "execute_result"
    }
   ],
   "source": [
    "amount = 5\n",
    "coins = [1,2,5]\n",
    "change(amount, coins)"
   ]
  },
  {
   "cell_type": "code",
   "execution_count": 9,
   "metadata": {},
   "outputs": [],
   "source": [
    "def change(amount, coins):\n",
    "    n = len(coins)\n",
    "    coins.sort(reverse=True)\n",
    "    def dfs(t,i):\n",
    "        if i==n-1:\n",
    "            if t%coins[i] == 0: return 1\n",
    "            else: return 0\n",
    "        else:\n",
    "            c = t//coins[i]\n",
    "            nums = 0\n",
    "            for j in range(c+1):\n",
    "                nums += dfs(t-coins[i]*j,i+1)\n",
    "            return nums\n",
    "\n",
    "    return dfs(amount, 0)"
   ]
  },
  {
   "cell_type": "code",
   "execution_count": 12,
   "metadata": {},
   "outputs": [
    {
     "data": {
      "text/plain": [
       "35502874"
      ]
     },
     "execution_count": 12,
     "metadata": {},
     "output_type": "execute_result"
    }
   ],
   "source": [
    "coins = [3,5,7,8,9,10,11]\n",
    "amount = 500\n",
    "change(amount, coins)"
   ]
  },
  {
   "cell_type": "code",
   "execution_count": null,
   "metadata": {},
   "outputs": [],
   "source": [
    "\"这个算法还没重复，挺厉害\"\n",
    "\"不重复是因为它按顺序往里放不同的coin，因此因有一种顺序\"\n",
    "def change(amount, coins):\n",
    "    dp = [0 for _ in range(amount+1)]\n",
    "    for currCoin in coins:\n",
    "        for currAmount in range(currCoin, amount+1):\n",
    "            dp[currAmount] += dp[currAmount - currCoin]\n",
    "    return dp[-1]"
   ]
  },
  {
   "cell_type": "code",
   "execution_count": null,
   "metadata": {},
   "outputs": [],
   "source": [
    "def change(amount，coins):\n",
    "    dp = [0] * (amount + 1)             # DP Array of size (Amount +1) initialized to 0\n",
    "    dp[0] = 1\n",
    "\n",
    "    for currCoin in coins:\n",
    "        for currAmount in range(currCoin, amount + 1):\n",
    "            dp[currAmount] += dp[currAmount - currCoin]\n",
    "\n",
    "    return dp[-1]"
   ]
  },
  {
   "cell_type": "code",
   "execution_count": null,
   "metadata": {},
   "outputs": [],
   "source": []
  }
 ],
 "metadata": {
  "kernelspec": {
   "display_name": "Python 3",
   "language": "python",
   "name": "python3"
  },
  "language_info": {
   "codemirror_mode": {
    "name": "ipython",
    "version": 3
   },
   "file_extension": ".py",
   "mimetype": "text/x-python",
   "name": "python",
   "nbconvert_exporter": "python",
   "pygments_lexer": "ipython3",
   "version": "3.7.7"
  }
 },
 "nbformat": 4,
 "nbformat_minor": 4
}
