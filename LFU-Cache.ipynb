{
 "cells": [
  {
   "cell_type": "code",
   "execution_count": 28,
   "id": "d989eb75-5880-4284-a5de-221b68ab24cf",
   "metadata": {},
   "outputs": [],
   "source": [
    "\"Time Limit Exceeded: consider using heap\"\n",
    "class LFUCache:\n",
    "\n",
    "    def __init__(self, capacity):\n",
    "        self.kd = {}\n",
    "        self.uc = {}\n",
    "        self.cap = capacity\n",
    "        self.l = 0\n",
    "\n",
    "    def get(self, key):\n",
    "        if key in self.kd:\n",
    "            self.kd[key] = self.kd.pop(key)\n",
    "            self.uc[key] = self.uc.pop(key)+1\n",
    "            return self.kd[key]\n",
    "        return -1\n",
    "\n",
    "    def put(self, key, value):\n",
    "        if key in self.kd:\n",
    "            self.kd.pop(key)\n",
    "            self.kd[key] = value\n",
    "            self.uc[key] = self.uc.pop(key)+1\n",
    "            return\n",
    "        if self.l==self.cap:\n",
    "            self.uc = {k:v for k,v in sorted(self.uc.items(), key=lambda item:item[1])}\n",
    "            ele = next(iter(self.uc))\n",
    "            self.uc.pop(ele)\n",
    "            self.kd.pop(ele)\n",
    "            self.l -= 1\n",
    "        self.uc[key] = 1\n",
    "        self.kd[key] = value\n",
    "        self.l +=1"
   ]
  },
  {
   "cell_type": "code",
   "execution_count": null,
   "id": "b410f291-fd03-431f-b826-d7a0bfb15f08",
   "metadata": {},
   "outputs": [],
   "source": []
  }
 ],
 "metadata": {
  "kernelspec": {
   "display_name": "Python 3 (ipykernel)",
   "language": "python",
   "name": "python3"
  },
  "language_info": {
   "codemirror_mode": {
    "name": "ipython",
    "version": 3
   },
   "file_extension": ".py",
   "mimetype": "text/x-python",
   "name": "python",
   "nbconvert_exporter": "python",
   "pygments_lexer": "ipython3",
   "version": "3.7.7"
  }
 },
 "nbformat": 4,
 "nbformat_minor": 5
}
