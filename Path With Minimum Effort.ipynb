{
 "cells": [
  {
   "cell_type": "code",
   "execution_count": 12,
   "metadata": {},
   "outputs": [],
   "source": [
    "heights = [[1,2,2],[3,8,2],[5,3,5]]"
   ]
  },
  {
   "cell_type": "code",
   "execution_count": 13,
   "metadata": {},
   "outputs": [],
   "source": [
    "mat = [[0 for _ in heights] for _ in heights[0]]"
   ]
  },
  {
   "cell_type": "code",
   "execution_count": 38,
   "metadata": {},
   "outputs": [],
   "source": [
    "\"IF we move only right & down\"\n",
    "M = len(heights)\n",
    "N = len(heights[0])\n",
    "\n",
    "for j in range(1,N):\n",
    "    mat[0][j] = abs(heights[0][j] - heights[0][j-1])\n",
    "    mat[0][j] = max(mat[0][j], mat[0][j-1])\n",
    "for i in range(1,M):\n",
    "    mat[i][0] = abs(heights[i][0] - heights[i-1][0])\n",
    "    mat[i][0] = max(mat[i][0], mat[i-1][0])\n",
    "    \n",
    "for i in range(1,M):\n",
    "    for j in range(1,N):\n",
    "        down = max(mat[i-1][j], abs(heights[i][j]-heights[i-1][j]))\n",
    "        right= max(mat[i][j-1], abs(heights[i][j]-heights[i][j-1]))\n",
    "        mat[i][j] = min(down, right)"
   ]
  },
  {
   "cell_type": "code",
   "execution_count": 61,
   "metadata": {},
   "outputs": [],
   "source": [
    "\"Now we are allowed to move also left&up\"\n",
    "M = len(heights)\n",
    "N = len(heights[0])\n",
    "\"re-visit doesn't make sense as it don't improve the result at all\"\n",
    "visited = {(0,0)}\n",
    "\n",
    "def backtrack(i,j):\n",
    "    if i==M-1 and j==N-1:\n",
    "        return 0\n",
    "    vals = []\n",
    "    pos = []\n",
    "    for (k,l) in (i-1,j),(i+1,j),(i,j-1),(i,j+1):\n",
    "        if 0<=k<M and 0<=l<N and (k,l) not in visited:\n",
    "            vals.append(max(abs(heights[k][l]-heights[i][j]), backtrack(k,l)))\n",
    "            pos.append((k,l))\n",
    "    minval = min(vals)\n",
    "    minpos = [pos[p] for p in range(len(vals)) if vals[p]==minval]\n",
    "    "
   ]
  },
  {
   "cell_type": "code",
   "execution_count": 84,
   "metadata": {},
   "outputs": [],
   "source": [
    "\"Dijkstra's algorithm: visited set contains shortest path from start point\"\n",
    "M,N = len(heights),len(heights[0])\n",
    "min_efforts = [[sys.maxsize for j in range(N)] for i in range(M)]\n",
    "min_efforts[0][0] = 0\n",
    "pq = [(0,0,0)]\n",
    "visited = set()\n",
    "\n",
    "while pq:\n",
    "    \"\"\"\n",
    "    any incomplete route will be considered as long as its effort is smaller than \n",
    "    the effort of a completed route which is selected according to some interesting \n",
    "    principle\n",
    "    \"\"\" \n",
    "    min_e,i,j = heapq.heappop(pq)\n",
    "    if i==M-1 and j==N-1:\n",
    "        return min_e\n",
    "    \"visit in one possible route with min effort = no visit in any other route?\"\n",
    "    visited.add((i,j))\n",
    "    \n",
    "    for (k,l) in (i+1,j),(i-1,j),(i,j+1),(i,j-1):\n",
    "        if 0<=k<M and 0<=l<N and (k,l) not in visited:\n",
    "            new_min_e = max(min_e, abs(heights[k][l] - heights[i][j]))\n",
    "            if new_min_e < min_efforts[k][l]:\n",
    "                min_efforts[k][l] = new_min_e\n",
    "                heapq.heappush(new_min_e,k,l)"
   ]
  },
  {
   "cell_type": "code",
   "execution_count": 94,
   "metadata": {},
   "outputs": [
    {
     "name": "stdout",
     "output_type": "stream",
     "text": [
      "2\n"
     ]
    }
   ],
   "source": [
    "\"Re-implement Dikigisitistier\"\n",
    "M,N = len(heights), len(heights[0])\n",
    "min_efforts = [[sys.maxsize for _ in heights] for _ in heights[0]]\n",
    "min_efforts[0][0] = 0\n",
    "hq = [(0,0,0)]\n",
    "visited = set()\n",
    "\n",
    "while hq:\n",
    "    min_e,i,j = heapq.heappop(hq)\n",
    "    if i==M-1 and j==N-1:\n",
    "        print(min_e)\n",
    "        break\n",
    "    visited.add((i,j))\n",
    "    \n",
    "    for (k,l) in (i+1,j),(i-1,j),(i,j+1),(i,j-1):\n",
    "        if 0<=k<M and 0<=l<N and (k,l) not in visited:\n",
    "            new_min_e = max(min_e, abs(heights[k][l] - heights[i][j]))\n",
    "            if new_min_e < min_efforts[k][l]:\n",
    "                min_efforts[k][l] = new_min_e\n",
    "                heapq.heappush(hq,(new_min_e,k,l))"
   ]
  },
  {
   "cell_type": "code",
   "execution_count": 98,
   "metadata": {},
   "outputs": [
    {
     "name": "stdout",
     "output_type": "stream",
     "text": [
      "2\n"
     ]
    }
   ],
   "source": [
    "\"Re-implement: Dijialsidjlsaij\"\n",
    "\"heap queue + visited set + min_efforts table\"\n",
    "m,n = len(heights), len(heights[0])\n",
    "min_efforts = [[sys.maxsize for _ in heights[0]] for _ in heights]\n",
    "min_efforts[0][0] = 0\n",
    "pq = [(0,0,0)]\n",
    "visited = set()\n",
    "\n",
    "while pq:\n",
    "    min_e,i,j = heapq.heappop(pq)\n",
    "    if i==m-1 and j==n-1:\n",
    "        print(min_e)\n",
    "        break\n",
    "    visited.add((i,j))\n",
    "    for (k,l) in (i+1,j),(i-1,j),(i,j+1),(i,j-1):\n",
    "        if 0<=k<m and 0<=l<n and (k,l) not in visited:\n",
    "            path_e = max(min_e, abs(heights[k][l] - heights[i][j]))\n",
    "            if path_e < min_efforts[k][l]:\n",
    "                min_efforts[k][l] = path_e\n",
    "                heapq.heappush(pq,(path_e,k,l))"
   ]
  },
  {
   "cell_type": "code",
   "execution_count": null,
   "metadata": {},
   "outputs": [],
   "source": []
  },
  {
   "cell_type": "code",
   "execution_count": null,
   "metadata": {},
   "outputs": [],
   "source": []
  },
  {
   "cell_type": "code",
   "execution_count": null,
   "metadata": {},
   "outputs": [],
   "source": []
  },
  {
   "cell_type": "code",
   "execution_count": null,
   "metadata": {},
   "outputs": [],
   "source": []
  },
  {
   "cell_type": "code",
   "execution_count": null,
   "metadata": {},
   "outputs": [],
   "source": []
  },
  {
   "cell_type": "code",
   "execution_count": null,
   "metadata": {},
   "outputs": [],
   "source": []
  },
  {
   "cell_type": "code",
   "execution_count": 88,
   "metadata": {},
   "outputs": [
    {
     "data": {
      "text/plain": [
       "2"
      ]
     },
     "execution_count": 88,
     "metadata": {},
     "output_type": "execute_result"
    }
   ],
   "source": [
    "\"So we are supposed to use this ~heapq library which smoothen the operation\"\n",
    "\"Dijkstra's algorithm: visited set contains shortest path from start point\"\n",
    "def minimumEffortPath(heights):\n",
    "    m,n=len(heights),len(heights[0])\n",
    "    \"sys.maxsize here is used to represent inf\"\n",
    "    min_efforts=[[sys.maxsize]*n for _ in range(m)]       #Relaxing the nodes\n",
    "    min_efforts[0][0]=0\n",
    "    directions=[(0,1),(1,0),(-1,0),(0,-1)]\n",
    "    pq=[(0,0,0)]\n",
    "    visited=set()\n",
    "    \"as long as pq is not empty, while loop continues\"\n",
    "    while pq:\n",
    "        min_e,i,j=heapq.heappop(pq)\n",
    "        if i==m-1 and j==n-1:                  \n",
    "            return min_efforts[m-1][n-1]\n",
    "        visited.add((i,j))\n",
    "        for d in directions:\n",
    "            ni,nj=i+d[0],j+d[1]\n",
    "            if 0<=ni<m and 0<=nj<n and (ni,nj) not in visited:\n",
    "                new_min_e=max(min_e,abs(heights[i][j]-heights[ni][nj]))\n",
    "                if new_min_e<min_efforts[ni][nj]:\n",
    "                    min_efforts[ni][nj]=new_min_e\n",
    "                    heapq.heappush(pq,(new_min_e,ni,nj))\n",
    "minimumEffortPath(heights)"
   ]
  },
  {
   "cell_type": "code",
   "execution_count": 81,
   "metadata": {},
   "outputs": [
    {
     "data": {
      "text/plain": [
       "(0, 0, 0)"
      ]
     },
     "execution_count": 81,
     "metadata": {},
     "output_type": "execute_result"
    }
   ],
   "source": [
    "heapq.heappop(pq)"
   ]
  },
  {
   "cell_type": "code",
   "execution_count": 82,
   "metadata": {},
   "outputs": [
    {
     "data": {
      "text/plain": [
       "[]"
      ]
     },
     "execution_count": 82,
     "metadata": {},
     "output_type": "execute_result"
    }
   ],
   "source": [
    "pq"
   ]
  },
  {
   "cell_type": "code",
   "execution_count": 83,
   "metadata": {},
   "outputs": [],
   "source": [
    "#pq = [(0,0,0)]\n",
    "if pq:\n",
    "    print(True)"
   ]
  },
  {
   "cell_type": "code",
   "execution_count": 74,
   "metadata": {},
   "outputs": [],
   "source": [
    "import heapq\n",
    "import sys"
   ]
  },
  {
   "cell_type": "code",
   "execution_count": 76,
   "metadata": {},
   "outputs": [
    {
     "data": {
      "text/plain": [
       "[9223372036854775807, 9223372036854775807, 9223372036854775807]"
      ]
     },
     "execution_count": 76,
     "metadata": {},
     "output_type": "execute_result"
    }
   ],
   "source": [
    "[sys.maxsize]*3"
   ]
  },
  {
   "cell_type": "code",
   "execution_count": null,
   "metadata": {},
   "outputs": [],
   "source": []
  }
 ],
 "metadata": {
  "kernelspec": {
   "display_name": "Python 3",
   "language": "python",
   "name": "python3"
  },
  "language_info": {
   "codemirror_mode": {
    "name": "ipython",
    "version": 3
   },
   "file_extension": ".py",
   "mimetype": "text/x-python",
   "name": "python",
   "nbconvert_exporter": "python",
   "pygments_lexer": "ipython3",
   "version": "3.7.7"
  }
 },
 "nbformat": 4,
 "nbformat_minor": 4
}
