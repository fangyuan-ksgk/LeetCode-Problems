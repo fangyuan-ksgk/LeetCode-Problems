{
 "cells": [
  {
   "cell_type": "code",
   "execution_count": 5,
   "id": "b5ebe7f6-56fb-4979-b770-bcf9c877ef9d",
   "metadata": {},
   "outputs": [],
   "source": [
    "heights = [4,3,2,1]"
   ]
  },
  {
   "cell_type": "code",
   "execution_count": 8,
   "id": "fb07c47d-3111-4e93-8bd5-f85631c48dcf",
   "metadata": {},
   "outputs": [],
   "source": [
    "heights = [1,3,2,4]"
   ]
  },
  {
   "cell_type": "code",
   "execution_count": 11,
   "id": "643ac706-23ad-4828-aa0e-9a35af89730d",
   "metadata": {},
   "outputs": [],
   "source": [
    "heights = [2,2,2,2]"
   ]
  },
  {
   "cell_type": "code",
   "execution_count": 14,
   "id": "69980139-b4b9-4aa5-b3e5-350f7b8c3eb3",
   "metadata": {},
   "outputs": [],
   "source": [
    "\"This one is extremely slow, note that the .insert(0,i) is very, very slow\"\n",
    "\"The fast answer changes this to .append and then reverse the list at the end\"\n",
    "def findBuildings(heights):\n",
    "    stack = []\n",
    "    maxh = 0\n",
    "    n = len(heights)\n",
    "    for i in range(n-1,-1,-1):\n",
    "        if heights[i]>maxh:\n",
    "            stack.insert(0,i)\n",
    "            maxh = heights[i]\n",
    "    return stack"
   ]
  },
  {
   "cell_type": "code",
   "execution_count": 19,
   "id": "7986443c-4d5f-432d-9ec7-407b1c5cb918",
   "metadata": {},
   "outputs": [],
   "source": [
    "def findBuildings(heights):\n",
    "    stack = []\n",
    "    maxh = 0\n",
    "    n = len(heights)\n",
    "    for i in range(n-1,-1,-1):\n",
    "        if heights[i]>maxh:\n",
    "            stack.append(i)\n",
    "            maxh = heights[i]\n",
    "    return stack[::-1]"
   ]
  },
  {
   "cell_type": "code",
   "execution_count": 15,
   "id": "f21c1243-84fe-47cf-92e5-54218ea4eae1",
   "metadata": {},
   "outputs": [],
   "source": [
    "heights = [4,2,3,1]"
   ]
  },
  {
   "cell_type": "code",
   "execution_count": 18,
   "id": "f780e559-fadb-45e7-92a8-4a0d9c544b0e",
   "metadata": {},
   "outputs": [
    {
     "data": {
      "text/plain": [
       "[3, 1, 2, 0]"
      ]
     },
     "execution_count": 18,
     "metadata": {},
     "output_type": "execute_result"
    }
   ],
   "source": [
    "n = len(heights)\n",
    "sorted(range(n), key=lambda i: heights[i])"
   ]
  },
  {
   "cell_type": "code",
   "execution_count": null,
   "id": "a1c6cb14-f7aa-4bb5-810c-6c8169ceb1fd",
   "metadata": {},
   "outputs": [],
   "source": [
    "\n",
    "    "
   ]
  }
 ],
 "metadata": {
  "kernelspec": {
   "display_name": "Python 3 (ipykernel)",
   "language": "python",
   "name": "python3"
  },
  "language_info": {
   "codemirror_mode": {
    "name": "ipython",
    "version": 3
   },
   "file_extension": ".py",
   "mimetype": "text/x-python",
   "name": "python",
   "nbconvert_exporter": "python",
   "pygments_lexer": "ipython3",
   "version": "3.7.7"
  }
 },
 "nbformat": 4,
 "nbformat_minor": 5
}
