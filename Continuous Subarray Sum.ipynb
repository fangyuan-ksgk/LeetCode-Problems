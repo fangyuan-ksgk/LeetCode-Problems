{
 "cells": [
  {
   "cell_type": "code",
   "execution_count": 29,
   "id": "7dca3823-d47e-4fc8-9193-1c167888d648",
   "metadata": {},
   "outputs": [
    {
     "data": {
      "text/plain": [
       "True"
      ]
     },
     "execution_count": 29,
     "metadata": {},
     "output_type": "execute_result"
    }
   ],
   "source": [
    "nums = [23,2,4,6,7]\n",
    "k = 6\n",
    "checkSubarraySum(nums,k)"
   ]
  },
  {
   "cell_type": "code",
   "execution_count": 30,
   "id": "3bed6940-3a1b-49c7-923f-c1fba93fdc71",
   "metadata": {},
   "outputs": [
    {
     "data": {
      "text/plain": [
       "True"
      ]
     },
     "execution_count": 30,
     "metadata": {},
     "output_type": "execute_result"
    }
   ],
   "source": [
    "nums = [2,4,3]\n",
    "k = 6\n",
    "checkSubarraySum(nums,k)"
   ]
  },
  {
   "cell_type": "code",
   "execution_count": 25,
   "id": "aa1d1387-6870-426d-8fbf-cc9e60705170",
   "metadata": {},
   "outputs": [],
   "source": [
    "\"Time Limit Exceeded: Hashmap required to be used\"\n",
    "def checkSubarraySum(nums,k):\n",
    "    n = len(nums)\n",
    "    for l in range(n-1):\n",
    "        s = nums[l]\n",
    "        for r in range(l+1,n):\n",
    "            s += nums[r]\n",
    "            if s%k == 0:\n",
    "                return True\n",
    "    return False"
   ]
  },
  {
   "cell_type": "code",
   "execution_count": 28,
   "id": "27e92fb6-a447-4f51-9169-27d0d7b0b2a5",
   "metadata": {},
   "outputs": [],
   "source": [
    "def checkSubarraySum(nums,k):\n",
    "    hmap = {0:-1}\n",
    "    n = len(nums)\n",
    "    s = 0\n",
    "    for i in range(n):\n",
    "        s+=nums[i]\n",
    "        r = s%k\n",
    "        if r in hmap:\n",
    "            if i-hmap[r]>=2:\n",
    "                return True\n",
    "        else: \n",
    "            hmap[r] = i\n",
    "    return False"
   ]
  },
  {
   "cell_type": "code",
   "execution_count": 21,
   "id": "7aef7846-0d31-49f0-b354-dfe1c568899a",
   "metadata": {},
   "outputs": [
    {
     "name": "stdout",
     "output_type": "stream",
     "text": [
      "True\n",
      "0 1\n"
     ]
    }
   ],
   "source": [
    "n = len(nums)\n",
    "\n",
    "for l in range(n-1):\n",
    "    s = nums[l]\n",
    "    for r in range(l+1,n):\n",
    "        s += nums[r]\n",
    "        if s%k == 0:\n",
    "            print(True)\n",
    "            print(l,r)\n",
    "            break"
   ]
  },
  {
   "cell_type": "code",
   "execution_count": null,
   "id": "cee9c442-729c-4a58-bdc5-816646a9db98",
   "metadata": {},
   "outputs": [],
   "source": []
  }
 ],
 "metadata": {
  "kernelspec": {
   "display_name": "Python 3 (ipykernel)",
   "language": "python",
   "name": "python3"
  },
  "language_info": {
   "codemirror_mode": {
    "name": "ipython",
    "version": 3
   },
   "file_extension": ".py",
   "mimetype": "text/x-python",
   "name": "python",
   "nbconvert_exporter": "python",
   "pygments_lexer": "ipython3",
   "version": "3.7.7"
  }
 },
 "nbformat": 4,
 "nbformat_minor": 5
}
