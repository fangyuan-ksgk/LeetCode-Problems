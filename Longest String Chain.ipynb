{
 "cells": [
  {
   "cell_type": "code",
   "execution_count": 41,
   "metadata": {},
   "outputs": [],
   "source": [
    "words = [\"a\",\"b\",\"ba\",\"bca\",\"bda\",\"bdca\"]"
   ]
  },
  {
   "cell_type": "code",
   "execution_count": 39,
   "metadata": {},
   "outputs": [],
   "source": [
    "words = [\"xbc\",\"pcxbcf\",\"xb\",\"cxbc\",\"pcxbc\"]"
   ]
  },
  {
   "cell_type": "code",
   "execution_count": 42,
   "metadata": {},
   "outputs": [
    {
     "data": {
      "text/plain": [
       "4"
      ]
     },
     "execution_count": 42,
     "metadata": {},
     "output_type": "execute_result"
    }
   ],
   "source": [
    "longestStrChain(words)"
   ]
  },
  {
   "cell_type": "code",
   "execution_count": 36,
   "metadata": {},
   "outputs": [],
   "source": [
    "from collections import defaultdict"
   ]
  },
  {
   "cell_type": "code",
   "execution_count": 43,
   "metadata": {},
   "outputs": [],
   "source": [
    "\"Sweet, so it is about the WAY OF THINKING THIS PROBLEM\"\n",
    "def longestStrChain(words):\n",
    "    words = sorted(words, key=lambda x:len(x))\n",
    "    htable = defaultdict(int)\n",
    "    for word in words:\n",
    "        htable[word]=1\n",
    "    maxlen = 1\n",
    "    for word in words:\n",
    "        currlen = htable[word]\n",
    "        for i in range(len(word)):\n",
    "            pre_word = word[:i]+word[i+1:]\n",
    "            if pre_word in htable:\n",
    "                currlen = max(htable[pre_word]+1, currlen)\n",
    "        htable[word] = currlen\n",
    "        maxlen = max(maxlen, currlen)\n",
    "    return maxlen"
   ]
  },
  {
   "cell_type": "code",
   "execution_count": null,
   "metadata": {},
   "outputs": [],
   "source": [
    "\"这个思路更好一些，由左向右，每次得到最长，根据其上一元素最长+1之最大值\"\n",
    "class Solution:\n",
    "    def longestStrChain(self, words: List[str]) -> int:\n",
    "        words=sorted(words,key=lambda x:len(x))\n",
    "        hash=defaultdict(int)\n",
    "        for word in words:\n",
    "            hash[word]=1\n",
    "        \n",
    "        ans=0\n",
    "        for word in words:\n",
    "            cur_longest=hash[word]\n",
    "            for i in range(len(word)):\n",
    "                cur_string=word[:i]+word[i+1:]\n",
    "                if cur_string in hash and hash[cur_string]+1>cur_longest:\n",
    "                    cur_longest=hash[cur_string]+1\n",
    "            hash[word]=cur_longest\n",
    "            ans=max(ans,cur_longest)\n",
    "        return ans"
   ]
  },
  {
   "cell_type": "code",
   "execution_count": 30,
   "metadata": {},
   "outputs": [],
   "source": [
    "def longestStrChain(words):\n",
    "    wdict = {}\n",
    "    for w in words:\n",
    "        l = len(w)\n",
    "        if l in wdict:\n",
    "            wdict[l].append(w)\n",
    "        else:\n",
    "            wdict[l] = [w]\n",
    "    def dfs(l,word):\n",
    "        length = 1\n",
    "        if l==1 or (l-1) not in wdict:\n",
    "            return length\n",
    "        if (l-1) in wdict:\n",
    "            for w in wdict[l-1]:\n",
    "                if any([w==(word[:i]+word[i+1:]) for i in range(l)]):\n",
    "                    length = max(length, dfs(l-1,w)+1)\n",
    "        return length\n",
    "    \n",
    "    lmax = max(wdict)\n",
    "    lmin = min(wdict)\n",
    "    maxlen = 1\n",
    "    while (lmax-lmin+1)>=maxlen:\n",
    "        for word in wdict[lmax]:\n",
    "            maxlen = max(maxlen, dfs(lmax,word))\n",
    "        lmax-=1\n",
    "    return maxlen"
   ]
  },
  {
   "cell_type": "code",
   "execution_count": 34,
   "metadata": {},
   "outputs": [
    {
     "data": {
      "text/plain": [
       "['a', 'b', 'ba', 'bca', 'bda', 'bdca']"
      ]
     },
     "execution_count": 34,
     "metadata": {},
     "output_type": "execute_result"
    }
   ],
   "source": [
    "words"
   ]
  },
  {
   "cell_type": "code",
   "execution_count": 35,
   "metadata": {},
   "outputs": [
    {
     "data": {
      "text/plain": [
       "['a', 'b', 'ba', 'bca', 'bda', 'bdca']"
      ]
     },
     "execution_count": 35,
     "metadata": {},
     "output_type": "execute_result"
    }
   ],
   "source": [
    "sorted(words, key=lambda x:len(x))"
   ]
  },
  {
   "cell_type": "code",
   "execution_count": null,
   "metadata": {},
   "outputs": [],
   "source": [
    "def longestStrChain(words):\n",
    "    visited = set()\n",
    "    words_set = set(words)\n",
    "    global_max = 1\n",
    "    for word in sorted(words,key=(lambda x: -len(x))):\n",
    "        if len(word) <= global_max:\n",
    "            break\n",
    "        if word not in visited:\n",
    "            visited.add(word)\n",
    "            queue = deque()\n",
    "            queue.append([word,1])\n",
    "\n",
    "            while queue:\n",
    "                current, depth = queue.popleft()\n",
    "                if len(current) <= 1: continue\n",
    "                for i in range(len(current)):\n",
    "                    new_word = current[:-1] if i == len(current) - 1 else current[:i] + current[i+1:]\n",
    "                    if new_word in words_set and new_word not in visited:\n",
    "                        queue.append([new_word,depth+1])\n",
    "                        global_max = max(global_max, depth+1)\n",
    "                        visited.add(new_word)\n",
    "\n",
    "    return global_max"
   ]
  },
  {
   "cell_type": "code",
   "execution_count": null,
   "metadata": {},
   "outputs": [],
   "source": []
  },
  {
   "cell_type": "code",
   "execution_count": null,
   "metadata": {},
   "outputs": [],
   "source": []
  },
  {
   "cell_type": "code",
   "execution_count": null,
   "metadata": {},
   "outputs": [],
   "source": []
  },
  {
   "cell_type": "code",
   "execution_count": null,
   "metadata": {},
   "outputs": [],
   "source": []
  }
 ],
 "metadata": {
  "kernelspec": {
   "display_name": "Python 3",
   "language": "python",
   "name": "python3"
  },
  "language_info": {
   "codemirror_mode": {
    "name": "ipython",
    "version": 3
   },
   "file_extension": ".py",
   "mimetype": "text/x-python",
   "name": "python",
   "nbconvert_exporter": "python",
   "pygments_lexer": "ipython3",
   "version": "3.7.7"
  }
 },
 "nbformat": 4,
 "nbformat_minor": 4
}
