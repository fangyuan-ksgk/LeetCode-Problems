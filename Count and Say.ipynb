{
 "cells": [
  {
   "cell_type": "code",
   "execution_count": 24,
   "metadata": {},
   "outputs": [],
   "source": [
    "\"Classic Backtracking\"\n",
    "def countAndSay(n):\n",
    "    if n == 1:\n",
    "        return '1'\n",
    "    elif n > 1:\n",
    "        psay = countAndSay(n-1)\n",
    "        c = 0\n",
    "        n = psay[0]\n",
    "        say = ''\n",
    "        for p in psay:\n",
    "            if n == p:\n",
    "                c += 1\n",
    "            else:\n",
    "                say += (str(c) + n)\n",
    "                n = p\n",
    "                c = 1\n",
    "        say += (str(c) + n)\n",
    "        return say"
   ]
  },
  {
   "cell_type": "code",
   "execution_count": null,
   "metadata": {},
   "outputs": [],
   "source": []
  }
 ],
 "metadata": {
  "kernelspec": {
   "display_name": "Python 3",
   "language": "python",
   "name": "python3"
  },
  "language_info": {
   "codemirror_mode": {
    "name": "ipython",
    "version": 3
   },
   "file_extension": ".py",
   "mimetype": "text/x-python",
   "name": "python",
   "nbconvert_exporter": "python",
   "pygments_lexer": "ipython3",
   "version": "3.7.7"
  }
 },
 "nbformat": 4,
 "nbformat_minor": 4
}
