{
 "cells": [
  {
   "cell_type": "code",
   "execution_count": 160,
   "metadata": {},
   "outputs": [
    {
     "data": {
      "text/plain": [
       "0.0"
      ]
     },
     "execution_count": 160,
     "metadata": {},
     "output_type": "execute_result"
    }
   ],
   "source": [
    "n = 3\n",
    "k = 1\n",
    "row = 1\n",
    "column = 1\n",
    "\n",
    "knightProbability(n,k,row,column)"
   ]
  },
  {
   "cell_type": "code",
   "execution_count": 159,
   "metadata": {},
   "outputs": [],
   "source": [
    "\"my version: takes all the possible combos for staying inside over 0-k steps\"\n",
    "\"The usage of lru_cache speeds up the code for FREE\"\n",
    "\"but WHY??\"\n",
    "def knightProbability(n,k,row,column):\n",
    "    @lru_cache(None)\n",
    "    def dfs(r,c,k):\n",
    "        if k==0:\n",
    "            return 1\n",
    "        count[k]=0\n",
    "        for (a,b) in (2,1),(2,-1),(-2,1),(-2,-1),(1,2),(-1,2),(1,-2),(-1,-2):\n",
    "            if 0<=r+a<n and 0<=c+b<n:\n",
    "                count[k] += dfs(r+a,c+b,k-1)\n",
    "        return count[k]\n",
    "\n",
    "    count = [0]*(k+1)\n",
    "    count[0] = 1\n",
    "    return dfs(row,column,k)/8**k    "
   ]
  },
  {
   "cell_type": "code",
   "execution_count": 84,
   "metadata": {},
   "outputs": [],
   "source": [
    "\"Best Version: Using LRU-Cache speeds up the process\"\n",
    "\n",
    "from functools import lru_cache\n",
    "\n",
    "def knightProbability1(N, K, r, c):\n",
    "    @lru_cache(None)\n",
    "    def dp(r, c, k):\n",
    "        if r < 0 or r >= N or c < 0 or c >= N:\n",
    "            return 0\n",
    "        elif k <= 0:\n",
    "            return 1\n",
    "        res = 0\n",
    "        for a, b in [(2, 1), (-2, -1), (2, -1), (-2, 1)]:\n",
    "            res += dp(r + a, c + b, k - 1)\n",
    "            res += dp(r + b, c + a, k - 1)\n",
    "        return res / 8\n",
    "\n",
    "    return dp(r, c, K)"
   ]
  },
  {
   "cell_type": "code",
   "execution_count": 83,
   "metadata": {},
   "outputs": [
    {
     "data": {
      "text/plain": [
       "0.015625"
      ]
     },
     "execution_count": 83,
     "metadata": {},
     "output_type": "execute_result"
    }
   ],
   "source": [
    "knightProbability(n,k,row,column)"
   ]
  },
  {
   "cell_type": "code",
   "execution_count": null,
   "metadata": {},
   "outputs": [],
   "source": []
  }
 ],
 "metadata": {
  "kernelspec": {
   "display_name": "Python 3",
   "language": "python",
   "name": "python3"
  },
  "language_info": {
   "codemirror_mode": {
    "name": "ipython",
    "version": 3
   },
   "file_extension": ".py",
   "mimetype": "text/x-python",
   "name": "python",
   "nbconvert_exporter": "python",
   "pygments_lexer": "ipython3",
   "version": "3.7.7"
  }
 },
 "nbformat": 4,
 "nbformat_minor": 4
}
